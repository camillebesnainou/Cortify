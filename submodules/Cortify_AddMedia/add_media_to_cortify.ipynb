{
 "cells": [
  {
   "cell_type": "markdown",
   "metadata": {
    "collapsed": false
   },
   "source": [
    "# Add new stimuli to Cortify\n",
    "\n",
    "This notebook outlines the steps required to add new stimuli to Cortify. Before executing any cells, ensure the media files are correctly placed and follow the provided pre-execution instructions."
   ]
  },
  {
   "cell_type": "markdown",
   "metadata": {
    "collapsed": false
   },
   "source": [
    "## How-to\n",
    "\n",
    "### Before running this script:\n",
    "\n",
    "1. **place the media you wish to add to Cortify in `Data` > `CORTIFY` > `Cortify_Media` > `Add_Triggers` > `original_stimuli`**\n",
    "(accepted formats are: `.wav`, `.mp3`, `.mp4`)\n",
    "\n",
    "2. **add metadata to the new media files.**\n",
    "This is important for displaying playlists properly within the app and for user experience (which we want to be as good as possible to collect as much data as possible!)\n",
    "For this step, I recommend using the free software *Mp3tag*, particularly if dealing with several files at once\n",
    "N.B.: Accepted values for the metadata field 'Genre' are: 'Audiobooks', 'Musique', 'Podcasts', and 'Vidéos'\n",
    "\n",
    "3.  **add cover to musique file**\n",
    "save the cover image in `Data` > `CORTIFY` > `Cortify_Media` > `Image` and add the name of the cover image in the metadata field 'Album'\n",
    "4. **ajouter des miniatures aux vidéos**\n",
    "nommer l'image par le nom du fichier et l'enregistrer dans `Data` > `CORTIFY` > `Cortify_Media` > `Image` > `Video thumbnails`\n",
    "\n",
    "(copier coller le dossier image dans la tablette après)\n",
    "\n",
    "### Run this script:\n",
    "\n",
    "1. It **creates a custom trigger signal** for every new media file, on the second channel of the audio (FYI, this process is SLOW for videos. Could probably be improved, but dealing with mp4 metadata in python was a pain in the butt at time of development)\n",
    "2. It **sorts the new media** in the subfolders matching the 'Genre' field of the metadata, in `Data` > `CORTIFY` > `Cortify_Media` > `Create_Playlists`\n",
    "3. It **creates a JSON playlist file** containing the metadata for all the available media\n",
    "\n",
    "### After running this script:\n",
    "1. Copy the contents of `Create_Playlists` (`media` and `metadata` folders) to the `Cortify` directory on the tablet's internal storage\n",
    "2. Put the tablet in the hands of a patient and enjoy effortless data collection!"
   ]
  },
  {
   "cell_type": "markdown",
   "metadata": {
    "collapsed": false
   },
   "source": [
    "## Importing Necessary Modules and Functions\n",
    "\n",
    "For the tasks in this notebook, custom functions from modules `create_triggers`, `genre_categorizer` and `create_JSON_playlist` are required."
   ]
  },
  {
   "cell_type": "code",
   "execution_count": 2,
   "metadata": {
    "collapsed": false
   },
   "outputs": [
    {
     "ename": "ModuleNotFoundError",
     "evalue": "No module named 'pandas'",
     "output_type": "error",
     "traceback": [
      "\u001B[1;31m---------------------------------------------------------------------------\u001B[0m",
      "\u001B[1;31mModuleNotFoundError\u001B[0m                       Traceback (most recent call last)",
      "\u001B[1;32mc:\\Users\\nadege\\Projects\\Cortify\\submodules\\Cortify_AddMedia\\add_media_to_cortify.ipynb Cell 4\u001B[0m line \u001B[0;36m3\n\u001B[0;32m      <a href='vscode-notebook-cell:/c%3A/Users/nadege/Projects/Cortify/submodules/Cortify_AddMedia/add_media_to_cortify.ipynb#W3sZmlsZQ%3D%3D?line=0'>1</a>\u001B[0m \u001B[39mfrom\u001B[39;00m \u001B[39mcreate_triggers\u001B[39;00m \u001B[39mimport\u001B[39;00m find_new_stim_and_add_triggers\n\u001B[0;32m      <a href='vscode-notebook-cell:/c%3A/Users/nadege/Projects/Cortify/submodules/Cortify_AddMedia/add_media_to_cortify.ipynb#W3sZmlsZQ%3D%3D?line=1'>2</a>\u001B[0m \u001B[39mfrom\u001B[39;00m \u001B[39mgenre_categorizer\u001B[39;00m \u001B[39mimport\u001B[39;00m sort_stim_with_triggers_to_genre_subfolders\n\u001B[1;32m----> <a href='vscode-notebook-cell:/c%3A/Users/nadege/Projects/Cortify/submodules/Cortify_AddMedia/add_media_to_cortify.ipynb#W3sZmlsZQ%3D%3D?line=2'>3</a>\u001B[0m \u001B[39mfrom\u001B[39;00m \u001B[39mcreate_JSON_playlist\u001B[39;00m \u001B[39mimport\u001B[39;00m create_json_playlist\n",
      "File \u001B[1;32mc:\\Users\\nadege\\Projects\\Cortify\\submodules\\Cortify_AddMedia\\create_JSON_playlist.py:6\u001B[0m\n\u001B[0;32m      4\u001B[0m from moviepy.video.io.VideoFileClip import VideoFileClip\n\u001B[0;32m      5\u001B[0m from tinytag import TinyTag\n\u001B[1;32m----> 6\u001B[0m import pandas as pd\n\u001B[0;32m      7\u001B[0m \n\u001B[0;32m      8\u001B[0m \"\"\"\n",
      "\u001B[1;31mModuleNotFoundError\u001B[0m: No module named 'pandas'"
     ]
    }
   ],
   "source": [
    "from create_triggers import find_new_stim_and_add_triggers\n",
    "from genre_categorizer import sort_stim_with_triggers_to_genre_subfolders\n",
    "from create_JSON_playlist import create_json_playlist"
   ]
  },
  {
   "cell_type": "markdown",
   "metadata": {
    "collapsed": false
   },
   "source": [
    "## Setting up paths\n",
    "\n",
    "To ensure seamless execution, we need to specify the path to the Cortify media. This will be used throughout the notebook to locate and save files."
   ]
  },
  {
   "cell_type": "code",
   "execution_count": 3,
   "metadata": {
    "collapsed": false
   },
   "outputs": [],
   "source": [
    "cortify_media_path = r\"C:\\Users\\nadege\\Data\\CORTIFY\\Cortify_Media\""
   ]
  },
  {
   "cell_type": "markdown",
   "metadata": {
    "collapsed": false
   },
   "source": [
    "## Adding Triggers to New Stimuli\n",
    "\n",
    "This is being handled by the functions imported from `create_triggers.py`.\n",
    "All of its functions are thoroughly documented, so refer to this file (and/or ask Nadège !) as needed."
   ]
  },
  {
   "cell_type": "code",
   "execution_count": 5,
   "metadata": {
    "collapsed": false
   },
   "outputs": [
    {
     "name": "stdout",
     "output_type": "stream",
     "text": [
      "Starting to process files...\n",
      "01 Andrew Codeman - Havanna\n",
      "Trigger positions saved to file: C:\\Users\\nadege\\Data\\CORTIFY\\Cortify_Media\\Add_Triggers\\triggers\\01 Andrew Codeman - Havanna_trigger.txt\n"
     ]
    },
    {
     "name": "stderr",
     "output_type": "stream",
     "text": [
      "Non standard genre name: Musique\n"
     ]
    },
    {
     "name": "stdout",
     "output_type": "stream",
     "text": [
      "Saving newly created stim file: C:\\Users\\nadege\\Data\\CORTIFY\\Cortify_Media\\Add_Triggers\\stimuli_with_triggers\\01 Andrew Codeman - Havanna.mp3\n",
      "01 Eric Van der Westen - Water Surface\n",
      "Trigger positions saved to file: C:\\Users\\nadege\\Data\\CORTIFY\\Cortify_Media\\Add_Triggers\\triggers\\01 Eric Van der Westen - Water Surface_trigger.txt\n"
     ]
    },
    {
     "name": "stderr",
     "output_type": "stream",
     "text": [
      "Non standard genre name: Musique\n"
     ]
    },
    {
     "name": "stdout",
     "output_type": "stream",
     "text": [
      "Saving newly created stim file: C:\\Users\\nadege\\Data\\CORTIFY\\Cortify_Media\\Add_Triggers\\stimuli_with_triggers\\01 Eric Van der Westen - Water Surface.mp3\n",
      "01 HoliznaPATREON - 2. Voyager\n",
      "Trigger positions saved to file: C:\\Users\\nadege\\Data\\CORTIFY\\Cortify_Media\\Add_Triggers\\triggers\\01 HoliznaPATREON - 2. Voyager_trigger.txt\n"
     ]
    },
    {
     "name": "stderr",
     "output_type": "stream",
     "text": [
      "Non standard genre name: Musique\n"
     ]
    },
    {
     "name": "stdout",
     "output_type": "stream",
     "text": [
      "Saving newly created stim file: C:\\Users\\nadege\\Data\\CORTIFY\\Cortify_Media\\Add_Triggers\\stimuli_with_triggers\\01 HoliznaPATREON - 2. Voyager.mp3\n",
      "01 HoliznaPATREON - Bell Pepper and Beef (skip the beef)\n",
      "Trigger positions saved to file: C:\\Users\\nadege\\Data\\CORTIFY\\Cortify_Media\\Add_Triggers\\triggers\\01 HoliznaPATREON - Bell Pepper and Beef (skip the beef)_trigger.txt\n"
     ]
    },
    {
     "name": "stderr",
     "output_type": "stream",
     "text": [
      "Non standard genre name: Musique\n"
     ]
    },
    {
     "name": "stdout",
     "output_type": "stream",
     "text": [
      "Saving newly created stim file: C:\\Users\\nadege\\Data\\CORTIFY\\Cortify_Media\\Add_Triggers\\stimuli_with_triggers\\01 HoliznaPATREON - Bell Pepper and Beef (skip the beef).mp3\n",
      "01 Ketsa - City Vibe\n",
      "Trigger positions saved to file: C:\\Users\\nadege\\Data\\CORTIFY\\Cortify_Media\\Add_Triggers\\triggers\\01 Ketsa - City Vibe_trigger.txt\n"
     ]
    },
    {
     "name": "stderr",
     "output_type": "stream",
     "text": [
      "Non standard genre name: Musique\n"
     ]
    },
    {
     "name": "stdout",
     "output_type": "stream",
     "text": [
      "Saving newly created stim file: C:\\Users\\nadege\\Data\\CORTIFY\\Cortify_Media\\Add_Triggers\\stimuli_with_triggers\\01 Ketsa - City Vibe.mp3\n",
      "01 The Ripplers Scrawny faces\n",
      "Trigger positions saved to file: C:\\Users\\nadege\\Data\\CORTIFY\\Cortify_Media\\Add_Triggers\\triggers\\01 The Ripplers Scrawny faces_trigger.txt\n"
     ]
    },
    {
     "name": "stderr",
     "output_type": "stream",
     "text": [
      "Non standard genre name: Musique\n"
     ]
    },
    {
     "name": "stdout",
     "output_type": "stream",
     "text": [
      "Saving newly created stim file: C:\\Users\\nadege\\Data\\CORTIFY\\Cortify_Media\\Add_Triggers\\stimuli_with_triggers\\01 The Ripplers Scrawny faces.mp3\n",
      "02 Andrew Codeman - Old Road\n",
      "Trigger positions saved to file: C:\\Users\\nadege\\Data\\CORTIFY\\Cortify_Media\\Add_Triggers\\triggers\\02 Andrew Codeman - Old Road_trigger.txt\n"
     ]
    },
    {
     "name": "stderr",
     "output_type": "stream",
     "text": [
      "Non standard genre name: Musique\n"
     ]
    },
    {
     "name": "stdout",
     "output_type": "stream",
     "text": [
      "Saving newly created stim file: C:\\Users\\nadege\\Data\\CORTIFY\\Cortify_Media\\Add_Triggers\\stimuli_with_triggers\\02 Andrew Codeman - Old Road.mp3\n",
      "02 Eric Van der Westen - Ici\n",
      "Trigger positions saved to file: C:\\Users\\nadege\\Data\\CORTIFY\\Cortify_Media\\Add_Triggers\\triggers\\02 Eric Van der Westen - Ici_trigger.txt\n"
     ]
    },
    {
     "name": "stderr",
     "output_type": "stream",
     "text": [
      "Non standard genre name: Musique\n"
     ]
    },
    {
     "name": "stdout",
     "output_type": "stream",
     "text": [
      "Saving newly created stim file: C:\\Users\\nadege\\Data\\CORTIFY\\Cortify_Media\\Add_Triggers\\stimuli_with_triggers\\02 Eric Van der Westen - Ici.mp3\n",
      "02 HoliznaPATREON - 4. Don't Look Up\n",
      "Trigger positions saved to file: C:\\Users\\nadege\\Data\\CORTIFY\\Cortify_Media\\Add_Triggers\\triggers\\02 HoliznaPATREON - 4. Don't Look Up_trigger.txt\n"
     ]
    },
    {
     "name": "stderr",
     "output_type": "stream",
     "text": [
      "Non standard genre name: Musique\n"
     ]
    },
    {
     "name": "stdout",
     "output_type": "stream",
     "text": [
      "Saving newly created stim file: C:\\Users\\nadege\\Data\\CORTIFY\\Cortify_Media\\Add_Triggers\\stimuli_with_triggers\\02 HoliznaPATREON - 4. Don't Look Up.mp3\n",
      "02 HoliznaPATREON - Swimming Bird\n",
      "Trigger positions saved to file: C:\\Users\\nadege\\Data\\CORTIFY\\Cortify_Media\\Add_Triggers\\triggers\\02 HoliznaPATREON - Swimming Bird_trigger.txt\n"
     ]
    },
    {
     "name": "stderr",
     "output_type": "stream",
     "text": [
      "Non standard genre name: Musique\n"
     ]
    },
    {
     "name": "stdout",
     "output_type": "stream",
     "text": [
      "Saving newly created stim file: C:\\Users\\nadege\\Data\\CORTIFY\\Cortify_Media\\Add_Triggers\\stimuli_with_triggers\\02 HoliznaPATREON - Swimming Bird.mp3\n",
      "02 Ketsa - Soul Feeling\n",
      "Trigger positions saved to file: C:\\Users\\nadege\\Data\\CORTIFY\\Cortify_Media\\Add_Triggers\\triggers\\02 Ketsa - Soul Feeling_trigger.txt\n"
     ]
    },
    {
     "name": "stderr",
     "output_type": "stream",
     "text": [
      "Non standard genre name: Musique\n"
     ]
    },
    {
     "name": "stdout",
     "output_type": "stream",
     "text": [
      "Saving newly created stim file: C:\\Users\\nadege\\Data\\CORTIFY\\Cortify_Media\\Add_Triggers\\stimuli_with_triggers\\02 Ketsa - Soul Feeling.mp3\n",
      "02 The Ripplers Roving\n",
      "Trigger positions saved to file: C:\\Users\\nadege\\Data\\CORTIFY\\Cortify_Media\\Add_Triggers\\triggers\\02 The Ripplers Roving_trigger.txt\n"
     ]
    },
    {
     "name": "stderr",
     "output_type": "stream",
     "text": [
      "Non standard genre name: Musique\n"
     ]
    },
    {
     "name": "stdout",
     "output_type": "stream",
     "text": [
      "Saving newly created stim file: C:\\Users\\nadege\\Data\\CORTIFY\\Cortify_Media\\Add_Triggers\\stimuli_with_triggers\\02 The Ripplers Roving.mp3\n",
      "03 Andrew Codeman - Mountain Wind\n",
      "Trigger positions saved to file: C:\\Users\\nadege\\Data\\CORTIFY\\Cortify_Media\\Add_Triggers\\triggers\\03 Andrew Codeman - Mountain Wind_trigger.txt\n"
     ]
    },
    {
     "name": "stderr",
     "output_type": "stream",
     "text": [
      "Non standard genre name: Musique\n"
     ]
    },
    {
     "name": "stdout",
     "output_type": "stream",
     "text": [
      "Saving newly created stim file: C:\\Users\\nadege\\Data\\CORTIFY\\Cortify_Media\\Add_Triggers\\stimuli_with_triggers\\03 Andrew Codeman - Mountain Wind.mp3\n",
      "03 Eric Van der Westen - Blue Is All That's Left\n",
      "Trigger positions saved to file: C:\\Users\\nadege\\Data\\CORTIFY\\Cortify_Media\\Add_Triggers\\triggers\\03 Eric Van der Westen - Blue Is All That's Left_trigger.txt\n"
     ]
    },
    {
     "name": "stderr",
     "output_type": "stream",
     "text": [
      "Non standard genre name: Musique\n"
     ]
    },
    {
     "name": "stdout",
     "output_type": "stream",
     "text": [
      "Saving newly created stim file: C:\\Users\\nadege\\Data\\CORTIFY\\Cortify_Media\\Add_Triggers\\stimuli_with_triggers\\03 Eric Van der Westen - Blue Is All That's Left.mp3\n",
      "03 HoliznaPATREON - 1. Don't Look Down\n",
      "Trigger positions saved to file: C:\\Users\\nadege\\Data\\CORTIFY\\Cortify_Media\\Add_Triggers\\triggers\\03 HoliznaPATREON - 1. Don't Look Down_trigger.txt\n"
     ]
    },
    {
     "name": "stderr",
     "output_type": "stream",
     "text": [
      "Non standard genre name: Musique\n"
     ]
    },
    {
     "name": "stdout",
     "output_type": "stream",
     "text": [
      "Saving newly created stim file: C:\\Users\\nadege\\Data\\CORTIFY\\Cortify_Media\\Add_Triggers\\stimuli_with_triggers\\03 HoliznaPATREON - 1. Don't Look Down.mp3\n",
      "03 HoliznaPATREON - Whatever Happens, Happens\n",
      "Trigger positions saved to file: C:\\Users\\nadege\\Data\\CORTIFY\\Cortify_Media\\Add_Triggers\\triggers\\03 HoliznaPATREON - Whatever Happens, Happens_trigger.txt\n"
     ]
    },
    {
     "name": "stderr",
     "output_type": "stream",
     "text": [
      "Non standard genre name: Musique\n"
     ]
    },
    {
     "name": "stdout",
     "output_type": "stream",
     "text": [
      "Saving newly created stim file: C:\\Users\\nadege\\Data\\CORTIFY\\Cortify_Media\\Add_Triggers\\stimuli_with_triggers\\03 HoliznaPATREON - Whatever Happens, Happens.mp3\n",
      "03 Ketsa - Calling Angels\n",
      "Trigger positions saved to file: C:\\Users\\nadege\\Data\\CORTIFY\\Cortify_Media\\Add_Triggers\\triggers\\03 Ketsa - Calling Angels_trigger.txt\n"
     ]
    },
    {
     "name": "stderr",
     "output_type": "stream",
     "text": [
      "Non standard genre name: Musique\n"
     ]
    },
    {
     "name": "stdout",
     "output_type": "stream",
     "text": [
      "Saving newly created stim file: C:\\Users\\nadege\\Data\\CORTIFY\\Cortify_Media\\Add_Triggers\\stimuli_with_triggers\\03 Ketsa - Calling Angels.mp3\n",
      "03 The Ripplers  Child Harold\n",
      "Trigger positions saved to file: C:\\Users\\nadege\\Data\\CORTIFY\\Cortify_Media\\Add_Triggers\\triggers\\03 The Ripplers  Child Harold_trigger.txt\n"
     ]
    },
    {
     "name": "stderr",
     "output_type": "stream",
     "text": [
      "Non standard genre name: Musique\n"
     ]
    },
    {
     "name": "stdout",
     "output_type": "stream",
     "text": [
      "Saving newly created stim file: C:\\Users\\nadege\\Data\\CORTIFY\\Cortify_Media\\Add_Triggers\\stimuli_with_triggers\\03 The Ripplers  Child Harold.mp3\n",
      "04 Eric Van der Westen - Mark\n",
      "Trigger positions saved to file: C:\\Users\\nadege\\Data\\CORTIFY\\Cortify_Media\\Add_Triggers\\triggers\\04 Eric Van der Westen - Mark_trigger.txt\n"
     ]
    },
    {
     "name": "stderr",
     "output_type": "stream",
     "text": [
      "Non standard genre name: Musique\n"
     ]
    },
    {
     "name": "stdout",
     "output_type": "stream",
     "text": [
      "Saving newly created stim file: C:\\Users\\nadege\\Data\\CORTIFY\\Cortify_Media\\Add_Triggers\\stimuli_with_triggers\\04 Eric Van der Westen - Mark.mp3\n",
      "04 HoliznaPATREON - 7. Radio Static\n",
      "Trigger positions saved to file: C:\\Users\\nadege\\Data\\CORTIFY\\Cortify_Media\\Add_Triggers\\triggers\\04 HoliznaPATREON - 7. Radio Static_trigger.txt\n"
     ]
    },
    {
     "name": "stderr",
     "output_type": "stream",
     "text": [
      "Non standard genre name: Musique\n"
     ]
    },
    {
     "name": "stdout",
     "output_type": "stream",
     "text": [
      "Saving newly created stim file: C:\\Users\\nadege\\Data\\CORTIFY\\Cortify_Media\\Add_Triggers\\stimuli_with_triggers\\04 HoliznaPATREON - 7. Radio Static.mp3\n",
      "04 HoliznaPATREON - Bebop\n",
      "Trigger positions saved to file: C:\\Users\\nadege\\Data\\CORTIFY\\Cortify_Media\\Add_Triggers\\triggers\\04 HoliznaPATREON - Bebop_trigger.txt\n"
     ]
    },
    {
     "name": "stderr",
     "output_type": "stream",
     "text": [
      "Non standard genre name: Musique\n"
     ]
    },
    {
     "name": "stdout",
     "output_type": "stream",
     "text": [
      "Saving newly created stim file: C:\\Users\\nadege\\Data\\CORTIFY\\Cortify_Media\\Add_Triggers\\stimuli_with_triggers\\04 HoliznaPATREON - Bebop.mp3\n",
      "04 Ketsa - Deep Wounds Need Healing\n",
      "Trigger positions saved to file: C:\\Users\\nadege\\Data\\CORTIFY\\Cortify_Media\\Add_Triggers\\triggers\\04 Ketsa - Deep Wounds Need Healing_trigger.txt\n"
     ]
    },
    {
     "name": "stderr",
     "output_type": "stream",
     "text": [
      "Non standard genre name: Musique\n"
     ]
    },
    {
     "name": "stdout",
     "output_type": "stream",
     "text": [
      "Saving newly created stim file: C:\\Users\\nadege\\Data\\CORTIFY\\Cortify_Media\\Add_Triggers\\stimuli_with_triggers\\04 Ketsa - Deep Wounds Need Healing.mp3\n",
      "04 The Ripplers  Dusk\n",
      "Trigger positions saved to file: C:\\Users\\nadege\\Data\\CORTIFY\\Cortify_Media\\Add_Triggers\\triggers\\04 The Ripplers  Dusk_trigger.txt\n"
     ]
    },
    {
     "name": "stderr",
     "output_type": "stream",
     "text": [
      "Non standard genre name: Musique\n"
     ]
    },
    {
     "name": "stdout",
     "output_type": "stream",
     "text": [
      "Saving newly created stim file: C:\\Users\\nadege\\Data\\CORTIFY\\Cortify_Media\\Add_Triggers\\stimuli_with_triggers\\04 The Ripplers  Dusk.mp3\n",
      "05 Eric Van der Westen - A Feather\n",
      "Trigger positions saved to file: C:\\Users\\nadege\\Data\\CORTIFY\\Cortify_Media\\Add_Triggers\\triggers\\05 Eric Van der Westen - A Feather_trigger.txt\n"
     ]
    },
    {
     "name": "stderr",
     "output_type": "stream",
     "text": [
      "Non standard genre name: Musique\n"
     ]
    },
    {
     "name": "stdout",
     "output_type": "stream",
     "text": [
      "Saving newly created stim file: C:\\Users\\nadege\\Data\\CORTIFY\\Cortify_Media\\Add_Triggers\\stimuli_with_triggers\\05 Eric Van der Westen - A Feather.mp3\n",
      "05 HoliznaPATREON - 3. Happy People\n",
      "Trigger positions saved to file: C:\\Users\\nadege\\Data\\CORTIFY\\Cortify_Media\\Add_Triggers\\triggers\\05 HoliznaPATREON - 3. Happy People_trigger.txt\n"
     ]
    },
    {
     "name": "stderr",
     "output_type": "stream",
     "text": [
      "Non standard genre name: Musique\n"
     ]
    },
    {
     "name": "stdout",
     "output_type": "stream",
     "text": [
      "Saving newly created stim file: C:\\Users\\nadege\\Data\\CORTIFY\\Cortify_Media\\Add_Triggers\\stimuli_with_triggers\\05 HoliznaPATREON - 3. Happy People.mp3\n",
      "05 HoliznaPATREON - Cruising\n",
      "Trigger positions saved to file: C:\\Users\\nadege\\Data\\CORTIFY\\Cortify_Media\\Add_Triggers\\triggers\\05 HoliznaPATREON - Cruising_trigger.txt\n"
     ]
    },
    {
     "name": "stderr",
     "output_type": "stream",
     "text": [
      "Non standard genre name: Musique\n"
     ]
    },
    {
     "name": "stdout",
     "output_type": "stream",
     "text": [
      "Saving newly created stim file: C:\\Users\\nadege\\Data\\CORTIFY\\Cortify_Media\\Add_Triggers\\stimuli_with_triggers\\05 HoliznaPATREON - Cruising.mp3\n",
      "05 Ketsa - Turn It On\n",
      "Trigger positions saved to file: C:\\Users\\nadege\\Data\\CORTIFY\\Cortify_Media\\Add_Triggers\\triggers\\05 Ketsa - Turn It On_trigger.txt\n"
     ]
    },
    {
     "name": "stderr",
     "output_type": "stream",
     "text": [
      "Non standard genre name: Musique\n"
     ]
    },
    {
     "name": "stdout",
     "output_type": "stream",
     "text": [
      "Saving newly created stim file: C:\\Users\\nadege\\Data\\CORTIFY\\Cortify_Media\\Add_Triggers\\stimuli_with_triggers\\05 Ketsa - Turn It On.mp3\n",
      "05 The Ripplers  Cindy\n",
      "Trigger positions saved to file: C:\\Users\\nadege\\Data\\CORTIFY\\Cortify_Media\\Add_Triggers\\triggers\\05 The Ripplers  Cindy_trigger.txt\n"
     ]
    },
    {
     "name": "stderr",
     "output_type": "stream",
     "text": [
      "Non standard genre name: Musique\n"
     ]
    },
    {
     "name": "stdout",
     "output_type": "stream",
     "text": [
      "Saving newly created stim file: C:\\Users\\nadege\\Data\\CORTIFY\\Cortify_Media\\Add_Triggers\\stimuli_with_triggers\\05 The Ripplers  Cindy.mp3\n",
      "06 Eric Van der Westen - Time-Out, Space-Out\n",
      "Trigger positions saved to file: C:\\Users\\nadege\\Data\\CORTIFY\\Cortify_Media\\Add_Triggers\\triggers\\06 Eric Van der Westen - Time-Out, Space-Out_trigger.txt\n"
     ]
    },
    {
     "name": "stderr",
     "output_type": "stream",
     "text": [
      "Non standard genre name: Musique\n"
     ]
    },
    {
     "name": "stdout",
     "output_type": "stream",
     "text": [
      "Saving newly created stim file: C:\\Users\\nadege\\Data\\CORTIFY\\Cortify_Media\\Add_Triggers\\stimuli_with_triggers\\06 Eric Van der Westen - Time-Out, Space-Out.mp3\n",
      "06 HoliznaPATREON - 5. Deep Within\n",
      "Trigger positions saved to file: C:\\Users\\nadege\\Data\\CORTIFY\\Cortify_Media\\Add_Triggers\\triggers\\06 HoliznaPATREON - 5. Deep Within_trigger.txt\n"
     ]
    },
    {
     "name": "stderr",
     "output_type": "stream",
     "text": [
      "Non standard genre name: Musique\n"
     ]
    },
    {
     "name": "stdout",
     "output_type": "stream",
     "text": [
      "Saving newly created stim file: C:\\Users\\nadege\\Data\\CORTIFY\\Cortify_Media\\Add_Triggers\\stimuli_with_triggers\\06 HoliznaPATREON - 5. Deep Within.mp3\n",
      "06 HoliznaPATREON - Easy Come Easy Go\n",
      "Trigger positions saved to file: C:\\Users\\nadege\\Data\\CORTIFY\\Cortify_Media\\Add_Triggers\\triggers\\06 HoliznaPATREON - Easy Come Easy Go_trigger.txt\n"
     ]
    },
    {
     "name": "stderr",
     "output_type": "stream",
     "text": [
      "Non standard genre name: Musique\n"
     ]
    },
    {
     "name": "stdout",
     "output_type": "stream",
     "text": [
      "Saving newly created stim file: C:\\Users\\nadege\\Data\\CORTIFY\\Cortify_Media\\Add_Triggers\\stimuli_with_triggers\\06 HoliznaPATREON - Easy Come Easy Go.mp3\n",
      "06 Ketsa - Top House\n",
      "Trigger positions saved to file: C:\\Users\\nadege\\Data\\CORTIFY\\Cortify_Media\\Add_Triggers\\triggers\\06 Ketsa - Top House_trigger.txt\n"
     ]
    },
    {
     "name": "stderr",
     "output_type": "stream",
     "text": [
      "Non standard genre name: Musique\n"
     ]
    },
    {
     "name": "stdout",
     "output_type": "stream",
     "text": [
      "Saving newly created stim file: C:\\Users\\nadege\\Data\\CORTIFY\\Cortify_Media\\Add_Triggers\\stimuli_with_triggers\\06 Ketsa - Top House.mp3\n",
      "06 The Ripplers  Tears of Blood Fade\n",
      "Trigger positions saved to file: C:\\Users\\nadege\\Data\\CORTIFY\\Cortify_Media\\Add_Triggers\\triggers\\06 The Ripplers  Tears of Blood Fade_trigger.txt\n"
     ]
    },
    {
     "name": "stderr",
     "output_type": "stream",
     "text": [
      "Non standard genre name: Musique\n"
     ]
    },
    {
     "name": "stdout",
     "output_type": "stream",
     "text": [
      "Saving newly created stim file: C:\\Users\\nadege\\Data\\CORTIFY\\Cortify_Media\\Add_Triggers\\stimuli_with_triggers\\06 The Ripplers  Tears of Blood Fade.mp3\n",
      "07 Eric Van der Westen - A Left Hook\n",
      "Trigger positions saved to file: C:\\Users\\nadege\\Data\\CORTIFY\\Cortify_Media\\Add_Triggers\\triggers\\07 Eric Van der Westen - A Left Hook_trigger.txt\n"
     ]
    },
    {
     "name": "stderr",
     "output_type": "stream",
     "text": [
      "Non standard genre name: Musique\n"
     ]
    },
    {
     "name": "stdout",
     "output_type": "stream",
     "text": [
      "Saving newly created stim file: C:\\Users\\nadege\\Data\\CORTIFY\\Cortify_Media\\Add_Triggers\\stimuli_with_triggers\\07 Eric Van der Westen - A Left Hook.mp3\n",
      "07 HoliznaPATREON - 8. Years Lost\n",
      "Trigger positions saved to file: C:\\Users\\nadege\\Data\\CORTIFY\\Cortify_Media\\Add_Triggers\\triggers\\07 HoliznaPATREON - 8. Years Lost_trigger.txt\n"
     ]
    },
    {
     "name": "stderr",
     "output_type": "stream",
     "text": [
      "Non standard genre name: Musique\n"
     ]
    },
    {
     "name": "stdout",
     "output_type": "stream",
     "text": [
      "Saving newly created stim file: C:\\Users\\nadege\\Data\\CORTIFY\\Cortify_Media\\Add_Triggers\\stimuli_with_triggers\\07 HoliznaPATREON - 8. Years Lost.mp3\n",
      "07 HoliznaPATREON - Fresh Bounty\n",
      "Trigger positions saved to file: C:\\Users\\nadege\\Data\\CORTIFY\\Cortify_Media\\Add_Triggers\\triggers\\07 HoliznaPATREON - Fresh Bounty_trigger.txt\n"
     ]
    },
    {
     "name": "stderr",
     "output_type": "stream",
     "text": [
      "Non standard genre name: Musique\n"
     ]
    },
    {
     "name": "stdout",
     "output_type": "stream",
     "text": [
      "Saving newly created stim file: C:\\Users\\nadege\\Data\\CORTIFY\\Cortify_Media\\Add_Triggers\\stimuli_with_triggers\\07 HoliznaPATREON - Fresh Bounty.mp3\n",
      "07 Ketsa - Mistakes Are For Learning\n",
      "Trigger positions saved to file: C:\\Users\\nadege\\Data\\CORTIFY\\Cortify_Media\\Add_Triggers\\triggers\\07 Ketsa - Mistakes Are For Learning_trigger.txt\n"
     ]
    },
    {
     "name": "stderr",
     "output_type": "stream",
     "text": [
      "Non standard genre name: Musique\n"
     ]
    },
    {
     "name": "stdout",
     "output_type": "stream",
     "text": [
      "Saving newly created stim file: C:\\Users\\nadege\\Data\\CORTIFY\\Cortify_Media\\Add_Triggers\\stimuli_with_triggers\\07 Ketsa - Mistakes Are For Learning.mp3\n",
      "07 The Ripplers  Shiny Eyes\n",
      "Trigger positions saved to file: C:\\Users\\nadege\\Data\\CORTIFY\\Cortify_Media\\Add_Triggers\\triggers\\07 The Ripplers  Shiny Eyes_trigger.txt\n"
     ]
    },
    {
     "name": "stderr",
     "output_type": "stream",
     "text": [
      "Non standard genre name: Musique\n"
     ]
    },
    {
     "name": "stdout",
     "output_type": "stream",
     "text": [
      "Saving newly created stim file: C:\\Users\\nadege\\Data\\CORTIFY\\Cortify_Media\\Add_Triggers\\stimuli_with_triggers\\07 The Ripplers  Shiny Eyes.mp3\n",
      "08 Eric Van der Westen - Across The Bosphorus\n",
      "Trigger positions saved to file: C:\\Users\\nadege\\Data\\CORTIFY\\Cortify_Media\\Add_Triggers\\triggers\\08 Eric Van der Westen - Across The Bosphorus_trigger.txt\n"
     ]
    },
    {
     "name": "stderr",
     "output_type": "stream",
     "text": [
      "Non standard genre name: Musique\n"
     ]
    },
    {
     "name": "stdout",
     "output_type": "stream",
     "text": [
      "Saving newly created stim file: C:\\Users\\nadege\\Data\\CORTIFY\\Cortify_Media\\Add_Triggers\\stimuli_with_triggers\\08 Eric Van der Westen - Across The Bosphorus.mp3\n",
      "08 HoliznaPATREON - 10. Cassette Deck\n",
      "Trigger positions saved to file: C:\\Users\\nadege\\Data\\CORTIFY\\Cortify_Media\\Add_Triggers\\triggers\\08 HoliznaPATREON - 10. Cassette Deck_trigger.txt\n"
     ]
    },
    {
     "name": "stderr",
     "output_type": "stream",
     "text": [
      "Non standard genre name: Musique\n"
     ]
    },
    {
     "name": "stdout",
     "output_type": "stream",
     "text": [
      "Saving newly created stim file: C:\\Users\\nadege\\Data\\CORTIFY\\Cortify_Media\\Add_Triggers\\stimuli_with_triggers\\08 HoliznaPATREON - 10. Cassette Deck.mp3\n",
      "08 HoliznaPATREON - HEY AQUALUNG!\n",
      "Trigger positions saved to file: C:\\Users\\nadege\\Data\\CORTIFY\\Cortify_Media\\Add_Triggers\\triggers\\08 HoliznaPATREON - HEY AQUALUNG!_trigger.txt\n"
     ]
    },
    {
     "name": "stderr",
     "output_type": "stream",
     "text": [
      "Non standard genre name: Musique\n"
     ]
    },
    {
     "name": "stdout",
     "output_type": "stream",
     "text": [
      "Saving newly created stim file: C:\\Users\\nadege\\Data\\CORTIFY\\Cortify_Media\\Add_Triggers\\stimuli_with_triggers\\08 HoliznaPATREON - HEY AQUALUNG!.mp3\n",
      "08 Ketsa - Not Broken\n",
      "Trigger positions saved to file: C:\\Users\\nadege\\Data\\CORTIFY\\Cortify_Media\\Add_Triggers\\triggers\\08 Ketsa - Not Broken_trigger.txt\n"
     ]
    },
    {
     "name": "stderr",
     "output_type": "stream",
     "text": [
      "Non standard genre name: Musique\n"
     ]
    },
    {
     "name": "stdout",
     "output_type": "stream",
     "text": [
      "Saving newly created stim file: C:\\Users\\nadege\\Data\\CORTIFY\\Cortify_Media\\Add_Triggers\\stimuli_with_triggers\\08 Ketsa - Not Broken.mp3\n",
      "08 The Ripplers  Lost Days\n",
      "Trigger positions saved to file: C:\\Users\\nadege\\Data\\CORTIFY\\Cortify_Media\\Add_Triggers\\triggers\\08 The Ripplers  Lost Days_trigger.txt\n"
     ]
    },
    {
     "name": "stderr",
     "output_type": "stream",
     "text": [
      "Non standard genre name: Musique\n"
     ]
    },
    {
     "name": "stdout",
     "output_type": "stream",
     "text": [
      "Saving newly created stim file: C:\\Users\\nadege\\Data\\CORTIFY\\Cortify_Media\\Add_Triggers\\stimuli_with_triggers\\08 The Ripplers  Lost Days.mp3\n",
      "09 HoliznaPATREON - 12. Fresh Start\n",
      "Trigger positions saved to file: C:\\Users\\nadege\\Data\\CORTIFY\\Cortify_Media\\Add_Triggers\\triggers\\09 HoliznaPATREON - 12. Fresh Start_trigger.txt\n"
     ]
    },
    {
     "name": "stderr",
     "output_type": "stream",
     "text": [
      "Non standard genre name: Musique\n"
     ]
    },
    {
     "name": "stdout",
     "output_type": "stream",
     "text": [
      "Saving newly created stim file: C:\\Users\\nadege\\Data\\CORTIFY\\Cortify_Media\\Add_Triggers\\stimuli_with_triggers\\09 HoliznaPATREON - 12. Fresh Start.mp3\n",
      "09 HoliznaPATREON - Prairie Oyster\n",
      "Trigger positions saved to file: C:\\Users\\nadege\\Data\\CORTIFY\\Cortify_Media\\Add_Triggers\\triggers\\09 HoliznaPATREON - Prairie Oyster_trigger.txt\n"
     ]
    },
    {
     "name": "stderr",
     "output_type": "stream",
     "text": [
      "Non standard genre name: Musique\n"
     ]
    },
    {
     "name": "stdout",
     "output_type": "stream",
     "text": [
      "Saving newly created stim file: C:\\Users\\nadege\\Data\\CORTIFY\\Cortify_Media\\Add_Triggers\\stimuli_with_triggers\\09 HoliznaPATREON - Prairie Oyster.mp3\n",
      "09 Ketsa - High Time\n",
      "Trigger positions saved to file: C:\\Users\\nadege\\Data\\CORTIFY\\Cortify_Media\\Add_Triggers\\triggers\\09 Ketsa - High Time_trigger.txt\n"
     ]
    },
    {
     "name": "stderr",
     "output_type": "stream",
     "text": [
      "Non standard genre name: Musique\n"
     ]
    },
    {
     "name": "stdout",
     "output_type": "stream",
     "text": [
      "Saving newly created stim file: C:\\Users\\nadege\\Data\\CORTIFY\\Cortify_Media\\Add_Triggers\\stimuli_with_triggers\\09 Ketsa - High Time.mp3\n",
      "10 HoliznaPATREON - 9. Habits\n",
      "Trigger positions saved to file: C:\\Users\\nadege\\Data\\CORTIFY\\Cortify_Media\\Add_Triggers\\triggers\\10 HoliznaPATREON - 9. Habits_trigger.txt\n"
     ]
    },
    {
     "name": "stderr",
     "output_type": "stream",
     "text": [
      "Non standard genre name: Musique\n"
     ]
    },
    {
     "name": "stdout",
     "output_type": "stream",
     "text": [
      "Saving newly created stim file: C:\\Users\\nadege\\Data\\CORTIFY\\Cortify_Media\\Add_Triggers\\stimuli_with_triggers\\10 HoliznaPATREON - 9. Habits.mp3\n",
      "10 HoliznaPATREON - Southside Sky\n",
      "Trigger positions saved to file: C:\\Users\\nadege\\Data\\CORTIFY\\Cortify_Media\\Add_Triggers\\triggers\\10 HoliznaPATREON - Southside Sky_trigger.txt\n"
     ]
    },
    {
     "name": "stderr",
     "output_type": "stream",
     "text": [
      "Non standard genre name: Musique\n"
     ]
    },
    {
     "name": "stdout",
     "output_type": "stream",
     "text": [
      "Saving newly created stim file: C:\\Users\\nadege\\Data\\CORTIFY\\Cortify_Media\\Add_Triggers\\stimuli_with_triggers\\10 HoliznaPATREON - Southside Sky.mp3\n",
      "10 Ketsa - Heart So Torn inst\n",
      "Trigger positions saved to file: C:\\Users\\nadege\\Data\\CORTIFY\\Cortify_Media\\Add_Triggers\\triggers\\10 Ketsa - Heart So Torn inst_trigger.txt\n"
     ]
    },
    {
     "name": "stderr",
     "output_type": "stream",
     "text": [
      "Non standard genre name: Musique\n"
     ]
    },
    {
     "name": "stdout",
     "output_type": "stream",
     "text": [
      "Saving newly created stim file: C:\\Users\\nadege\\Data\\CORTIFY\\Cortify_Media\\Add_Triggers\\stimuli_with_triggers\\10 Ketsa - Heart So Torn inst.mp3\n",
      "11 HoliznaPATREON - 11. Things Are Going To Change\n",
      "Trigger positions saved to file: C:\\Users\\nadege\\Data\\CORTIFY\\Cortify_Media\\Add_Triggers\\triggers\\11 HoliznaPATREON - 11. Things Are Going To Change_trigger.txt\n"
     ]
    },
    {
     "name": "stderr",
     "output_type": "stream",
     "text": [
      "Non standard genre name: Musique\n"
     ]
    },
    {
     "name": "stdout",
     "output_type": "stream",
     "text": [
      "Saving newly created stim file: C:\\Users\\nadege\\Data\\CORTIFY\\Cortify_Media\\Add_Triggers\\stimuli_with_triggers\\11 HoliznaPATREON - 11. Things Are Going To Change.mp3\n",
      "11 Ketsa - Outside In\n",
      "Trigger positions saved to file: C:\\Users\\nadege\\Data\\CORTIFY\\Cortify_Media\\Add_Triggers\\triggers\\11 Ketsa - Outside In_trigger.txt\n"
     ]
    },
    {
     "name": "stderr",
     "output_type": "stream",
     "text": [
      "Non standard genre name: Musique\n"
     ]
    },
    {
     "name": "stdout",
     "output_type": "stream",
     "text": [
      "Saving newly created stim file: C:\\Users\\nadege\\Data\\CORTIFY\\Cortify_Media\\Add_Triggers\\stimuli_with_triggers\\11 Ketsa - Outside In.mp3\n",
      "11 Nova Viagem\n",
      "Trigger positions saved to file: C:\\Users\\nadege\\Data\\CORTIFY\\Cortify_Media\\Add_Triggers\\triggers\\11 Nova Viagem_trigger.txt\n"
     ]
    },
    {
     "name": "stderr",
     "output_type": "stream",
     "text": [
      "Non standard genre name: Musique\n"
     ]
    },
    {
     "name": "stdout",
     "output_type": "stream",
     "text": [
      "Saving newly created stim file: C:\\Users\\nadege\\Data\\CORTIFY\\Cortify_Media\\Add_Triggers\\stimuli_with_triggers\\11 Nova Viagem.mp3\n",
      "12 HoliznaPATREON - 6. Memories\n",
      "Trigger positions saved to file: C:\\Users\\nadege\\Data\\CORTIFY\\Cortify_Media\\Add_Triggers\\triggers\\12 HoliznaPATREON - 6. Memories_trigger.txt\n"
     ]
    },
    {
     "name": "stderr",
     "output_type": "stream",
     "text": [
      "Non standard genre name: Musique\n"
     ]
    },
    {
     "name": "stdout",
     "output_type": "stream",
     "text": [
      "Saving newly created stim file: C:\\Users\\nadege\\Data\\CORTIFY\\Cortify_Media\\Add_Triggers\\stimuli_with_triggers\\12 HoliznaPATREON - 6. Memories.mp3\n",
      "12 Ketsa - Can't Stop We\n",
      "Trigger positions saved to file: C:\\Users\\nadege\\Data\\CORTIFY\\Cortify_Media\\Add_Triggers\\triggers\\12 Ketsa - Can't Stop We_trigger.txt\n"
     ]
    },
    {
     "name": "stderr",
     "output_type": "stream",
     "text": [
      "Non standard genre name: Musique\n"
     ]
    },
    {
     "name": "stdout",
     "output_type": "stream",
     "text": [
      "Saving newly created stim file: C:\\Users\\nadege\\Data\\CORTIFY\\Cortify_Media\\Add_Triggers\\stimuli_with_triggers\\12 Ketsa - Can't Stop We.mp3\n",
      "13 Ketsa - Endings Beginnings\n",
      "Trigger positions saved to file: C:\\Users\\nadege\\Data\\CORTIFY\\Cortify_Media\\Add_Triggers\\triggers\\13 Ketsa - Endings Beginnings_trigger.txt\n"
     ]
    },
    {
     "name": "stderr",
     "output_type": "stream",
     "text": [
      "Non standard genre name: Musique\n"
     ]
    },
    {
     "name": "stdout",
     "output_type": "stream",
     "text": [
      "Saving newly created stim file: C:\\Users\\nadege\\Data\\CORTIFY\\Cortify_Media\\Add_Triggers\\stimuli_with_triggers\\13 Ketsa - Endings Beginnings.mp3\n",
      "14 Ketsa - Rain Man\n",
      "Trigger positions saved to file: C:\\Users\\nadege\\Data\\CORTIFY\\Cortify_Media\\Add_Triggers\\triggers\\14 Ketsa - Rain Man_trigger.txt\n"
     ]
    },
    {
     "name": "stderr",
     "output_type": "stream",
     "text": [
      "Non standard genre name: Musique\n"
     ]
    },
    {
     "name": "stdout",
     "output_type": "stream",
     "text": [
      "Saving newly created stim file: C:\\Users\\nadege\\Data\\CORTIFY\\Cortify_Media\\Add_Triggers\\stimuli_with_triggers\\14 Ketsa - Rain Man.mp3\n",
      "15 Ketsa - Aches\n",
      "Trigger positions saved to file: C:\\Users\\nadege\\Data\\CORTIFY\\Cortify_Media\\Add_Triggers\\triggers\\15 Ketsa - Aches_trigger.txt\n"
     ]
    },
    {
     "name": "stderr",
     "output_type": "stream",
     "text": [
      "Non standard genre name: Musique\n"
     ]
    },
    {
     "name": "stdout",
     "output_type": "stream",
     "text": [
      "Saving newly created stim file: C:\\Users\\nadege\\Data\\CORTIFY\\Cortify_Media\\Add_Triggers\\stimuli_with_triggers\\15 Ketsa - Aches.mp3\n",
      "16 Ketsa - Session\n",
      "Trigger positions saved to file: C:\\Users\\nadege\\Data\\CORTIFY\\Cortify_Media\\Add_Triggers\\triggers\\16 Ketsa - Session_trigger.txt\n"
     ]
    },
    {
     "name": "stderr",
     "output_type": "stream",
     "text": [
      "Non standard genre name: Musique\n"
     ]
    },
    {
     "name": "stdout",
     "output_type": "stream",
     "text": [
      "Saving newly created stim file: C:\\Users\\nadege\\Data\\CORTIFY\\Cortify_Media\\Add_Triggers\\stimuli_with_triggers\\16 Ketsa - Session.mp3\n",
      "17 Ketsa - All Forgiven\n",
      "Trigger positions saved to file: C:\\Users\\nadege\\Data\\CORTIFY\\Cortify_Media\\Add_Triggers\\triggers\\17 Ketsa - All Forgiven_trigger.txt\n"
     ]
    },
    {
     "name": "stderr",
     "output_type": "stream",
     "text": [
      "Non standard genre name: Musique\n"
     ]
    },
    {
     "name": "stdout",
     "output_type": "stream",
     "text": [
      "Saving newly created stim file: C:\\Users\\nadege\\Data\\CORTIFY\\Cortify_Media\\Add_Triggers\\stimuli_with_triggers\\17 Ketsa - All Forgiven.mp3\n",
      "17youyou_hq_fr\n",
      "Trigger positions saved to file: C:\\Users\\nadege\\Data\\CORTIFY\\Cortify_Media\\Add_Triggers\\triggers\\17youyou_hq_fr_trigger.txt\n",
      "Saving newly created stim file: C:\\Users\\nadege\\Data\\CORTIFY\\Cortify_Media\\Add_Triggers\\stimuli_with_triggers\\17youyou_hq_fr.mp3\n",
      "1_ch1-3\n",
      "Trigger positions saved to file: C:\\Users\\nadege\\Data\\CORTIFY\\Cortify_Media\\Add_Triggers\\triggers\\1_ch1-3_trigger.txt\n"
     ]
    },
    {
     "name": "stderr",
     "output_type": "stream",
     "text": [
      "Non standard genre name: Audiobooks\n"
     ]
    },
    {
     "name": "stdout",
     "output_type": "stream",
     "text": [
      "Saving newly created stim file: C:\\Users\\nadege\\Data\\CORTIFY\\Cortify_Media\\Add_Triggers\\stimuli_with_triggers\\1_ch1-3.mp3\n",
      "24canarivoice_hq_fr\n",
      "Trigger positions saved to file: C:\\Users\\nadege\\Data\\CORTIFY\\Cortify_Media\\Add_Triggers\\triggers\\24canarivoice_hq_fr_trigger.txt\n",
      "Saving newly created stim file: C:\\Users\\nadege\\Data\\CORTIFY\\Cortify_Media\\Add_Triggers\\stimuli_with_triggers\\24canarivoice_hq_fr.mp3\n",
      "2_ch4-6\n",
      "Trigger positions saved to file: C:\\Users\\nadege\\Data\\CORTIFY\\Cortify_Media\\Add_Triggers\\triggers\\2_ch4-6_trigger.txt\n"
     ]
    },
    {
     "name": "stderr",
     "output_type": "stream",
     "text": [
      "Non standard genre name: Audiobooks\n"
     ]
    },
    {
     "name": "stdout",
     "output_type": "stream",
     "text": [
      "Saving newly created stim file: C:\\Users\\nadege\\Data\\CORTIFY\\Cortify_Media\\Add_Triggers\\stimuli_with_triggers\\2_ch4-6.mp3\n",
      "3_ch7-9\n",
      "Trigger positions saved to file: C:\\Users\\nadege\\Data\\CORTIFY\\Cortify_Media\\Add_Triggers\\triggers\\3_ch7-9_trigger.txt\n"
     ]
    },
    {
     "name": "stderr",
     "output_type": "stream",
     "text": [
      "Non standard genre name: Audiobooks\n"
     ]
    },
    {
     "name": "stdout",
     "output_type": "stream",
     "text": [
      "Saving newly created stim file: C:\\Users\\nadege\\Data\\CORTIFY\\Cortify_Media\\Add_Triggers\\stimuli_with_triggers\\3_ch7-9.mp3\n",
      "4_ch10-12\n",
      "Trigger positions saved to file: C:\\Users\\nadege\\Data\\CORTIFY\\Cortify_Media\\Add_Triggers\\triggers\\4_ch10-12_trigger.txt\n"
     ]
    },
    {
     "name": "stderr",
     "output_type": "stream",
     "text": [
      "Non standard genre name: Audiobooks\n"
     ]
    },
    {
     "name": "stdout",
     "output_type": "stream",
     "text": [
      "Saving newly created stim file: C:\\Users\\nadege\\Data\\CORTIFY\\Cortify_Media\\Add_Triggers\\stimuli_with_triggers\\4_ch10-12.mp3\n",
      "5_ch13-14\n",
      "Trigger positions saved to file: C:\\Users\\nadege\\Data\\CORTIFY\\Cortify_Media\\Add_Triggers\\triggers\\5_ch13-14_trigger.txt\n"
     ]
    },
    {
     "name": "stderr",
     "output_type": "stream",
     "text": [
      "Non standard genre name: Audiobooks\n"
     ]
    },
    {
     "name": "stdout",
     "output_type": "stream",
     "text": [
      "Saving newly created stim file: C:\\Users\\nadege\\Data\\CORTIFY\\Cortify_Media\\Add_Triggers\\stimuli_with_triggers\\5_ch13-14.mp3\n",
      "6_ch15-19\n",
      "Trigger positions saved to file: C:\\Users\\nadege\\Data\\CORTIFY\\Cortify_Media\\Add_Triggers\\triggers\\6_ch15-19_trigger.txt\n"
     ]
    },
    {
     "name": "stderr",
     "output_type": "stream",
     "text": [
      "Non standard genre name: Audiobooks\n"
     ]
    },
    {
     "name": "stdout",
     "output_type": "stream",
     "text": [
      "Saving newly created stim file: C:\\Users\\nadege\\Data\\CORTIFY\\Cortify_Media\\Add_Triggers\\stimuli_with_triggers\\6_ch15-19.mp3\n",
      "7_ch20-22\n",
      "Trigger positions saved to file: C:\\Users\\nadege\\Data\\CORTIFY\\Cortify_Media\\Add_Triggers\\triggers\\7_ch20-22_trigger.txt\n"
     ]
    },
    {
     "name": "stderr",
     "output_type": "stream",
     "text": [
      "Non standard genre name: Audiobooks\n"
     ]
    },
    {
     "name": "stdout",
     "output_type": "stream",
     "text": [
      "Saving newly created stim file: C:\\Users\\nadege\\Data\\CORTIFY\\Cortify_Media\\Add_Triggers\\stimuli_with_triggers\\7_ch20-22.mp3\n",
      "8 inventions chinoises en avance sur leur temps\n",
      "Trigger positions saved to file: C:\\Users\\nadege\\Data\\CORTIFY\\Cortify_Media\\Add_Triggers\\triggers\\8 inventions chinoises en avance sur leur temps_trigger.txt\n",
      "Moviepy - Building video C:\\Users\\nadege\\Data\\CORTIFY\\Cortify_Media\\Add_Triggers\\stimuli_with_triggers\\8 inventions chinoises en avance sur leur temps.mp4.\n",
      "MoviePy - Writing audio in 8 inventions chinoises en avance sur leur temps-temp-audio.m4a\n"
     ]
    },
    {
     "name": "stderr",
     "output_type": "stream",
     "text": [
      "                                                                        \r"
     ]
    },
    {
     "name": "stdout",
     "output_type": "stream",
     "text": [
      "MoviePy - Done.\n",
      "Moviepy - Writing video C:\\Users\\nadege\\Data\\CORTIFY\\Cortify_Media\\Add_Triggers\\stimuli_with_triggers\\8 inventions chinoises en avance sur leur temps.mp4\n",
      "\n"
     ]
    },
    {
     "name": "stderr",
     "output_type": "stream",
     "text": [
      "                                                                   \r"
     ]
    },
    {
     "name": "stdout",
     "output_type": "stream",
     "text": [
      "Moviepy - Done !\n",
      "Moviepy - video ready C:\\Users\\nadege\\Data\\CORTIFY\\Cortify_Media\\Add_Triggers\\stimuli_with_triggers\\8 inventions chinoises en avance sur leur temps.mp4\n",
      "8_ch23-25\n",
      "Trigger positions saved to file: C:\\Users\\nadege\\Data\\CORTIFY\\Cortify_Media\\Add_Triggers\\triggers\\8_ch23-25_trigger.txt\n"
     ]
    },
    {
     "name": "stderr",
     "output_type": "stream",
     "text": [
      "Non standard genre name: Audiobooks\n"
     ]
    },
    {
     "name": "stdout",
     "output_type": "stream",
     "text": [
      "Saving newly created stim file: C:\\Users\\nadege\\Data\\CORTIFY\\Cortify_Media\\Add_Triggers\\stimuli_with_triggers\\8_ch23-25.mp3\n",
      "9_ch26-27\n",
      "Trigger positions saved to file: C:\\Users\\nadege\\Data\\CORTIFY\\Cortify_Media\\Add_Triggers\\triggers\\9_ch26-27_trigger.txt\n"
     ]
    },
    {
     "name": "stderr",
     "output_type": "stream",
     "text": [
      "Non standard genre name: Audiobooks\n"
     ]
    },
    {
     "name": "stdout",
     "output_type": "stream",
     "text": [
      "Saving newly created stim file: C:\\Users\\nadege\\Data\\CORTIFY\\Cortify_Media\\Add_Triggers\\stimuli_with_triggers\\9_ch26-27.mp3\n",
      "aliceaupays_00_carroll_64kb\n",
      "Trigger positions saved to file: C:\\Users\\nadege\\Data\\CORTIFY\\Cortify_Media\\Add_Triggers\\triggers\\aliceaupays_00_carroll_64kb_trigger.txt\n"
     ]
    },
    {
     "name": "stderr",
     "output_type": "stream",
     "text": [
      "Non standard genre name: Audiobooks\n"
     ]
    },
    {
     "name": "stdout",
     "output_type": "stream",
     "text": [
      "Saving newly created stim file: C:\\Users\\nadege\\Data\\CORTIFY\\Cortify_Media\\Add_Triggers\\stimuli_with_triggers\\aliceaupays_00_carroll_64kb.mp3\n",
      "aliceaupays_01_carroll_64kb\n",
      "Trigger positions saved to file: C:\\Users\\nadege\\Data\\CORTIFY\\Cortify_Media\\Add_Triggers\\triggers\\aliceaupays_01_carroll_64kb_trigger.txt\n"
     ]
    },
    {
     "name": "stderr",
     "output_type": "stream",
     "text": [
      "Non standard genre name: Audiobooks\n"
     ]
    },
    {
     "name": "stdout",
     "output_type": "stream",
     "text": [
      "Saving newly created stim file: C:\\Users\\nadege\\Data\\CORTIFY\\Cortify_Media\\Add_Triggers\\stimuli_with_triggers\\aliceaupays_01_carroll_64kb.mp3\n",
      "aliceaupays_02_carroll_64kb\n",
      "Trigger positions saved to file: C:\\Users\\nadege\\Data\\CORTIFY\\Cortify_Media\\Add_Triggers\\triggers\\aliceaupays_02_carroll_64kb_trigger.txt\n"
     ]
    },
    {
     "name": "stderr",
     "output_type": "stream",
     "text": [
      "Non standard genre name: Audiobooks\n"
     ]
    },
    {
     "name": "stdout",
     "output_type": "stream",
     "text": [
      "Saving newly created stim file: C:\\Users\\nadege\\Data\\CORTIFY\\Cortify_Media\\Add_Triggers\\stimuli_with_triggers\\aliceaupays_02_carroll_64kb.mp3\n",
      "aliceaupays_03_carroll_64kb\n",
      "Trigger positions saved to file: C:\\Users\\nadege\\Data\\CORTIFY\\Cortify_Media\\Add_Triggers\\triggers\\aliceaupays_03_carroll_64kb_trigger.txt\n"
     ]
    },
    {
     "name": "stderr",
     "output_type": "stream",
     "text": [
      "Non standard genre name: Audiobooks\n"
     ]
    },
    {
     "name": "stdout",
     "output_type": "stream",
     "text": [
      "Saving newly created stim file: C:\\Users\\nadege\\Data\\CORTIFY\\Cortify_Media\\Add_Triggers\\stimuli_with_triggers\\aliceaupays_03_carroll_64kb.mp3\n",
      "aliceaupays_04_carroll_64kb\n",
      "Trigger positions saved to file: C:\\Users\\nadege\\Data\\CORTIFY\\Cortify_Media\\Add_Triggers\\triggers\\aliceaupays_04_carroll_64kb_trigger.txt\n"
     ]
    },
    {
     "name": "stderr",
     "output_type": "stream",
     "text": [
      "Non standard genre name: Audiobooks\n"
     ]
    },
    {
     "name": "stdout",
     "output_type": "stream",
     "text": [
      "Saving newly created stim file: C:\\Users\\nadege\\Data\\CORTIFY\\Cortify_Media\\Add_Triggers\\stimuli_with_triggers\\aliceaupays_04_carroll_64kb.mp3\n",
      "aliceaupays_05_carroll_64kb\n",
      "Trigger positions saved to file: C:\\Users\\nadege\\Data\\CORTIFY\\Cortify_Media\\Add_Triggers\\triggers\\aliceaupays_05_carroll_64kb_trigger.txt\n"
     ]
    },
    {
     "name": "stderr",
     "output_type": "stream",
     "text": [
      "Non standard genre name: Audiobooks\n"
     ]
    },
    {
     "name": "stdout",
     "output_type": "stream",
     "text": [
      "Saving newly created stim file: C:\\Users\\nadege\\Data\\CORTIFY\\Cortify_Media\\Add_Triggers\\stimuli_with_triggers\\aliceaupays_05_carroll_64kb.mp3\n",
      "aliceaupays_06_carroll_64kb\n",
      "Trigger positions saved to file: C:\\Users\\nadege\\Data\\CORTIFY\\Cortify_Media\\Add_Triggers\\triggers\\aliceaupays_06_carroll_64kb_trigger.txt\n"
     ]
    },
    {
     "name": "stderr",
     "output_type": "stream",
     "text": [
      "Non standard genre name: Audiobooks\n"
     ]
    },
    {
     "name": "stdout",
     "output_type": "stream",
     "text": [
      "Saving newly created stim file: C:\\Users\\nadege\\Data\\CORTIFY\\Cortify_Media\\Add_Triggers\\stimuli_with_triggers\\aliceaupays_06_carroll_64kb.mp3\n",
      "aliceaupays_07_carroll_64kb\n",
      "Trigger positions saved to file: C:\\Users\\nadege\\Data\\CORTIFY\\Cortify_Media\\Add_Triggers\\triggers\\aliceaupays_07_carroll_64kb_trigger.txt\n"
     ]
    },
    {
     "name": "stderr",
     "output_type": "stream",
     "text": [
      "Non standard genre name: Audiobooks\n"
     ]
    },
    {
     "name": "stdout",
     "output_type": "stream",
     "text": [
      "Saving newly created stim file: C:\\Users\\nadege\\Data\\CORTIFY\\Cortify_Media\\Add_Triggers\\stimuli_with_triggers\\aliceaupays_07_carroll_64kb.mp3\n",
      "aliceaupays_08_carroll_64kb\n",
      "Trigger positions saved to file: C:\\Users\\nadege\\Data\\CORTIFY\\Cortify_Media\\Add_Triggers\\triggers\\aliceaupays_08_carroll_64kb_trigger.txt\n"
     ]
    },
    {
     "name": "stderr",
     "output_type": "stream",
     "text": [
      "Non standard genre name: Audiobooks\n"
     ]
    },
    {
     "name": "stdout",
     "output_type": "stream",
     "text": [
      "Saving newly created stim file: C:\\Users\\nadege\\Data\\CORTIFY\\Cortify_Media\\Add_Triggers\\stimuli_with_triggers\\aliceaupays_08_carroll_64kb.mp3\n",
      "aliceaupays_09_carroll_64kb\n",
      "Trigger positions saved to file: C:\\Users\\nadege\\Data\\CORTIFY\\Cortify_Media\\Add_Triggers\\triggers\\aliceaupays_09_carroll_64kb_trigger.txt\n"
     ]
    },
    {
     "name": "stderr",
     "output_type": "stream",
     "text": [
      "Non standard genre name: Audiobooks\n"
     ]
    },
    {
     "name": "stdout",
     "output_type": "stream",
     "text": [
      "Saving newly created stim file: C:\\Users\\nadege\\Data\\CORTIFY\\Cortify_Media\\Add_Triggers\\stimuli_with_triggers\\aliceaupays_09_carroll_64kb.mp3\n",
      "aliceaupays_10_carroll_64kb\n",
      "Trigger positions saved to file: C:\\Users\\nadege\\Data\\CORTIFY\\Cortify_Media\\Add_Triggers\\triggers\\aliceaupays_10_carroll_64kb_trigger.txt\n"
     ]
    },
    {
     "name": "stderr",
     "output_type": "stream",
     "text": [
      "Non standard genre name: Audiobooks\n"
     ]
    },
    {
     "name": "stdout",
     "output_type": "stream",
     "text": [
      "Saving newly created stim file: C:\\Users\\nadege\\Data\\CORTIFY\\Cortify_Media\\Add_Triggers\\stimuli_with_triggers\\aliceaupays_10_carroll_64kb.mp3\n",
      "aliceaupays_11_carroll_64kb\n",
      "Trigger positions saved to file: C:\\Users\\nadege\\Data\\CORTIFY\\Cortify_Media\\Add_Triggers\\triggers\\aliceaupays_11_carroll_64kb_trigger.txt\n"
     ]
    },
    {
     "name": "stderr",
     "output_type": "stream",
     "text": [
      "Non standard genre name: Audiobooks\n"
     ]
    },
    {
     "name": "stdout",
     "output_type": "stream",
     "text": [
      "Saving newly created stim file: C:\\Users\\nadege\\Data\\CORTIFY\\Cortify_Media\\Add_Triggers\\stimuli_with_triggers\\aliceaupays_11_carroll_64kb.mp3\n",
      "aliceaupays_12_carroll_64kb\n",
      "Trigger positions saved to file: C:\\Users\\nadege\\Data\\CORTIFY\\Cortify_Media\\Add_Triggers\\triggers\\aliceaupays_12_carroll_64kb_trigger.txt\n"
     ]
    },
    {
     "name": "stderr",
     "output_type": "stream",
     "text": [
      "Non standard genre name: Audiobooks\n"
     ]
    },
    {
     "name": "stdout",
     "output_type": "stream",
     "text": [
      "Saving newly created stim file: C:\\Users\\nadege\\Data\\CORTIFY\\Cortify_Media\\Add_Triggers\\stimuli_with_triggers\\aliceaupays_12_carroll_64kb.mp3\n",
      "Arup & Saverio (feat. Arup Kanti Das)\n",
      "Trigger positions saved to file: C:\\Users\\nadege\\Data\\CORTIFY\\Cortify_Media\\Add_Triggers\\triggers\\Arup & Saverio (feat. Arup Kanti Das)_trigger.txt\n"
     ]
    },
    {
     "name": "stderr",
     "output_type": "stream",
     "text": [
      "Non standard genre name: Musique\n"
     ]
    },
    {
     "name": "stdout",
     "output_type": "stream",
     "text": [
      "Saving newly created stim file: C:\\Users\\nadege\\Data\\CORTIFY\\Cortify_Media\\Add_Triggers\\stimuli_with_triggers\\Arup & Saverio (feat. Arup Kanti Das).mp3\n",
      "Awakening\n",
      "Trigger positions saved to file: C:\\Users\\nadege\\Data\\CORTIFY\\Cortify_Media\\Add_Triggers\\triggers\\Awakening_trigger.txt\n"
     ]
    },
    {
     "name": "stderr",
     "output_type": "stream",
     "text": [
      "Non standard genre name: Musique\n"
     ]
    },
    {
     "name": "stdout",
     "output_type": "stream",
     "text": [
      "Saving newly created stim file: C:\\Users\\nadege\\Data\\CORTIFY\\Cortify_Media\\Add_Triggers\\stimuli_with_triggers\\Awakening.mp3\n",
      "Broberg02\n",
      "Trigger positions saved to file: C:\\Users\\nadege\\Data\\CORTIFY\\Cortify_Media\\Add_Triggers\\triggers\\Broberg02_trigger.txt\n"
     ]
    },
    {
     "name": "stderr",
     "output_type": "stream",
     "text": [
      "Non standard genre name: Musique\n"
     ]
    },
    {
     "name": "stdout",
     "output_type": "stream",
     "text": [
      "Saving newly created stim file: C:\\Users\\nadege\\Data\\CORTIFY\\Cortify_Media\\Add_Triggers\\stimuli_with_triggers\\Broberg02.mp3\n",
      "Carl\n",
      "Trigger positions saved to file: C:\\Users\\nadege\\Data\\CORTIFY\\Cortify_Media\\Add_Triggers\\triggers\\Carl_trigger.txt\n"
     ]
    },
    {
     "name": "stderr",
     "output_type": "stream",
     "text": [
      "Non standard genre name: Musique\n"
     ]
    },
    {
     "name": "stdout",
     "output_type": "stream",
     "text": [
      "Saving newly created stim file: C:\\Users\\nadege\\Data\\CORTIFY\\Cortify_Media\\Add_Triggers\\stimuli_with_triggers\\Carl.mp3\n",
      "Comment naviguer DANS les vaisseaux sanguins\n",
      "Trigger positions saved to file: C:\\Users\\nadege\\Data\\CORTIFY\\Cortify_Media\\Add_Triggers\\triggers\\Comment naviguer DANS les vaisseaux sanguins_trigger.txt\n",
      "Moviepy - Building video C:\\Users\\nadege\\Data\\CORTIFY\\Cortify_Media\\Add_Triggers\\stimuli_with_triggers\\Comment naviguer DANS les vaisseaux sanguins.mp4.\n",
      "MoviePy - Writing audio in Comment naviguer DANS les vaisseaux sanguins-temp-audio.m4a\n"
     ]
    },
    {
     "name": "stderr",
     "output_type": "stream",
     "text": [
      "                                                                        \r"
     ]
    },
    {
     "name": "stdout",
     "output_type": "stream",
     "text": [
      "MoviePy - Done.\n",
      "Moviepy - Writing video C:\\Users\\nadege\\Data\\CORTIFY\\Cortify_Media\\Add_Triggers\\stimuli_with_triggers\\Comment naviguer DANS les vaisseaux sanguins.mp4\n",
      "\n"
     ]
    },
    {
     "name": "stderr",
     "output_type": "stream",
     "text": [
      "                                                                   \r"
     ]
    },
    {
     "name": "stdout",
     "output_type": "stream",
     "text": [
      "Moviepy - Done !\n",
      "Moviepy - video ready C:\\Users\\nadege\\Data\\CORTIFY\\Cortify_Media\\Add_Triggers\\stimuli_with_triggers\\Comment naviguer DANS les vaisseaux sanguins.mp4\n",
      "contes001_01_tompouce_64kb\n",
      "Trigger positions saved to file: C:\\Users\\nadege\\Data\\CORTIFY\\Cortify_Media\\Add_Triggers\\triggers\\contes001_01_tompouce_64kb_trigger.txt\n"
     ]
    },
    {
     "name": "stderr",
     "output_type": "stream",
     "text": [
      "Non standard genre name: Audiobooks\n"
     ]
    },
    {
     "name": "stdout",
     "output_type": "stream",
     "text": [
      "Saving newly created stim file: C:\\Users\\nadege\\Data\\CORTIFY\\Cortify_Media\\Add_Triggers\\stimuli_with_triggers\\contes001_01_tompouce_64kb.mp3\n",
      "contes001_02_petitchaperonrouge_64kb\n",
      "Trigger positions saved to file: C:\\Users\\nadege\\Data\\CORTIFY\\Cortify_Media\\Add_Triggers\\triggers\\contes001_02_petitchaperonrouge_64kb_trigger.txt\n"
     ]
    },
    {
     "name": "stderr",
     "output_type": "stream",
     "text": [
      "Non standard genre name: Audiobooks\n"
     ]
    },
    {
     "name": "stdout",
     "output_type": "stream",
     "text": [
      "Saving newly created stim file: C:\\Users\\nadege\\Data\\CORTIFY\\Cortify_Media\\Add_Triggers\\stimuli_with_triggers\\contes001_02_petitchaperonrouge_64kb.mp3\n",
      "contes001_03_nainsmagiques_64kb\n",
      "Trigger positions saved to file: C:\\Users\\nadege\\Data\\CORTIFY\\Cortify_Media\\Add_Triggers\\triggers\\contes001_03_nainsmagiques_64kb_trigger.txt\n"
     ]
    },
    {
     "name": "stderr",
     "output_type": "stream",
     "text": [
      "Non standard genre name: Audiobooks\n"
     ]
    },
    {
     "name": "stdout",
     "output_type": "stream",
     "text": [
      "Saving newly created stim file: C:\\Users\\nadege\\Data\\CORTIFY\\Cortify_Media\\Add_Triggers\\stimuli_with_triggers\\contes001_03_nainsmagiques_64kb.mp3\n",
      "contes001_04_princessepetitpois_64kb\n",
      "Trigger positions saved to file: C:\\Users\\nadege\\Data\\CORTIFY\\Cortify_Media\\Add_Triggers\\triggers\\contes001_04_princessepetitpois_64kb_trigger.txt\n"
     ]
    },
    {
     "name": "stderr",
     "output_type": "stream",
     "text": [
      "Non standard genre name: Audiobooks\n"
     ]
    },
    {
     "name": "stdout",
     "output_type": "stream",
     "text": [
      "Saving newly created stim file: C:\\Users\\nadege\\Data\\CORTIFY\\Cortify_Media\\Add_Triggers\\stimuli_with_triggers\\contes001_04_princessepetitpois_64kb.mp3\n",
      "contes001_05_chatbotte_64kb\n",
      "Trigger positions saved to file: C:\\Users\\nadege\\Data\\CORTIFY\\Cortify_Media\\Add_Triggers\\triggers\\contes001_05_chatbotte_64kb_trigger.txt\n"
     ]
    },
    {
     "name": "stderr",
     "output_type": "stream",
     "text": [
      "Non standard genre name: Audiobooks\n"
     ]
    },
    {
     "name": "stdout",
     "output_type": "stream",
     "text": [
      "Saving newly created stim file: C:\\Users\\nadege\\Data\\CORTIFY\\Cortify_Media\\Add_Triggers\\stimuli_with_triggers\\contes001_05_chatbotte_64kb.mp3\n",
      "contes001_06_renardetlechat_64kb\n",
      "Trigger positions saved to file: C:\\Users\\nadege\\Data\\CORTIFY\\Cortify_Media\\Add_Triggers\\triggers\\contes001_06_renardetlechat_64kb_trigger.txt\n"
     ]
    },
    {
     "name": "stderr",
     "output_type": "stream",
     "text": [
      "Non standard genre name: Audiobooks\n"
     ]
    },
    {
     "name": "stdout",
     "output_type": "stream",
     "text": [
      "Saving newly created stim file: C:\\Users\\nadege\\Data\\CORTIFY\\Cortify_Media\\Add_Triggers\\stimuli_with_triggers\\contes001_06_renardetlechat_64kb.mp3\n",
      "contes001_07_vilainpetitcanard_64kb\n",
      "Trigger positions saved to file: C:\\Users\\nadege\\Data\\CORTIFY\\Cortify_Media\\Add_Triggers\\triggers\\contes001_07_vilainpetitcanard_64kb_trigger.txt\n"
     ]
    },
    {
     "name": "stderr",
     "output_type": "stream",
     "text": [
      "Non standard genre name: Audiobooks\n"
     ]
    },
    {
     "name": "stdout",
     "output_type": "stream",
     "text": [
      "Saving newly created stim file: C:\\Users\\nadege\\Data\\CORTIFY\\Cortify_Media\\Add_Triggers\\stimuli_with_triggers\\contes001_07_vilainpetitcanard_64kb.mp3\n",
      "contes001_08_cendrillon_64kb\n",
      "Trigger positions saved to file: C:\\Users\\nadege\\Data\\CORTIFY\\Cortify_Media\\Add_Triggers\\triggers\\contes001_08_cendrillon_64kb_trigger.txt\n"
     ]
    },
    {
     "name": "stderr",
     "output_type": "stream",
     "text": [
      "Non standard genre name: Audiobooks\n"
     ]
    },
    {
     "name": "stdout",
     "output_type": "stream",
     "text": [
      "Saving newly created stim file: C:\\Users\\nadege\\Data\\CORTIFY\\Cortify_Media\\Add_Triggers\\stimuli_with_triggers\\contes001_08_cendrillon_64kb.mp3\n",
      "contes001_09_coureurs_64kb\n",
      "Trigger positions saved to file: C:\\Users\\nadege\\Data\\CORTIFY\\Cortify_Media\\Add_Triggers\\triggers\\contes001_09_coureurs_64kb_trigger.txt\n"
     ]
    },
    {
     "name": "stderr",
     "output_type": "stream",
     "text": [
      "Non standard genre name: Audiobooks\n"
     ]
    },
    {
     "name": "stdout",
     "output_type": "stream",
     "text": [
      "Saving newly created stim file: C:\\Users\\nadege\\Data\\CORTIFY\\Cortify_Media\\Add_Triggers\\stimuli_with_triggers\\contes001_09_coureurs_64kb.mp3\n",
      "contes001_10_petitpatre_64kb\n",
      "Trigger positions saved to file: C:\\Users\\nadege\\Data\\CORTIFY\\Cortify_Media\\Add_Triggers\\triggers\\contes001_10_petitpatre_64kb_trigger.txt\n"
     ]
    },
    {
     "name": "stderr",
     "output_type": "stream",
     "text": [
      "Non standard genre name: Audiobooks\n"
     ]
    },
    {
     "name": "stdout",
     "output_type": "stream",
     "text": [
      "Saving newly created stim file: C:\\Users\\nadege\\Data\\CORTIFY\\Cortify_Media\\Add_Triggers\\stimuli_with_triggers\\contes001_10_petitpatre_64kb.mp3\n",
      "contes001_11_habitsneufsgrandduc_64kb\n",
      "Trigger positions saved to file: C:\\Users\\nadege\\Data\\CORTIFY\\Cortify_Media\\Add_Triggers\\triggers\\contes001_11_habitsneufsgrandduc_64kb_trigger.txt\n"
     ]
    },
    {
     "name": "stderr",
     "output_type": "stream",
     "text": [
      "Non standard genre name: Audiobooks\n"
     ]
    },
    {
     "name": "stdout",
     "output_type": "stream",
     "text": [
      "Saving newly created stim file: C:\\Users\\nadege\\Data\\CORTIFY\\Cortify_Media\\Add_Triggers\\stimuli_with_triggers\\contes001_11_habitsneufsgrandduc_64kb.mp3\n",
      "contes001_12_doucebouillie_64kb\n",
      "Trigger positions saved to file: C:\\Users\\nadege\\Data\\CORTIFY\\Cortify_Media\\Add_Triggers\\triggers\\contes001_12_doucebouillie_64kb_trigger.txt\n"
     ]
    },
    {
     "name": "stderr",
     "output_type": "stream",
     "text": [
      "Non standard genre name: Audiobooks\n"
     ]
    },
    {
     "name": "stdout",
     "output_type": "stream",
     "text": [
      "Saving newly created stim file: C:\\Users\\nadege\\Data\\CORTIFY\\Cortify_Media\\Add_Triggers\\stimuli_with_triggers\\contes001_12_doucebouillie_64kb.mp3\n",
      "contes001_13_cinqdanscossepois_64kb\n",
      "Trigger positions saved to file: C:\\Users\\nadege\\Data\\CORTIFY\\Cortify_Media\\Add_Triggers\\triggers\\contes001_13_cinqdanscossepois_64kb_trigger.txt\n"
     ]
    },
    {
     "name": "stderr",
     "output_type": "stream",
     "text": [
      "Non standard genre name: Audiobooks\n"
     ]
    },
    {
     "name": "stdout",
     "output_type": "stream",
     "text": [
      "Saving newly created stim file: C:\\Users\\nadege\\Data\\CORTIFY\\Cortify_Media\\Add_Triggers\\stimuli_with_triggers\\contes001_13_cinqdanscossepois_64kb.mp3\n",
      "contes001_14_fees_64kb\n",
      "Trigger positions saved to file: C:\\Users\\nadege\\Data\\CORTIFY\\Cortify_Media\\Add_Triggers\\triggers\\contes001_14_fees_64kb_trigger.txt\n"
     ]
    },
    {
     "name": "stderr",
     "output_type": "stream",
     "text": [
      "Non standard genre name: Audiobooks\n"
     ]
    },
    {
     "name": "stdout",
     "output_type": "stream",
     "text": [
      "Saving newly created stim file: C:\\Users\\nadege\\Data\\CORTIFY\\Cortify_Media\\Add_Triggers\\stimuli_with_triggers\\contes001_14_fees_64kb.mp3\n",
      "contes001_15_musiciensvillebreme_64kb\n",
      "Trigger positions saved to file: C:\\Users\\nadege\\Data\\CORTIFY\\Cortify_Media\\Add_Triggers\\triggers\\contes001_15_musiciensvillebreme_64kb_trigger.txt\n"
     ]
    },
    {
     "name": "stderr",
     "output_type": "stream",
     "text": [
      "Non standard genre name: Audiobooks\n"
     ]
    },
    {
     "name": "stdout",
     "output_type": "stream",
     "text": [
      "Saving newly created stim file: C:\\Users\\nadege\\Data\\CORTIFY\\Cortify_Media\\Add_Triggers\\stimuli_with_triggers\\contes001_15_musiciensvillebreme_64kb.mp3\n",
      "contes001_16_stoiquesoldatplomb_64kb\n",
      "Trigger positions saved to file: C:\\Users\\nadege\\Data\\CORTIFY\\Cortify_Media\\Add_Triggers\\triggers\\contes001_16_stoiquesoldatplomb_64kb_trigger.txt\n"
     ]
    },
    {
     "name": "stderr",
     "output_type": "stream",
     "text": [
      "Non standard genre name: Audiobooks\n"
     ]
    },
    {
     "name": "stdout",
     "output_type": "stream",
     "text": [
      "Saving newly created stim file: C:\\Users\\nadege\\Data\\CORTIFY\\Cortify_Media\\Add_Triggers\\stimuli_with_triggers\\contes001_16_stoiquesoldatplomb_64kb.mp3\n",
      "contes001_17_oiseaubleu_64kb\n",
      "Trigger positions saved to file: C:\\Users\\nadege\\Data\\CORTIFY\\Cortify_Media\\Add_Triggers\\triggers\\contes001_17_oiseaubleu_64kb_trigger.txt\n"
     ]
    },
    {
     "name": "stderr",
     "output_type": "stream",
     "text": [
      "Non standard genre name: Audiobooks\n"
     ]
    },
    {
     "name": "stdout",
     "output_type": "stream",
     "text": [
      "Saving newly created stim file: C:\\Users\\nadege\\Data\\CORTIFY\\Cortify_Media\\Add_Triggers\\stimuli_with_triggers\\contes001_17_oiseaubleu_64kb.mp3\n",
      "contes001_18_tableanebatonmerveilleux_64kb\n",
      "Trigger positions saved to file: C:\\Users\\nadege\\Data\\CORTIFY\\Cortify_Media\\Add_Triggers\\triggers\\contes001_18_tableanebatonmerveilleux_64kb_trigger.txt\n"
     ]
    },
    {
     "name": "stderr",
     "output_type": "stream",
     "text": [
      "Non standard genre name: Audiobooks\n"
     ]
    },
    {
     "name": "stdout",
     "output_type": "stream",
     "text": [
      "Saving newly created stim file: C:\\Users\\nadege\\Data\\CORTIFY\\Cortify_Media\\Add_Triggers\\stimuli_with_triggers\\contes001_18_tableanebatonmerveilleux_64kb.mp3\n",
      "contes001_19_petitfrerepetitesoeur_64kb\n",
      "Trigger positions saved to file: C:\\Users\\nadege\\Data\\CORTIFY\\Cortify_Media\\Add_Triggers\\triggers\\contes001_19_petitfrerepetitesoeur_64kb_trigger.txt\n"
     ]
    },
    {
     "name": "stderr",
     "output_type": "stream",
     "text": [
      "Non standard genre name: Audiobooks\n"
     ]
    },
    {
     "name": "stdout",
     "output_type": "stream",
     "text": [
      "Saving newly created stim file: C:\\Users\\nadege\\Data\\CORTIFY\\Cortify_Media\\Add_Triggers\\stimuli_with_triggers\\contes001_19_petitfrerepetitesoeur_64kb.mp3\n",
      "contes001_20_dameholle_64kb\n",
      "Trigger positions saved to file: C:\\Users\\nadege\\Data\\CORTIFY\\Cortify_Media\\Add_Triggers\\triggers\\contes001_20_dameholle_64kb_trigger.txt\n"
     ]
    },
    {
     "name": "stderr",
     "output_type": "stream",
     "text": [
      "Non standard genre name: Audiobooks\n"
     ]
    },
    {
     "name": "stdout",
     "output_type": "stream",
     "text": [
      "Saving newly created stim file: C:\\Users\\nadege\\Data\\CORTIFY\\Cortify_Media\\Add_Triggers\\stimuli_with_triggers\\contes001_20_dameholle_64kb.mp3\n",
      "contes002_01_belleboisdormant_64kb\n",
      "Trigger positions saved to file: C:\\Users\\nadege\\Data\\CORTIFY\\Cortify_Media\\Add_Triggers\\triggers\\contes002_01_belleboisdormant_64kb_trigger.txt\n"
     ]
    },
    {
     "name": "stderr",
     "output_type": "stream",
     "text": [
      "Non standard genre name: Audiobooks\n"
     ]
    },
    {
     "name": "stdout",
     "output_type": "stream",
     "text": [
      "Saving newly created stim file: C:\\Users\\nadege\\Data\\CORTIFY\\Cortify_Media\\Add_Triggers\\stimuli_with_triggers\\contes002_01_belleboisdormant_64kb.mp3\n",
      "contes002_02_jeanchanceux_64kb\n",
      "Trigger positions saved to file: C:\\Users\\nadege\\Data\\CORTIFY\\Cortify_Media\\Add_Triggers\\triggers\\contes002_02_jeanchanceux_64kb_trigger.txt\n"
     ]
    },
    {
     "name": "stderr",
     "output_type": "stream",
     "text": [
      "Non standard genre name: Audiobooks\n"
     ]
    },
    {
     "name": "stdout",
     "output_type": "stream",
     "text": [
      "Saving newly created stim file: C:\\Users\\nadege\\Data\\CORTIFY\\Cortify_Media\\Add_Triggers\\stimuli_with_triggers\\contes002_02_jeanchanceux_64kb.mp3\n",
      "contes002_03_mallevolante_64kb\n",
      "Trigger positions saved to file: C:\\Users\\nadege\\Data\\CORTIFY\\Cortify_Media\\Add_Triggers\\triggers\\contes002_03_mallevolante_64kb_trigger.txt\n"
     ]
    },
    {
     "name": "stderr",
     "output_type": "stream",
     "text": [
      "Non standard genre name: Audiobooks\n"
     ]
    },
    {
     "name": "stdout",
     "output_type": "stream",
     "text": [
      "Saving newly created stim file: C:\\Users\\nadege\\Data\\CORTIFY\\Cortify_Media\\Add_Triggers\\stimuli_with_triggers\\contes002_03_mallevolante_64kb.mp3\n",
      "contes002_04_araigneepuce_64kb\n",
      "Trigger positions saved to file: C:\\Users\\nadege\\Data\\CORTIFY\\Cortify_Media\\Add_Triggers\\triggers\\contes002_04_araigneepuce_64kb_trigger.txt\n"
     ]
    },
    {
     "name": "stderr",
     "output_type": "stream",
     "text": [
      "Non standard genre name: Audiobooks\n"
     ]
    },
    {
     "name": "stdout",
     "output_type": "stream",
     "text": [
      "Saving newly created stim file: C:\\Users\\nadege\\Data\\CORTIFY\\Cortify_Media\\Add_Triggers\\stimuli_with_triggers\\contes002_04_araigneepuce_64kb.mp3\n",
      "contes002_05_aiguilleareprise_64kb\n",
      "Trigger positions saved to file: C:\\Users\\nadege\\Data\\CORTIFY\\Cortify_Media\\Add_Triggers\\triggers\\contes002_05_aiguilleareprise_64kb_trigger.txt\n"
     ]
    },
    {
     "name": "stderr",
     "output_type": "stream",
     "text": [
      "Non standard genre name: Audiobooks\n"
     ]
    },
    {
     "name": "stdout",
     "output_type": "stream",
     "text": [
      "Saving newly created stim file: C:\\Users\\nadege\\Data\\CORTIFY\\Cortify_Media\\Add_Triggers\\stimuli_with_triggers\\contes002_05_aiguilleareprise_64kb.mp3\n",
      "contes002_06_reineabeilles_64kb\n",
      "Trigger positions saved to file: C:\\Users\\nadege\\Data\\CORTIFY\\Cortify_Media\\Add_Triggers\\triggers\\contes002_06_reineabeilles_64kb_trigger.txt\n"
     ]
    },
    {
     "name": "stderr",
     "output_type": "stream",
     "text": [
      "Non standard genre name: Audiobooks\n"
     ]
    },
    {
     "name": "stdout",
     "output_type": "stream",
     "text": [
      "Saving newly created stim file: C:\\Users\\nadege\\Data\\CORTIFY\\Cortify_Media\\Add_Triggers\\stimuli_with_triggers\\contes002_06_reineabeilles_64kb.mp3\n",
      "contes002_07_ricquethouppe_64kb\n",
      "Trigger positions saved to file: C:\\Users\\nadege\\Data\\CORTIFY\\Cortify_Media\\Add_Triggers\\triggers\\contes002_07_ricquethouppe_64kb_trigger.txt\n"
     ]
    },
    {
     "name": "stderr",
     "output_type": "stream",
     "text": [
      "Non standard genre name: Audiobooks\n"
     ]
    },
    {
     "name": "stdout",
     "output_type": "stream",
     "text": [
      "Saving newly created stim file: C:\\Users\\nadege\\Data\\CORTIFY\\Cortify_Media\\Add_Triggers\\stimuli_with_triggers\\contes002_07_ricquethouppe_64kb.mp3\n",
      "contes002_08_presentsgnomes_64kb\n",
      "Trigger positions saved to file: C:\\Users\\nadege\\Data\\CORTIFY\\Cortify_Media\\Add_Triggers\\triggers\\contes002_08_presentsgnomes_64kb_trigger.txt\n"
     ]
    },
    {
     "name": "stderr",
     "output_type": "stream",
     "text": [
      "Non standard genre name: Audiobooks\n"
     ]
    },
    {
     "name": "stdout",
     "output_type": "stream",
     "text": [
      "Saving newly created stim file: C:\\Users\\nadege\\Data\\CORTIFY\\Cortify_Media\\Add_Triggers\\stimuli_with_triggers\\contes002_08_presentsgnomes_64kb.mp3\n",
      "contes002_09_lievreherisson_64kb\n",
      "Trigger positions saved to file: C:\\Users\\nadege\\Data\\CORTIFY\\Cortify_Media\\Add_Triggers\\triggers\\contes002_09_lievreherisson_64kb_trigger.txt\n"
     ]
    },
    {
     "name": "stderr",
     "output_type": "stream",
     "text": [
      "Non standard genre name: Audiobooks\n"
     ]
    },
    {
     "name": "stdout",
     "output_type": "stream",
     "text": [
      "Saving newly created stim file: C:\\Users\\nadege\\Data\\CORTIFY\\Cortify_Media\\Add_Triggers\\stimuli_with_triggers\\contes002_09_lievreherisson_64kb.mp3\n",
      "contes002_10_petitefilleallumettes_64kb\n",
      "Trigger positions saved to file: C:\\Users\\nadege\\Data\\CORTIFY\\Cortify_Media\\Add_Triggers\\triggers\\contes002_10_petitefilleallumettes_64kb_trigger.txt\n"
     ]
    },
    {
     "name": "stderr",
     "output_type": "stream",
     "text": [
      "Non standard genre name: Audiobooks\n"
     ]
    },
    {
     "name": "stdout",
     "output_type": "stream",
     "text": [
      "Saving newly created stim file: C:\\Users\\nadege\\Data\\CORTIFY\\Cortify_Media\\Add_Triggers\\stimuli_with_triggers\\contes002_10_petitefilleallumettes_64kb.mp3\n",
      "contes002_11_troisfreres_64kb\n",
      "Trigger positions saved to file: C:\\Users\\nadege\\Data\\CORTIFY\\Cortify_Media\\Add_Triggers\\triggers\\contes002_11_troisfreres_64kb_trigger.txt\n"
     ]
    },
    {
     "name": "stderr",
     "output_type": "stream",
     "text": [
      "Non standard genre name: Audiobooks\n"
     ]
    },
    {
     "name": "stdout",
     "output_type": "stream",
     "text": [
      "Saving newly created stim file: C:\\Users\\nadege\\Data\\CORTIFY\\Cortify_Media\\Add_Triggers\\stimuli_with_triggers\\contes002_11_troisfreres_64kb.mp3\n",
      "contes002_12_plumeencrier_64kb\n",
      "Trigger positions saved to file: C:\\Users\\nadege\\Data\\CORTIFY\\Cortify_Media\\Add_Triggers\\triggers\\contes002_12_plumeencrier_64kb_trigger.txt\n"
     ]
    },
    {
     "name": "stderr",
     "output_type": "stream",
     "text": [
      "Non standard genre name: Audiobooks\n"
     ]
    },
    {
     "name": "stdout",
     "output_type": "stream",
     "text": [
      "Saving newly created stim file: C:\\Users\\nadege\\Data\\CORTIFY\\Cortify_Media\\Add_Triggers\\stimuli_with_triggers\\contes002_12_plumeencrier_64kb.mp3\n",
      "contes002_13_oursroitelet_64kb\n",
      "Trigger positions saved to file: C:\\Users\\nadege\\Data\\CORTIFY\\Cortify_Media\\Add_Triggers\\triggers\\contes002_13_oursroitelet_64kb_trigger.txt\n"
     ]
    },
    {
     "name": "stderr",
     "output_type": "stream",
     "text": [
      "Non standard genre name: Audiobooks\n"
     ]
    },
    {
     "name": "stdout",
     "output_type": "stream",
     "text": [
      "Saving newly created stim file: C:\\Users\\nadege\\Data\\CORTIFY\\Cortify_Media\\Add_Triggers\\stimuli_with_triggers\\contes002_13_oursroitelet_64kb.mp3\n",
      "contes002_14_grandclauspetitclaus_64kb\n",
      "Trigger positions saved to file: C:\\Users\\nadege\\Data\\CORTIFY\\Cortify_Media\\Add_Triggers\\triggers\\contes002_14_grandclauspetitclaus_64kb_trigger.txt\n"
     ]
    },
    {
     "name": "stderr",
     "output_type": "stream",
     "text": [
      "Non standard genre name: Audiobooks\n"
     ]
    },
    {
     "name": "stdout",
     "output_type": "stream",
     "text": [
      "Saving newly created stim file: C:\\Users\\nadege\\Data\\CORTIFY\\Cortify_Media\\Add_Triggers\\stimuli_with_triggers\\contes002_14_grandclauspetitclaus_64kb.mp3\n",
      "contes002_15_roimontagneor_64kb\n",
      "Trigger positions saved to file: C:\\Users\\nadege\\Data\\CORTIFY\\Cortify_Media\\Add_Triggers\\triggers\\contes002_15_roimontagneor_64kb_trigger.txt\n"
     ]
    },
    {
     "name": "stderr",
     "output_type": "stream",
     "text": [
      "Non standard genre name: Audiobooks\n"
     ]
    },
    {
     "name": "stdout",
     "output_type": "stream",
     "text": [
      "Saving newly created stim file: C:\\Users\\nadege\\Data\\CORTIFY\\Cortify_Media\\Add_Triggers\\stimuli_with_triggers\\contes002_15_roimontagneor_64kb.mp3\n",
      "contes002_16_jugehabile_64kb\n",
      "Trigger positions saved to file: C:\\Users\\nadege\\Data\\CORTIFY\\Cortify_Media\\Add_Triggers\\triggers\\contes002_16_jugehabile_64kb_trigger.txt\n"
     ]
    },
    {
     "name": "stderr",
     "output_type": "stream",
     "text": [
      "Non standard genre name: Audiobooks\n"
     ]
    },
    {
     "name": "stdout",
     "output_type": "stream",
     "text": [
      "Saving newly created stim file: C:\\Users\\nadege\\Data\\CORTIFY\\Cortify_Media\\Add_Triggers\\stimuli_with_triggers\\contes002_16_jugehabile_64kb.mp3\n",
      "contes002_17_huitchevreaux_64kb\n",
      "Trigger positions saved to file: C:\\Users\\nadege\\Data\\CORTIFY\\Cortify_Media\\Add_Triggers\\triggers\\contes002_17_huitchevreaux_64kb_trigger.txt\n"
     ]
    },
    {
     "name": "stderr",
     "output_type": "stream",
     "text": [
      "Non standard genre name: Audiobooks\n"
     ]
    },
    {
     "name": "stdout",
     "output_type": "stream",
     "text": [
      "Saving newly created stim file: C:\\Users\\nadege\\Data\\CORTIFY\\Cortify_Media\\Add_Triggers\\stimuli_with_triggers\\contes002_17_huitchevreaux_64kb.mp3\n",
      "contes002_18_histoirekoli_64kb\n",
      "Trigger positions saved to file: C:\\Users\\nadege\\Data\\CORTIFY\\Cortify_Media\\Add_Triggers\\triggers\\contes002_18_histoirekoli_64kb_trigger.txt\n"
     ]
    },
    {
     "name": "stderr",
     "output_type": "stream",
     "text": [
      "Non standard genre name: Audiobooks\n"
     ]
    },
    {
     "name": "stdout",
     "output_type": "stream",
     "text": [
      "Saving newly created stim file: C:\\Users\\nadege\\Data\\CORTIFY\\Cortify_Media\\Add_Triggers\\stimuli_with_triggers\\contes002_18_histoirekoli_64kb.mp3\n",
      "contes002_19_terrecomete_64kb\n",
      "Trigger positions saved to file: C:\\Users\\nadege\\Data\\CORTIFY\\Cortify_Media\\Add_Triggers\\triggers\\contes002_19_terrecomete_64kb_trigger.txt\n"
     ]
    },
    {
     "name": "stderr",
     "output_type": "stream",
     "text": [
      "Non standard genre name: Audiobooks\n"
     ]
    },
    {
     "name": "stdout",
     "output_type": "stream",
     "text": [
      "Saving newly created stim file: C:\\Users\\nadege\\Data\\CORTIFY\\Cortify_Media\\Add_Triggers\\stimuli_with_triggers\\contes002_19_terrecomete_64kb.mp3\n",
      "contes002_20_ourashimatarodeesseocean_64kb\n",
      "Trigger positions saved to file: C:\\Users\\nadege\\Data\\CORTIFY\\Cortify_Media\\Add_Triggers\\triggers\\contes002_20_ourashimatarodeesseocean_64kb_trigger.txt\n"
     ]
    },
    {
     "name": "stderr",
     "output_type": "stream",
     "text": [
      "Non standard genre name: Audiobooks\n"
     ]
    },
    {
     "name": "stdout",
     "output_type": "stream",
     "text": [
      "Saving newly created stim file: C:\\Users\\nadege\\Data\\CORTIFY\\Cortify_Media\\Add_Triggers\\stimuli_with_triggers\\contes002_20_ourashimatarodeesseocean_64kb.mp3\n",
      "Cui08\n",
      "Trigger positions saved to file: C:\\Users\\nadege\\Data\\CORTIFY\\Cortify_Media\\Add_Triggers\\triggers\\Cui08_trigger.txt\n"
     ]
    },
    {
     "name": "stderr",
     "output_type": "stream",
     "text": [
      "Non standard genre name: Musique\n"
     ]
    },
    {
     "name": "stdout",
     "output_type": "stream",
     "text": [
      "Saving newly created stim file: C:\\Users\\nadege\\Data\\CORTIFY\\Cortify_Media\\Add_Triggers\\stimuli_with_triggers\\Cui08.mp3\n",
      "De Pronto Me Voy a Cuba (feat. Paolino Dalla Porta)\n",
      "Trigger positions saved to file: C:\\Users\\nadege\\Data\\CORTIFY\\Cortify_Media\\Add_Triggers\\triggers\\De Pronto Me Voy a Cuba (feat. Paolino Dalla Porta)_trigger.txt\n"
     ]
    },
    {
     "name": "stderr",
     "output_type": "stream",
     "text": [
      "Non standard genre name: Musique\n"
     ]
    },
    {
     "name": "stdout",
     "output_type": "stream",
     "text": [
      "Saving newly created stim file: C:\\Users\\nadege\\Data\\CORTIFY\\Cortify_Media\\Add_Triggers\\stimuli_with_triggers\\De Pronto Me Voy a Cuba (feat. Paolino Dalla Porta).mp3\n",
      "Denisova04\n",
      "Trigger positions saved to file: C:\\Users\\nadege\\Data\\CORTIFY\\Cortify_Media\\Add_Triggers\\triggers\\Denisova04_trigger.txt\n"
     ]
    },
    {
     "name": "stderr",
     "output_type": "stream",
     "text": [
      "Non standard genre name: Musique\n"
     ]
    },
    {
     "name": "stdout",
     "output_type": "stream",
     "text": [
      "Saving newly created stim file: C:\\Users\\nadege\\Data\\CORTIFY\\Cortify_Media\\Add_Triggers\\stimuli_with_triggers\\Denisova04.mp3\n",
      "Denisova06\n",
      "Trigger positions saved to file: C:\\Users\\nadege\\Data\\CORTIFY\\Cortify_Media\\Add_Triggers\\triggers\\Denisova06_trigger.txt\n"
     ]
    },
    {
     "name": "stderr",
     "output_type": "stream",
     "text": [
      "Non standard genre name: Musique\n"
     ]
    },
    {
     "name": "stdout",
     "output_type": "stream",
     "text": [
      "Saving newly created stim file: C:\\Users\\nadege\\Data\\CORTIFY\\Cortify_Media\\Add_Triggers\\stimuli_with_triggers\\Denisova06.mp3\n",
      "fables01_00_lafontaine_jl_64kb\n",
      "Trigger positions saved to file: C:\\Users\\nadege\\Data\\CORTIFY\\Cortify_Media\\Add_Triggers\\triggers\\fables01_00_lafontaine_jl_64kb_trigger.txt\n"
     ]
    },
    {
     "name": "stderr",
     "output_type": "stream",
     "text": [
      "Non standard genre name: Audiobooks\n"
     ]
    },
    {
     "name": "stdout",
     "output_type": "stream",
     "text": [
      "Saving newly created stim file: C:\\Users\\nadege\\Data\\CORTIFY\\Cortify_Media\\Add_Triggers\\stimuli_with_triggers\\fables01_00_lafontaine_jl_64kb.mp3\n",
      "fables01_01_lafontaine_jl_64kb\n",
      "Trigger positions saved to file: C:\\Users\\nadege\\Data\\CORTIFY\\Cortify_Media\\Add_Triggers\\triggers\\fables01_01_lafontaine_jl_64kb_trigger.txt\n"
     ]
    },
    {
     "name": "stderr",
     "output_type": "stream",
     "text": [
      "Non standard genre name: Audiobooks\n"
     ]
    },
    {
     "name": "stdout",
     "output_type": "stream",
     "text": [
      "Saving newly created stim file: C:\\Users\\nadege\\Data\\CORTIFY\\Cortify_Media\\Add_Triggers\\stimuli_with_triggers\\fables01_01_lafontaine_jl_64kb.mp3\n",
      "fables01_02_lafontaine_jl_64kb\n",
      "Trigger positions saved to file: C:\\Users\\nadege\\Data\\CORTIFY\\Cortify_Media\\Add_Triggers\\triggers\\fables01_02_lafontaine_jl_64kb_trigger.txt\n"
     ]
    },
    {
     "name": "stderr",
     "output_type": "stream",
     "text": [
      "Non standard genre name: Audiobooks\n"
     ]
    },
    {
     "name": "stdout",
     "output_type": "stream",
     "text": [
      "Saving newly created stim file: C:\\Users\\nadege\\Data\\CORTIFY\\Cortify_Media\\Add_Triggers\\stimuli_with_triggers\\fables01_02_lafontaine_jl_64kb.mp3\n",
      "fables01_03_lafontaine_jl_64kb\n",
      "Trigger positions saved to file: C:\\Users\\nadege\\Data\\CORTIFY\\Cortify_Media\\Add_Triggers\\triggers\\fables01_03_lafontaine_jl_64kb_trigger.txt\n"
     ]
    },
    {
     "name": "stderr",
     "output_type": "stream",
     "text": [
      "Non standard genre name: Audiobooks\n"
     ]
    },
    {
     "name": "stdout",
     "output_type": "stream",
     "text": [
      "Saving newly created stim file: C:\\Users\\nadege\\Data\\CORTIFY\\Cortify_Media\\Add_Triggers\\stimuli_with_triggers\\fables01_03_lafontaine_jl_64kb.mp3\n",
      "fables01_04_lafontaine_jl_64kb\n",
      "Trigger positions saved to file: C:\\Users\\nadege\\Data\\CORTIFY\\Cortify_Media\\Add_Triggers\\triggers\\fables01_04_lafontaine_jl_64kb_trigger.txt\n"
     ]
    },
    {
     "name": "stderr",
     "output_type": "stream",
     "text": [
      "Non standard genre name: Audiobooks\n"
     ]
    },
    {
     "name": "stdout",
     "output_type": "stream",
     "text": [
      "Saving newly created stim file: C:\\Users\\nadege\\Data\\CORTIFY\\Cortify_Media\\Add_Triggers\\stimuli_with_triggers\\fables01_04_lafontaine_jl_64kb.mp3\n",
      "fables01_05_lafontaine_jl_64kb\n",
      "Trigger positions saved to file: C:\\Users\\nadege\\Data\\CORTIFY\\Cortify_Media\\Add_Triggers\\triggers\\fables01_05_lafontaine_jl_64kb_trigger.txt\n"
     ]
    },
    {
     "name": "stderr",
     "output_type": "stream",
     "text": [
      "Non standard genre name: Audiobooks\n"
     ]
    },
    {
     "name": "stdout",
     "output_type": "stream",
     "text": [
      "Saving newly created stim file: C:\\Users\\nadege\\Data\\CORTIFY\\Cortify_Media\\Add_Triggers\\stimuli_with_triggers\\fables01_05_lafontaine_jl_64kb.mp3\n",
      "fables01_06_lafontaine_jl_64kb\n",
      "Trigger positions saved to file: C:\\Users\\nadege\\Data\\CORTIFY\\Cortify_Media\\Add_Triggers\\triggers\\fables01_06_lafontaine_jl_64kb_trigger.txt\n"
     ]
    },
    {
     "name": "stderr",
     "output_type": "stream",
     "text": [
      "Non standard genre name: Audiobooks\n"
     ]
    },
    {
     "name": "stdout",
     "output_type": "stream",
     "text": [
      "Saving newly created stim file: C:\\Users\\nadege\\Data\\CORTIFY\\Cortify_Media\\Add_Triggers\\stimuli_with_triggers\\fables01_06_lafontaine_jl_64kb.mp3\n",
      "fables01_07_lafontaine_jl_64kb\n",
      "Trigger positions saved to file: C:\\Users\\nadege\\Data\\CORTIFY\\Cortify_Media\\Add_Triggers\\triggers\\fables01_07_lafontaine_jl_64kb_trigger.txt\n"
     ]
    },
    {
     "name": "stderr",
     "output_type": "stream",
     "text": [
      "Non standard genre name: Audiobooks\n"
     ]
    },
    {
     "name": "stdout",
     "output_type": "stream",
     "text": [
      "Saving newly created stim file: C:\\Users\\nadege\\Data\\CORTIFY\\Cortify_Media\\Add_Triggers\\stimuli_with_triggers\\fables01_07_lafontaine_jl_64kb.mp3\n",
      "fables01_08_lafontaine_jl_64kb\n",
      "Trigger positions saved to file: C:\\Users\\nadege\\Data\\CORTIFY\\Cortify_Media\\Add_Triggers\\triggers\\fables01_08_lafontaine_jl_64kb_trigger.txt\n"
     ]
    },
    {
     "name": "stderr",
     "output_type": "stream",
     "text": [
      "Non standard genre name: Audiobooks\n"
     ]
    },
    {
     "name": "stdout",
     "output_type": "stream",
     "text": [
      "Saving newly created stim file: C:\\Users\\nadege\\Data\\CORTIFY\\Cortify_Media\\Add_Triggers\\stimuli_with_triggers\\fables01_08_lafontaine_jl_64kb.mp3\n",
      "fables01_09_lafontaine_jl_64kb\n",
      "Trigger positions saved to file: C:\\Users\\nadege\\Data\\CORTIFY\\Cortify_Media\\Add_Triggers\\triggers\\fables01_09_lafontaine_jl_64kb_trigger.txt\n"
     ]
    },
    {
     "name": "stderr",
     "output_type": "stream",
     "text": [
      "Non standard genre name: Audiobooks\n"
     ]
    },
    {
     "name": "stdout",
     "output_type": "stream",
     "text": [
      "Saving newly created stim file: C:\\Users\\nadege\\Data\\CORTIFY\\Cortify_Media\\Add_Triggers\\stimuli_with_triggers\\fables01_09_lafontaine_jl_64kb.mp3\n",
      "fables01_10_lafontaine_jl_64kb\n",
      "Trigger positions saved to file: C:\\Users\\nadege\\Data\\CORTIFY\\Cortify_Media\\Add_Triggers\\triggers\\fables01_10_lafontaine_jl_64kb_trigger.txt\n"
     ]
    },
    {
     "name": "stderr",
     "output_type": "stream",
     "text": [
      "Non standard genre name: Audiobooks\n"
     ]
    },
    {
     "name": "stdout",
     "output_type": "stream",
     "text": [
      "Saving newly created stim file: C:\\Users\\nadege\\Data\\CORTIFY\\Cortify_Media\\Add_Triggers\\stimuli_with_triggers\\fables01_10_lafontaine_jl_64kb.mp3\n",
      "fables01_11_lafontaine_jl_64kb\n",
      "Trigger positions saved to file: C:\\Users\\nadege\\Data\\CORTIFY\\Cortify_Media\\Add_Triggers\\triggers\\fables01_11_lafontaine_jl_64kb_trigger.txt\n"
     ]
    },
    {
     "name": "stderr",
     "output_type": "stream",
     "text": [
      "Non standard genre name: Audiobooks\n"
     ]
    },
    {
     "name": "stdout",
     "output_type": "stream",
     "text": [
      "Saving newly created stim file: C:\\Users\\nadege\\Data\\CORTIFY\\Cortify_Media\\Add_Triggers\\stimuli_with_triggers\\fables01_11_lafontaine_jl_64kb.mp3\n",
      "fables01_12_lafontaine_jl_64kb\n",
      "Trigger positions saved to file: C:\\Users\\nadege\\Data\\CORTIFY\\Cortify_Media\\Add_Triggers\\triggers\\fables01_12_lafontaine_jl_64kb_trigger.txt\n"
     ]
    },
    {
     "name": "stderr",
     "output_type": "stream",
     "text": [
      "Non standard genre name: Audiobooks\n"
     ]
    },
    {
     "name": "stdout",
     "output_type": "stream",
     "text": [
      "Saving newly created stim file: C:\\Users\\nadege\\Data\\CORTIFY\\Cortify_Media\\Add_Triggers\\stimuli_with_triggers\\fables01_12_lafontaine_jl_64kb.mp3\n",
      "fables01_13_lafontaine_jl_64kb\n",
      "Trigger positions saved to file: C:\\Users\\nadege\\Data\\CORTIFY\\Cortify_Media\\Add_Triggers\\triggers\\fables01_13_lafontaine_jl_64kb_trigger.txt\n"
     ]
    },
    {
     "name": "stderr",
     "output_type": "stream",
     "text": [
      "Non standard genre name: Audiobooks\n"
     ]
    },
    {
     "name": "stdout",
     "output_type": "stream",
     "text": [
      "Saving newly created stim file: C:\\Users\\nadege\\Data\\CORTIFY\\Cortify_Media\\Add_Triggers\\stimuli_with_triggers\\fables01_13_lafontaine_jl_64kb.mp3\n",
      "fables01_14_lafontaine_jl_64kb\n",
      "Trigger positions saved to file: C:\\Users\\nadege\\Data\\CORTIFY\\Cortify_Media\\Add_Triggers\\triggers\\fables01_14_lafontaine_jl_64kb_trigger.txt\n"
     ]
    },
    {
     "name": "stderr",
     "output_type": "stream",
     "text": [
      "Non standard genre name: Audiobooks\n"
     ]
    },
    {
     "name": "stdout",
     "output_type": "stream",
     "text": [
      "Saving newly created stim file: C:\\Users\\nadege\\Data\\CORTIFY\\Cortify_Media\\Add_Triggers\\stimuli_with_triggers\\fables01_14_lafontaine_jl_64kb.mp3\n",
      "fables01_15_lafontaine_jl_64kb\n",
      "Trigger positions saved to file: C:\\Users\\nadege\\Data\\CORTIFY\\Cortify_Media\\Add_Triggers\\triggers\\fables01_15_lafontaine_jl_64kb_trigger.txt\n"
     ]
    },
    {
     "name": "stderr",
     "output_type": "stream",
     "text": [
      "Non standard genre name: Audiobooks\n"
     ]
    },
    {
     "name": "stdout",
     "output_type": "stream",
     "text": [
      "Saving newly created stim file: C:\\Users\\nadege\\Data\\CORTIFY\\Cortify_Media\\Add_Triggers\\stimuli_with_triggers\\fables01_15_lafontaine_jl_64kb.mp3\n",
      "fables01_16_lafontaine_jl_64kb\n",
      "Trigger positions saved to file: C:\\Users\\nadege\\Data\\CORTIFY\\Cortify_Media\\Add_Triggers\\triggers\\fables01_16_lafontaine_jl_64kb_trigger.txt\n"
     ]
    },
    {
     "name": "stderr",
     "output_type": "stream",
     "text": [
      "Non standard genre name: Audiobooks\n"
     ]
    },
    {
     "name": "stdout",
     "output_type": "stream",
     "text": [
      "Saving newly created stim file: C:\\Users\\nadege\\Data\\CORTIFY\\Cortify_Media\\Add_Triggers\\stimuli_with_triggers\\fables01_16_lafontaine_jl_64kb.mp3\n",
      "fables01_17_lafontaine_jl_64kb\n",
      "Trigger positions saved to file: C:\\Users\\nadege\\Data\\CORTIFY\\Cortify_Media\\Add_Triggers\\triggers\\fables01_17_lafontaine_jl_64kb_trigger.txt\n"
     ]
    },
    {
     "name": "stderr",
     "output_type": "stream",
     "text": [
      "Non standard genre name: Audiobooks\n"
     ]
    },
    {
     "name": "stdout",
     "output_type": "stream",
     "text": [
      "Saving newly created stim file: C:\\Users\\nadege\\Data\\CORTIFY\\Cortify_Media\\Add_Triggers\\stimuli_with_triggers\\fables01_17_lafontaine_jl_64kb.mp3\n",
      "fables01_18_lafontaine_jl_64kb\n",
      "Trigger positions saved to file: C:\\Users\\nadege\\Data\\CORTIFY\\Cortify_Media\\Add_Triggers\\triggers\\fables01_18_lafontaine_jl_64kb_trigger.txt\n"
     ]
    },
    {
     "name": "stderr",
     "output_type": "stream",
     "text": [
      "Non standard genre name: Audiobooks\n"
     ]
    },
    {
     "name": "stdout",
     "output_type": "stream",
     "text": [
      "Saving newly created stim file: C:\\Users\\nadege\\Data\\CORTIFY\\Cortify_Media\\Add_Triggers\\stimuli_with_triggers\\fables01_18_lafontaine_jl_64kb.mp3\n",
      "fables01_19_lafontaine_jl_64kb\n",
      "Trigger positions saved to file: C:\\Users\\nadege\\Data\\CORTIFY\\Cortify_Media\\Add_Triggers\\triggers\\fables01_19_lafontaine_jl_64kb_trigger.txt\n"
     ]
    },
    {
     "name": "stderr",
     "output_type": "stream",
     "text": [
      "Non standard genre name: Audiobooks\n"
     ]
    },
    {
     "name": "stdout",
     "output_type": "stream",
     "text": [
      "Saving newly created stim file: C:\\Users\\nadege\\Data\\CORTIFY\\Cortify_Media\\Add_Triggers\\stimuli_with_triggers\\fables01_19_lafontaine_jl_64kb.mp3\n",
      "fables01_20_lafontaine_jl_64kb\n",
      "Trigger positions saved to file: C:\\Users\\nadege\\Data\\CORTIFY\\Cortify_Media\\Add_Triggers\\triggers\\fables01_20_lafontaine_jl_64kb_trigger.txt\n"
     ]
    },
    {
     "name": "stderr",
     "output_type": "stream",
     "text": [
      "Non standard genre name: Audiobooks\n"
     ]
    },
    {
     "name": "stdout",
     "output_type": "stream",
     "text": [
      "Saving newly created stim file: C:\\Users\\nadege\\Data\\CORTIFY\\Cortify_Media\\Add_Triggers\\stimuli_with_triggers\\fables01_20_lafontaine_jl_64kb.mp3\n",
      "fables01_21_lafontaine_jl_64kb\n",
      "Trigger positions saved to file: C:\\Users\\nadege\\Data\\CORTIFY\\Cortify_Media\\Add_Triggers\\triggers\\fables01_21_lafontaine_jl_64kb_trigger.txt\n"
     ]
    },
    {
     "name": "stderr",
     "output_type": "stream",
     "text": [
      "Non standard genre name: Audiobooks\n"
     ]
    },
    {
     "name": "stdout",
     "output_type": "stream",
     "text": [
      "Saving newly created stim file: C:\\Users\\nadege\\Data\\CORTIFY\\Cortify_Media\\Add_Triggers\\stimuli_with_triggers\\fables01_21_lafontaine_jl_64kb.mp3\n",
      "fables01_22_lafontaine_jl_64kb\n",
      "Trigger positions saved to file: C:\\Users\\nadege\\Data\\CORTIFY\\Cortify_Media\\Add_Triggers\\triggers\\fables01_22_lafontaine_jl_64kb_trigger.txt\n"
     ]
    },
    {
     "name": "stderr",
     "output_type": "stream",
     "text": [
      "Non standard genre name: Audiobooks\n"
     ]
    },
    {
     "name": "stdout",
     "output_type": "stream",
     "text": [
      "Saving newly created stim file: C:\\Users\\nadege\\Data\\CORTIFY\\Cortify_Media\\Add_Triggers\\stimuli_with_triggers\\fables01_22_lafontaine_jl_64kb.mp3\n",
      "Face of an Angel\n",
      "Trigger positions saved to file: C:\\Users\\nadege\\Data\\CORTIFY\\Cortify_Media\\Add_Triggers\\triggers\\Face of an Angel_trigger.txt\n"
     ]
    },
    {
     "name": "stderr",
     "output_type": "stream",
     "text": [
      "Non standard genre name: Musique\n"
     ]
    },
    {
     "name": "stdout",
     "output_type": "stream",
     "text": [
      "Saving newly created stim file: C:\\Users\\nadege\\Data\\CORTIFY\\Cortify_Media\\Add_Triggers\\stimuli_with_triggers\\Face of an Angel.mp3\n",
      "Fung02\n",
      "Trigger positions saved to file: C:\\Users\\nadege\\Data\\CORTIFY\\Cortify_Media\\Add_Triggers\\triggers\\Fung02_trigger.txt\n"
     ]
    },
    {
     "name": "stderr",
     "output_type": "stream",
     "text": [
      "Non standard genre name: Musique\n"
     ]
    },
    {
     "name": "stdout",
     "output_type": "stream",
     "text": [
      "Saving newly created stim file: C:\\Users\\nadege\\Data\\CORTIFY\\Cortify_Media\\Add_Triggers\\stimuli_with_triggers\\Fung02.mp3\n",
      "Gandharvas Gathering\n",
      "Trigger positions saved to file: C:\\Users\\nadege\\Data\\CORTIFY\\Cortify_Media\\Add_Triggers\\triggers\\Gandharvas Gathering_trigger.txt\n"
     ]
    },
    {
     "name": "stderr",
     "output_type": "stream",
     "text": [
      "Non standard genre name: Musique\n"
     ]
    },
    {
     "name": "stdout",
     "output_type": "stream",
     "text": [
      "Saving newly created stim file: C:\\Users\\nadege\\Data\\CORTIFY\\Cortify_Media\\Add_Triggers\\stimuli_with_triggers\\Gandharvas Gathering.mp3\n",
      "Garritson08\n",
      "Trigger positions saved to file: C:\\Users\\nadege\\Data\\CORTIFY\\Cortify_Media\\Add_Triggers\\triggers\\Garritson08_trigger.txt\n"
     ]
    },
    {
     "name": "stderr",
     "output_type": "stream",
     "text": [
      "Non standard genre name: Musique\n"
     ]
    },
    {
     "name": "stdout",
     "output_type": "stream",
     "text": [
      "Saving newly created stim file: C:\\Users\\nadege\\Data\\CORTIFY\\Cortify_Media\\Add_Triggers\\stimuli_with_triggers\\Garritson08.mp3\n",
      "Gokcin04\n",
      "Trigger positions saved to file: C:\\Users\\nadege\\Data\\CORTIFY\\Cortify_Media\\Add_Triggers\\triggers\\Gokcin04_trigger.txt\n"
     ]
    },
    {
     "name": "stderr",
     "output_type": "stream",
     "text": [
      "Non standard genre name: Musique\n"
     ]
    },
    {
     "name": "stdout",
     "output_type": "stream",
     "text": [
      "Saving newly created stim file: C:\\Users\\nadege\\Data\\CORTIFY\\Cortify_Media\\Add_Triggers\\stimuli_with_triggers\\Gokcin04.mp3\n",
      "Hey, Fred!\n",
      "Trigger positions saved to file: C:\\Users\\nadege\\Data\\CORTIFY\\Cortify_Media\\Add_Triggers\\triggers\\Hey, Fred!_trigger.txt\n"
     ]
    },
    {
     "name": "stderr",
     "output_type": "stream",
     "text": [
      "Non standard genre name: Musique\n"
     ]
    },
    {
     "name": "stdout",
     "output_type": "stream",
     "text": [
      "Saving newly created stim file: C:\\Users\\nadege\\Data\\CORTIFY\\Cortify_Media\\Add_Triggers\\stimuli_with_triggers\\Hey, Fred!.mp3\n",
      "Homesick\n",
      "Trigger positions saved to file: C:\\Users\\nadege\\Data\\CORTIFY\\Cortify_Media\\Add_Triggers\\triggers\\Homesick_trigger.txt\n"
     ]
    },
    {
     "name": "stderr",
     "output_type": "stream",
     "text": [
      "Non standard genre name: Musique\n"
     ]
    },
    {
     "name": "stdout",
     "output_type": "stream",
     "text": [
      "Saving newly created stim file: C:\\Users\\nadege\\Data\\CORTIFY\\Cortify_Media\\Add_Triggers\\stimuli_with_triggers\\Homesick.mp3\n",
      "Huang13\n",
      "Trigger positions saved to file: C:\\Users\\nadege\\Data\\CORTIFY\\Cortify_Media\\Add_Triggers\\triggers\\Huang13_trigger.txt\n"
     ]
    },
    {
     "name": "stderr",
     "output_type": "stream",
     "text": [
      "Non standard genre name: Musique\n"
     ]
    },
    {
     "name": "stdout",
     "output_type": "stream",
     "text": [
      "Saving newly created stim file: C:\\Users\\nadege\\Data\\CORTIFY\\Cortify_Media\\Add_Triggers\\stimuli_with_triggers\\Huang13.mp3\n",
      "Invisible Path\n",
      "Trigger positions saved to file: C:\\Users\\nadege\\Data\\CORTIFY\\Cortify_Media\\Add_Triggers\\triggers\\Invisible Path_trigger.txt\n"
     ]
    },
    {
     "name": "stderr",
     "output_type": "stream",
     "text": [
      "Non standard genre name: Musique\n"
     ]
    },
    {
     "name": "stdout",
     "output_type": "stream",
     "text": [
      "Saving newly created stim file: C:\\Users\\nadege\\Data\\CORTIFY\\Cortify_Media\\Add_Triggers\\stimuli_with_triggers\\Invisible Path.mp3\n",
      "J'ai testé la glissitude des bananes - Réponse à @Squeezie\n",
      "Trigger positions saved to file: C:\\Users\\nadege\\Data\\CORTIFY\\Cortify_Media\\Add_Triggers\\triggers\\J'ai testé la glissitude des bananes - Réponse à @Squeezie_trigger.txt\n",
      "Moviepy - Building video C:\\Users\\nadege\\Data\\CORTIFY\\Cortify_Media\\Add_Triggers\\stimuli_with_triggers\\J'ai testé la glissitude des bananes - Réponse à @Squeezie.mp4.\n",
      "MoviePy - Writing audio in J'ai testé la glissitude des bananes - Réponse à @Squeezie-temp-audio.m4a\n"
     ]
    },
    {
     "name": "stderr",
     "output_type": "stream",
     "text": [
      "                                                                        \r"
     ]
    },
    {
     "name": "stdout",
     "output_type": "stream",
     "text": [
      "MoviePy - Done.\n",
      "Moviepy - Writing video C:\\Users\\nadege\\Data\\CORTIFY\\Cortify_Media\\Add_Triggers\\stimuli_with_triggers\\J'ai testé la glissitude des bananes - Réponse à @Squeezie.mp4\n",
      "\n"
     ]
    },
    {
     "name": "stderr",
     "output_type": "stream",
     "text": [
      "                                                                   \r"
     ]
    },
    {
     "name": "stdout",
     "output_type": "stream",
     "text": [
      "Moviepy - Done !\n",
      "Moviepy - video ready C:\\Users\\nadege\\Data\\CORTIFY\\Cortify_Media\\Add_Triggers\\stimuli_with_triggers\\J'ai testé la glissitude des bananes - Réponse à @Squeezie.mp4\n",
      "Jia01\n",
      "Trigger positions saved to file: C:\\Users\\nadege\\Data\\CORTIFY\\Cortify_Media\\Add_Triggers\\triggers\\Jia01_trigger.txt\n"
     ]
    },
    {
     "name": "stderr",
     "output_type": "stream",
     "text": [
      "Non standard genre name: Musique\n"
     ]
    },
    {
     "name": "stdout",
     "output_type": "stream",
     "text": [
      "Saving newly created stim file: C:\\Users\\nadege\\Data\\CORTIFY\\Cortify_Media\\Add_Triggers\\stimuli_with_triggers\\Jia01.mp3\n",
      "Jussow03\n",
      "Trigger positions saved to file: C:\\Users\\nadege\\Data\\CORTIFY\\Cortify_Media\\Add_Triggers\\triggers\\Jussow03_trigger.txt\n"
     ]
    },
    {
     "name": "stderr",
     "output_type": "stream",
     "text": [
      "Non standard genre name: Musique\n"
     ]
    },
    {
     "name": "stdout",
     "output_type": "stream",
     "text": [
      "Saving newly created stim file: C:\\Users\\nadege\\Data\\CORTIFY\\Cortify_Media\\Add_Triggers\\stimuli_with_triggers\\Jussow03.mp3\n",
      "Jussow08\n",
      "Trigger positions saved to file: C:\\Users\\nadege\\Data\\CORTIFY\\Cortify_Media\\Add_Triggers\\triggers\\Jussow08_trigger.txt\n"
     ]
    },
    {
     "name": "stderr",
     "output_type": "stream",
     "text": [
      "Non standard genre name: Musique\n"
     ]
    },
    {
     "name": "stdout",
     "output_type": "stream",
     "text": [
      "Saving newly created stim file: C:\\Users\\nadege\\Data\\CORTIFY\\Cortify_Media\\Add_Triggers\\stimuli_with_triggers\\Jussow08.mp3\n",
      "KimG01\n",
      "Trigger positions saved to file: C:\\Users\\nadege\\Data\\CORTIFY\\Cortify_Media\\Add_Triggers\\triggers\\KimG01_trigger.txt\n"
     ]
    },
    {
     "name": "stderr",
     "output_type": "stream",
     "text": [
      "Non standard genre name: Musique\n"
     ]
    },
    {
     "name": "stdout",
     "output_type": "stream",
     "text": [
      "Saving newly created stim file: C:\\Users\\nadege\\Data\\CORTIFY\\Cortify_Media\\Add_Triggers\\stimuli_with_triggers\\KimG01.mp3\n",
      "Ko09\n",
      "Trigger positions saved to file: C:\\Users\\nadege\\Data\\CORTIFY\\Cortify_Media\\Add_Triggers\\triggers\\Ko09_trigger.txt\n"
     ]
    },
    {
     "name": "stderr",
     "output_type": "stream",
     "text": [
      "Non standard genre name: Musique\n"
     ]
    },
    {
     "name": "stdout",
     "output_type": "stream",
     "text": [
      "Saving newly created stim file: C:\\Users\\nadege\\Data\\CORTIFY\\Cortify_Media\\Add_Triggers\\stimuli_with_triggers\\Ko09.mp3\n",
      "KRASNI05\n",
      "Trigger positions saved to file: C:\\Users\\nadege\\Data\\CORTIFY\\Cortify_Media\\Add_Triggers\\triggers\\KRASNI05_trigger.txt\n"
     ]
    },
    {
     "name": "stderr",
     "output_type": "stream",
     "text": [
      "Non standard genre name: Musique\n"
     ]
    },
    {
     "name": "stdout",
     "output_type": "stream",
     "text": [
      "Saving newly created stim file: C:\\Users\\nadege\\Data\\CORTIFY\\Cortify_Media\\Add_Triggers\\stimuli_with_triggers\\KRASNI05.mp3\n",
      "Kunz04\n",
      "Trigger positions saved to file: C:\\Users\\nadege\\Data\\CORTIFY\\Cortify_Media\\Add_Triggers\\triggers\\Kunz04_trigger.txt\n"
     ]
    },
    {
     "name": "stderr",
     "output_type": "stream",
     "text": [
      "Non standard genre name: Musique\n"
     ]
    },
    {
     "name": "stdout",
     "output_type": "stream",
     "text": [
      "Saving newly created stim file: C:\\Users\\nadege\\Data\\CORTIFY\\Cortify_Media\\Add_Triggers\\stimuli_with_triggers\\Kunz04.mp3\n",
      "L etonnante histoire de la medecine du cerveau\n",
      "Trigger positions saved to file: C:\\Users\\nadege\\Data\\CORTIFY\\Cortify_Media\\Add_Triggers\\triggers\\L etonnante histoire de la medecine du cerveau_trigger.txt\n",
      "Moviepy - Building video C:\\Users\\nadege\\Data\\CORTIFY\\Cortify_Media\\Add_Triggers\\stimuli_with_triggers\\L etonnante histoire de la medecine du cerveau.mp4.\n",
      "MoviePy - Writing audio in L etonnante histoire de la medecine du cerveau-temp-audio.m4a\n"
     ]
    },
    {
     "name": "stderr",
     "output_type": "stream",
     "text": [
      "                                                                        \r"
     ]
    },
    {
     "name": "stdout",
     "output_type": "stream",
     "text": [
      "MoviePy - Done.\n",
      "Moviepy - Writing video C:\\Users\\nadege\\Data\\CORTIFY\\Cortify_Media\\Add_Triggers\\stimuli_with_triggers\\L etonnante histoire de la medecine du cerveau.mp4\n",
      "\n"
     ]
    },
    {
     "name": "stderr",
     "output_type": "stream",
     "text": [
      "                                                                   \r"
     ]
    },
    {
     "name": "stdout",
     "output_type": "stream",
     "text": [
      "Moviepy - Done !\n",
      "Moviepy - video ready C:\\Users\\nadege\\Data\\CORTIFY\\Cortify_Media\\Add_Triggers\\stimuli_with_triggers\\L etonnante histoire de la medecine du cerveau.mp4\n",
      "La vision surhumaine est là (mieux que l'IA)\n",
      "Trigger positions saved to file: C:\\Users\\nadege\\Data\\CORTIFY\\Cortify_Media\\Add_Triggers\\triggers\\La vision surhumaine est là (mieux que l'IA)_trigger.txt\n",
      "Moviepy - Building video C:\\Users\\nadege\\Data\\CORTIFY\\Cortify_Media\\Add_Triggers\\stimuli_with_triggers\\La vision surhumaine est là (mieux que l'IA).mp4.\n",
      "MoviePy - Writing audio in La vision surhumaine est là (mieux que l'IA)-temp-audio.m4a\n"
     ]
    },
    {
     "name": "stderr",
     "output_type": "stream",
     "text": [
      "                                                                        \r"
     ]
    },
    {
     "name": "stdout",
     "output_type": "stream",
     "text": [
      "MoviePy - Done.\n",
      "Moviepy - Writing video C:\\Users\\nadege\\Data\\CORTIFY\\Cortify_Media\\Add_Triggers\\stimuli_with_triggers\\La vision surhumaine est là (mieux que l'IA).mp4\n",
      "\n"
     ]
    },
    {
     "name": "stderr",
     "output_type": "stream",
     "text": [
      "                                                                   \r"
     ]
    },
    {
     "name": "stdout",
     "output_type": "stream",
     "text": [
      "Moviepy - Done !\n",
      "Moviepy - video ready C:\\Users\\nadege\\Data\\CORTIFY\\Cortify_Media\\Add_Triggers\\stimuli_with_triggers\\La vision surhumaine est là (mieux que l'IA).mp4\n",
      "Le côté obscur de la patate\n",
      "Trigger positions saved to file: C:\\Users\\nadege\\Data\\CORTIFY\\Cortify_Media\\Add_Triggers\\triggers\\Le côté obscur de la patate_trigger.txt\n",
      "Moviepy - Building video C:\\Users\\nadege\\Data\\CORTIFY\\Cortify_Media\\Add_Triggers\\stimuli_with_triggers\\Le côté obscur de la patate.mp4.\n",
      "MoviePy - Writing audio in Le côté obscur de la patate-temp-audio.m4a\n"
     ]
    },
    {
     "name": "stderr",
     "output_type": "stream",
     "text": [
      "                                                                        \r"
     ]
    },
    {
     "name": "stdout",
     "output_type": "stream",
     "text": [
      "MoviePy - Done.\n",
      "Moviepy - Writing video C:\\Users\\nadege\\Data\\CORTIFY\\Cortify_Media\\Add_Triggers\\stimuli_with_triggers\\Le côté obscur de la patate.mp4\n",
      "\n"
     ]
    },
    {
     "name": "stderr",
     "output_type": "stream",
     "text": [
      "                                                                   \r"
     ]
    },
    {
     "name": "stdout",
     "output_type": "stream",
     "text": [
      "Moviepy - Done !\n",
      "Moviepy - video ready C:\\Users\\nadege\\Data\\CORTIFY\\Cortify_Media\\Add_Triggers\\stimuli_with_triggers\\Le côté obscur de la patate.mp4\n",
      "Le Mythe des Ninjas\n",
      "Trigger positions saved to file: C:\\Users\\nadege\\Data\\CORTIFY\\Cortify_Media\\Add_Triggers\\triggers\\Le Mythe des Ninjas_trigger.txt\n",
      "Moviepy - Building video C:\\Users\\nadege\\Data\\CORTIFY\\Cortify_Media\\Add_Triggers\\stimuli_with_triggers\\Le Mythe des Ninjas.mp4.\n",
      "MoviePy - Writing audio in Le Mythe des Ninjas-temp-audio.m4a\n"
     ]
    },
    {
     "name": "stderr",
     "output_type": "stream",
     "text": [
      "                                                                        \r"
     ]
    },
    {
     "name": "stdout",
     "output_type": "stream",
     "text": [
      "MoviePy - Done.\n",
      "Moviepy - Writing video C:\\Users\\nadege\\Data\\CORTIFY\\Cortify_Media\\Add_Triggers\\stimuli_with_triggers\\Le Mythe des Ninjas.mp4\n",
      "\n"
     ]
    },
    {
     "name": "stderr",
     "output_type": "stream",
     "text": [
      "                                                                   \r"
     ]
    },
    {
     "name": "stdout",
     "output_type": "stream",
     "text": [
      "Moviepy - Done !\n",
      "Moviepy - video ready C:\\Users\\nadege\\Data\\CORTIFY\\Cortify_Media\\Add_Triggers\\stimuli_with_triggers\\Le Mythe des Ninjas.mp4\n",
      "Le réflexe du cintre est... surprenant !\n",
      "Trigger positions saved to file: C:\\Users\\nadege\\Data\\CORTIFY\\Cortify_Media\\Add_Triggers\\triggers\\Le réflexe du cintre est... surprenant !_trigger.txt\n",
      "Moviepy - Building video C:\\Users\\nadege\\Data\\CORTIFY\\Cortify_Media\\Add_Triggers\\stimuli_with_triggers\\Le réflexe du cintre est... surprenant !.mp4.\n",
      "MoviePy - Writing audio in Le réflexe du cintre est... surprenant !-temp-audio.m4a\n"
     ]
    },
    {
     "name": "stderr",
     "output_type": "stream",
     "text": [
      "                                                                        \r"
     ]
    },
    {
     "name": "stdout",
     "output_type": "stream",
     "text": [
      "MoviePy - Done.\n",
      "Moviepy - Writing video C:\\Users\\nadege\\Data\\CORTIFY\\Cortify_Media\\Add_Triggers\\stimuli_with_triggers\\Le réflexe du cintre est... surprenant !.mp4\n",
      "\n"
     ]
    },
    {
     "name": "stderr",
     "output_type": "stream",
     "text": [
      "                                                                   \r"
     ]
    },
    {
     "name": "stdout",
     "output_type": "stream",
     "text": [
      "Moviepy - Done !\n",
      "Moviepy - video ready C:\\Users\\nadege\\Data\\CORTIFY\\Cortify_Media\\Add_Triggers\\stimuli_with_triggers\\Le réflexe du cintre est... surprenant !.mp4\n",
      "LEE_H02\n",
      "Trigger positions saved to file: C:\\Users\\nadege\\Data\\CORTIFY\\Cortify_Media\\Add_Triggers\\triggers\\LEE_H02_trigger.txt\n"
     ]
    },
    {
     "name": "stderr",
     "output_type": "stream",
     "text": [
      "Non standard genre name: Musique\n"
     ]
    },
    {
     "name": "stdout",
     "output_type": "stream",
     "text": [
      "Saving newly created stim file: C:\\Users\\nadege\\Data\\CORTIFY\\Cortify_Media\\Add_Triggers\\stimuli_with_triggers\\LEE_H02.mp3\n",
      "lehorla_01_maupassant_64kb\n",
      "Trigger positions saved to file: C:\\Users\\nadege\\Data\\CORTIFY\\Cortify_Media\\Add_Triggers\\triggers\\lehorla_01_maupassant_64kb_trigger.txt\n"
     ]
    },
    {
     "name": "stderr",
     "output_type": "stream",
     "text": [
      "Non standard genre name: Audiobooks\n"
     ]
    },
    {
     "name": "stdout",
     "output_type": "stream",
     "text": [
      "Saving newly created stim file: C:\\Users\\nadege\\Data\\CORTIFY\\Cortify_Media\\Add_Triggers\\stimuli_with_triggers\\lehorla_01_maupassant_64kb.mp3\n",
      "lehorla_02_maupassant_64kb\n",
      "Trigger positions saved to file: C:\\Users\\nadege\\Data\\CORTIFY\\Cortify_Media\\Add_Triggers\\triggers\\lehorla_02_maupassant_64kb_trigger.txt\n"
     ]
    },
    {
     "name": "stderr",
     "output_type": "stream",
     "text": [
      "Non standard genre name: Audiobooks\n"
     ]
    },
    {
     "name": "stdout",
     "output_type": "stream",
     "text": [
      "Saving newly created stim file: C:\\Users\\nadege\\Data\\CORTIFY\\Cortify_Media\\Add_Triggers\\stimuli_with_triggers\\lehorla_02_maupassant_64kb.mp3\n",
      "lehorla_03_maupassant_64kb\n",
      "Trigger positions saved to file: C:\\Users\\nadege\\Data\\CORTIFY\\Cortify_Media\\Add_Triggers\\triggers\\lehorla_03_maupassant_64kb_trigger.txt\n"
     ]
    },
    {
     "name": "stderr",
     "output_type": "stream",
     "text": [
      "Non standard genre name: Audiobooks\n"
     ]
    },
    {
     "name": "stdout",
     "output_type": "stream",
     "text": [
      "Saving newly created stim file: C:\\Users\\nadege\\Data\\CORTIFY\\Cortify_Media\\Add_Triggers\\stimuli_with_triggers\\lehorla_03_maupassant_64kb.mp3\n",
      "lehorla_04_maupassant_64kb\n",
      "Trigger positions saved to file: C:\\Users\\nadege\\Data\\CORTIFY\\Cortify_Media\\Add_Triggers\\triggers\\lehorla_04_maupassant_64kb_trigger.txt\n"
     ]
    },
    {
     "name": "stderr",
     "output_type": "stream",
     "text": [
      "Non standard genre name: Audiobooks\n"
     ]
    },
    {
     "name": "stdout",
     "output_type": "stream",
     "text": [
      "Saving newly created stim file: C:\\Users\\nadege\\Data\\CORTIFY\\Cortify_Media\\Add_Triggers\\stimuli_with_triggers\\lehorla_04_maupassant_64kb.mp3\n",
      "lehorla_05_maupassant_64kb\n",
      "Trigger positions saved to file: C:\\Users\\nadege\\Data\\CORTIFY\\Cortify_Media\\Add_Triggers\\triggers\\lehorla_05_maupassant_64kb_trigger.txt\n"
     ]
    },
    {
     "name": "stderr",
     "output_type": "stream",
     "text": [
      "Non standard genre name: Audiobooks\n"
     ]
    },
    {
     "name": "stdout",
     "output_type": "stream",
     "text": [
      "Saving newly created stim file: C:\\Users\\nadege\\Data\\CORTIFY\\Cortify_Media\\Add_Triggers\\stimuli_with_triggers\\lehorla_05_maupassant_64kb.mp3\n",
      "lehorla_06_maupassant_64kb\n",
      "Trigger positions saved to file: C:\\Users\\nadege\\Data\\CORTIFY\\Cortify_Media\\Add_Triggers\\triggers\\lehorla_06_maupassant_64kb_trigger.txt\n"
     ]
    },
    {
     "name": "stderr",
     "output_type": "stream",
     "text": [
      "Non standard genre name: Audiobooks\n"
     ]
    },
    {
     "name": "stdout",
     "output_type": "stream",
     "text": [
      "Saving newly created stim file: C:\\Users\\nadege\\Data\\CORTIFY\\Cortify_Media\\Add_Triggers\\stimuli_with_triggers\\lehorla_06_maupassant_64kb.mp3\n",
      "lehorla_07_maupassant_64kb\n",
      "Trigger positions saved to file: C:\\Users\\nadege\\Data\\CORTIFY\\Cortify_Media\\Add_Triggers\\triggers\\lehorla_07_maupassant_64kb_trigger.txt\n"
     ]
    },
    {
     "name": "stderr",
     "output_type": "stream",
     "text": [
      "Non standard genre name: Audiobooks\n"
     ]
    },
    {
     "name": "stdout",
     "output_type": "stream",
     "text": [
      "Saving newly created stim file: C:\\Users\\nadege\\Data\\CORTIFY\\Cortify_Media\\Add_Triggers\\stimuli_with_triggers\\lehorla_07_maupassant_64kb.mp3\n",
      "lehorla_08_maupassant_64kb\n",
      "Trigger positions saved to file: C:\\Users\\nadege\\Data\\CORTIFY\\Cortify_Media\\Add_Triggers\\triggers\\lehorla_08_maupassant_64kb_trigger.txt\n"
     ]
    },
    {
     "name": "stderr",
     "output_type": "stream",
     "text": [
      "Non standard genre name: Audiobooks\n"
     ]
    },
    {
     "name": "stdout",
     "output_type": "stream",
     "text": [
      "Saving newly created stim file: C:\\Users\\nadege\\Data\\CORTIFY\\Cortify_Media\\Add_Triggers\\stimuli_with_triggers\\lehorla_08_maupassant_64kb.mp3\n",
      "lehorla_09_maupassant_64kb\n",
      "Trigger positions saved to file: C:\\Users\\nadege\\Data\\CORTIFY\\Cortify_Media\\Add_Triggers\\triggers\\lehorla_09_maupassant_64kb_trigger.txt\n"
     ]
    },
    {
     "name": "stderr",
     "output_type": "stream",
     "text": [
      "Non standard genre name: Audiobooks\n"
     ]
    },
    {
     "name": "stdout",
     "output_type": "stream",
     "text": [
      "Saving newly created stim file: C:\\Users\\nadege\\Data\\CORTIFY\\Cortify_Media\\Add_Triggers\\stimuli_with_triggers\\lehorla_09_maupassant_64kb.mp3\n",
      "lehorla_10_maupassant_64kb\n",
      "Trigger positions saved to file: C:\\Users\\nadege\\Data\\CORTIFY\\Cortify_Media\\Add_Triggers\\triggers\\lehorla_10_maupassant_64kb_trigger.txt\n"
     ]
    },
    {
     "name": "stderr",
     "output_type": "stream",
     "text": [
      "Non standard genre name: Audiobooks\n"
     ]
    },
    {
     "name": "stdout",
     "output_type": "stream",
     "text": [
      "Saving newly created stim file: C:\\Users\\nadege\\Data\\CORTIFY\\Cortify_Media\\Add_Triggers\\stimuli_with_triggers\\lehorla_10_maupassant_64kb.mp3\n",
      "lehorla_11_maupassant_64kb\n",
      "Trigger positions saved to file: C:\\Users\\nadege\\Data\\CORTIFY\\Cortify_Media\\Add_Triggers\\triggers\\lehorla_11_maupassant_64kb_trigger.txt\n"
     ]
    },
    {
     "name": "stderr",
     "output_type": "stream",
     "text": [
      "Non standard genre name: Audiobooks\n"
     ]
    },
    {
     "name": "stdout",
     "output_type": "stream",
     "text": [
      "Saving newly created stim file: C:\\Users\\nadege\\Data\\CORTIFY\\Cortify_Media\\Add_Triggers\\stimuli_with_triggers\\lehorla_11_maupassant_64kb.mp3\n",
      "lehorla_12_maupassant_64kb\n",
      "Trigger positions saved to file: C:\\Users\\nadege\\Data\\CORTIFY\\Cortify_Media\\Add_Triggers\\triggers\\lehorla_12_maupassant_64kb_trigger.txt\n"
     ]
    },
    {
     "name": "stderr",
     "output_type": "stream",
     "text": [
      "Non standard genre name: Audiobooks\n"
     ]
    },
    {
     "name": "stdout",
     "output_type": "stream",
     "text": [
      "Saving newly created stim file: C:\\Users\\nadege\\Data\\CORTIFY\\Cortify_Media\\Add_Triggers\\stimuli_with_triggers\\lehorla_12_maupassant_64kb.mp3\n",
      "lehorla_13_maupassant_64kb\n",
      "Trigger positions saved to file: C:\\Users\\nadege\\Data\\CORTIFY\\Cortify_Media\\Add_Triggers\\triggers\\lehorla_13_maupassant_64kb_trigger.txt\n"
     ]
    },
    {
     "name": "stderr",
     "output_type": "stream",
     "text": [
      "Non standard genre name: Audiobooks\n"
     ]
    },
    {
     "name": "stdout",
     "output_type": "stream",
     "text": [
      "Saving newly created stim file: C:\\Users\\nadege\\Data\\CORTIFY\\Cortify_Media\\Add_Triggers\\stimuli_with_triggers\\lehorla_13_maupassant_64kb.mp3\n",
      "lehorla_14_maupassant_64kb\n",
      "Trigger positions saved to file: C:\\Users\\nadege\\Data\\CORTIFY\\Cortify_Media\\Add_Triggers\\triggers\\lehorla_14_maupassant_64kb_trigger.txt\n"
     ]
    },
    {
     "name": "stderr",
     "output_type": "stream",
     "text": [
      "Non standard genre name: Audiobooks\n"
     ]
    },
    {
     "name": "stdout",
     "output_type": "stream",
     "text": [
      "Saving newly created stim file: C:\\Users\\nadege\\Data\\CORTIFY\\Cortify_Media\\Add_Triggers\\stimuli_with_triggers\\lehorla_14_maupassant_64kb.mp3\n",
      "Les animaux sont-ils droitiers des pattes\n",
      "Trigger positions saved to file: C:\\Users\\nadege\\Data\\CORTIFY\\Cortify_Media\\Add_Triggers\\triggers\\Les animaux sont-ils droitiers des pattes_trigger.txt\n",
      "Moviepy - Building video C:\\Users\\nadege\\Data\\CORTIFY\\Cortify_Media\\Add_Triggers\\stimuli_with_triggers\\Les animaux sont-ils droitiers des pattes.mp4.\n",
      "MoviePy - Writing audio in Les animaux sont-ils droitiers des pattes-temp-audio.m4a\n"
     ]
    },
    {
     "name": "stderr",
     "output_type": "stream",
     "text": [
      "                                                                        \r"
     ]
    },
    {
     "name": "stdout",
     "output_type": "stream",
     "text": [
      "MoviePy - Done.\n",
      "Moviepy - Writing video C:\\Users\\nadege\\Data\\CORTIFY\\Cortify_Media\\Add_Triggers\\stimuli_with_triggers\\Les animaux sont-ils droitiers des pattes.mp4\n",
      "\n"
     ]
    },
    {
     "name": "stderr",
     "output_type": "stream",
     "text": [
      "                                                                   \r"
     ]
    },
    {
     "name": "stdout",
     "output_type": "stream",
     "text": [
      "Moviepy - Done !\n",
      "Moviepy - video ready C:\\Users\\nadege\\Data\\CORTIFY\\Cortify_Media\\Add_Triggers\\stimuli_with_triggers\\Les animaux sont-ils droitiers des pattes.mp4\n",
      "Les Inconnus - Hôpital (des Inconnus)\n",
      "Trigger positions saved to file: C:\\Users\\nadege\\Data\\CORTIFY\\Cortify_Media\\Add_Triggers\\triggers\\Les Inconnus - Hôpital (des Inconnus)_trigger.txt\n",
      "Moviepy - Building video C:\\Users\\nadege\\Data\\CORTIFY\\Cortify_Media\\Add_Triggers\\stimuli_with_triggers\\Les Inconnus - Hôpital (des Inconnus).mp4.\n",
      "MoviePy - Writing audio in Les Inconnus - Hôpital (des Inconnus)-temp-audio.m4a\n"
     ]
    },
    {
     "name": "stderr",
     "output_type": "stream",
     "text": [
      "                                                                        \r"
     ]
    },
    {
     "name": "stdout",
     "output_type": "stream",
     "text": [
      "MoviePy - Done.\n",
      "Moviepy - Writing video C:\\Users\\nadege\\Data\\CORTIFY\\Cortify_Media\\Add_Triggers\\stimuli_with_triggers\\Les Inconnus - Hôpital (des Inconnus).mp4\n",
      "\n"
     ]
    },
    {
     "name": "stderr",
     "output_type": "stream",
     "text": [
      "                                                                    \r"
     ]
    },
    {
     "name": "stdout",
     "output_type": "stream",
     "text": [
      "Moviepy - Done !\n",
      "Moviepy - video ready C:\\Users\\nadege\\Data\\CORTIFY\\Cortify_Media\\Add_Triggers\\stimuli_with_triggers\\Les Inconnus - Hôpital (des Inconnus).mp4\n",
      "Les Inconnus - La Révolution _ Au secours ! Tout va mieux ... au Théâtre de Paris\n",
      "Trigger positions saved to file: C:\\Users\\nadege\\Data\\CORTIFY\\Cortify_Media\\Add_Triggers\\triggers\\Les Inconnus - La Révolution _ Au secours ! Tout va mieux ... au Théâtre de Paris_trigger.txt\n",
      "Moviepy - Building video C:\\Users\\nadege\\Data\\CORTIFY\\Cortify_Media\\Add_Triggers\\stimuli_with_triggers\\Les Inconnus - La Révolution _ Au secours ! Tout va mieux ... au Théâtre de Paris.mp4.\n",
      "MoviePy - Writing audio in Les Inconnus - La Révolution _ Au secours ! Tout va mieux ... au Théâtre de Paris-temp-audio.m4a\n"
     ]
    },
    {
     "name": "stderr",
     "output_type": "stream",
     "text": [
      "                                                                        \r"
     ]
    },
    {
     "name": "stdout",
     "output_type": "stream",
     "text": [
      "MoviePy - Done.\n",
      "Moviepy - Writing video C:\\Users\\nadege\\Data\\CORTIFY\\Cortify_Media\\Add_Triggers\\stimuli_with_triggers\\Les Inconnus - La Révolution _ Au secours ! Tout va mieux ... au Théâtre de Paris.mp4\n",
      "\n"
     ]
    },
    {
     "name": "stderr",
     "output_type": "stream",
     "text": [
      "                                                                    \r"
     ]
    },
    {
     "name": "stdout",
     "output_type": "stream",
     "text": [
      "Moviepy - Done !\n",
      "Moviepy - video ready C:\\Users\\nadege\\Data\\CORTIFY\\Cortify_Media\\Add_Triggers\\stimuli_with_triggers\\Les Inconnus - La Révolution _ Au secours ! Tout va mieux ... au Théâtre de Paris.mp4\n",
      "Les Inconnus - Les journaux régionaux\n",
      "Trigger positions saved to file: C:\\Users\\nadege\\Data\\CORTIFY\\Cortify_Media\\Add_Triggers\\triggers\\Les Inconnus - Les journaux régionaux_trigger.txt\n",
      "Moviepy - Building video C:\\Users\\nadege\\Data\\CORTIFY\\Cortify_Media\\Add_Triggers\\stimuli_with_triggers\\Les Inconnus - Les journaux régionaux.mp4.\n",
      "MoviePy - Writing audio in Les Inconnus - Les journaux régionaux-temp-audio.m4a\n"
     ]
    },
    {
     "name": "stderr",
     "output_type": "stream",
     "text": [
      "                                                                        \r"
     ]
    },
    {
     "name": "stdout",
     "output_type": "stream",
     "text": [
      "MoviePy - Done.\n",
      "Moviepy - Writing video C:\\Users\\nadege\\Data\\CORTIFY\\Cortify_Media\\Add_Triggers\\stimuli_with_triggers\\Les Inconnus - Les journaux régionaux.mp4\n",
      "\n"
     ]
    },
    {
     "name": "stderr",
     "output_type": "stream",
     "text": [
      "                                                                    \r"
     ]
    },
    {
     "name": "stdout",
     "output_type": "stream",
     "text": [
      "Moviepy - Done !\n",
      "Moviepy - video ready C:\\Users\\nadege\\Data\\CORTIFY\\Cortify_Media\\Add_Triggers\\stimuli_with_triggers\\Les Inconnus - Les journaux régionaux.mp4\n",
      "Les Inconnus - Les Pétasses _ Au secours ! Tout va mieux ... au Théâtre de Paris\n",
      "Trigger positions saved to file: C:\\Users\\nadege\\Data\\CORTIFY\\Cortify_Media\\Add_Triggers\\triggers\\Les Inconnus - Les Pétasses _ Au secours ! Tout va mieux ... au Théâtre de Paris_trigger.txt\n",
      "Moviepy - Building video C:\\Users\\nadege\\Data\\CORTIFY\\Cortify_Media\\Add_Triggers\\stimuli_with_triggers\\Les Inconnus - Les Pétasses _ Au secours ! Tout va mieux ... au Théâtre de Paris.mp4.\n",
      "MoviePy - Writing audio in Les Inconnus - Les Pétasses _ Au secours ! Tout va mieux ... au Théâtre de Paris-temp-audio.m4a\n"
     ]
    },
    {
     "name": "stderr",
     "output_type": "stream",
     "text": [
      "                                                                      \r"
     ]
    },
    {
     "name": "stdout",
     "output_type": "stream",
     "text": [
      "MoviePy - Done.\n",
      "Moviepy - Writing video C:\\Users\\nadege\\Data\\CORTIFY\\Cortify_Media\\Add_Triggers\\stimuli_with_triggers\\Les Inconnus - Les Pétasses _ Au secours ! Tout va mieux ... au Théâtre de Paris.mp4\n",
      "\n"
     ]
    },
    {
     "name": "stderr",
     "output_type": "stream",
     "text": [
      "                                                                  \r"
     ]
    },
    {
     "name": "stdout",
     "output_type": "stream",
     "text": [
      "Moviepy - Done !\n",
      "Moviepy - video ready C:\\Users\\nadege\\Data\\CORTIFY\\Cortify_Media\\Add_Triggers\\stimuli_with_triggers\\Les Inconnus - Les Pétasses _ Au secours ! Tout va mieux ... au Théâtre de Paris.mp4\n",
      "Les Inconnus - Télémagouilles _ Le Nouveau Spectacle au Casino de Paris\n",
      "Trigger positions saved to file: C:\\Users\\nadege\\Data\\CORTIFY\\Cortify_Media\\Add_Triggers\\triggers\\Les Inconnus - Télémagouilles _ Le Nouveau Spectacle au Casino de Paris_trigger.txt\n",
      "Moviepy - Building video C:\\Users\\nadege\\Data\\CORTIFY\\Cortify_Media\\Add_Triggers\\stimuli_with_triggers\\Les Inconnus - Télémagouilles _ Le Nouveau Spectacle au Casino de Paris.mp4.\n",
      "MoviePy - Writing audio in Les Inconnus - Télémagouilles _ Le Nouveau Spectacle au Casino de Paris-temp-audio.m4a\n"
     ]
    },
    {
     "name": "stderr",
     "output_type": "stream",
     "text": [
      "                                                                        \r"
     ]
    },
    {
     "name": "stdout",
     "output_type": "stream",
     "text": [
      "MoviePy - Done.\n",
      "Moviepy - Writing video C:\\Users\\nadege\\Data\\CORTIFY\\Cortify_Media\\Add_Triggers\\stimuli_with_triggers\\Les Inconnus - Télémagouilles _ Le Nouveau Spectacle au Casino de Paris.mp4\n",
      "\n"
     ]
    },
    {
     "name": "stderr",
     "output_type": "stream",
     "text": [
      "                                                                    \r"
     ]
    },
    {
     "name": "stdout",
     "output_type": "stream",
     "text": [
      "Moviepy - Done !\n",
      "Moviepy - video ready C:\\Users\\nadege\\Data\\CORTIFY\\Cortify_Media\\Add_Triggers\\stimuli_with_triggers\\Les Inconnus - Télémagouilles _ Le Nouveau Spectacle au Casino de Paris.mp4\n",
      "Les kinés  un réel pouvoir dans les mains ou du mentalisme\n",
      "Trigger positions saved to file: C:\\Users\\nadege\\Data\\CORTIFY\\Cortify_Media\\Add_Triggers\\triggers\\Les kinés  un réel pouvoir dans les mains ou du mentalisme_trigger.txt\n",
      "Moviepy - Building video C:\\Users\\nadege\\Data\\CORTIFY\\Cortify_Media\\Add_Triggers\\stimuli_with_triggers\\Les kinés  un réel pouvoir dans les mains ou du mentalisme.mp4.\n",
      "MoviePy - Writing audio in Les kinés  un réel pouvoir dans les mains ou du mentalisme-temp-audio.m4a\n"
     ]
    },
    {
     "name": "stderr",
     "output_type": "stream",
     "text": [
      "                                                                        \r"
     ]
    },
    {
     "name": "stdout",
     "output_type": "stream",
     "text": [
      "MoviePy - Done.\n",
      "Moviepy - Writing video C:\\Users\\nadege\\Data\\CORTIFY\\Cortify_Media\\Add_Triggers\\stimuli_with_triggers\\Les kinés  un réel pouvoir dans les mains ou du mentalisme.mp4\n",
      "\n"
     ]
    },
    {
     "name": "stderr",
     "output_type": "stream",
     "text": [
      "                                                                   \r"
     ]
    },
    {
     "name": "stdout",
     "output_type": "stream",
     "text": [
      "Moviepy - Done !\n",
      "Moviepy - video ready C:\\Users\\nadege\\Data\\CORTIFY\\Cortify_Media\\Add_Triggers\\stimuli_with_triggers\\Les kinés  un réel pouvoir dans les mains ou du mentalisme.mp4\n",
      "Levitsky07\n",
      "Trigger positions saved to file: C:\\Users\\nadege\\Data\\CORTIFY\\Cortify_Media\\Add_Triggers\\triggers\\Levitsky07_trigger.txt\n"
     ]
    },
    {
     "name": "stderr",
     "output_type": "stream",
     "text": [
      "Non standard genre name: Musique\n"
     ]
    },
    {
     "name": "stdout",
     "output_type": "stream",
     "text": [
      "Saving newly created stim file: C:\\Users\\nadege\\Data\\CORTIFY\\Cortify_Media\\Add_Triggers\\stimuli_with_triggers\\Levitsky07.mp3\n",
      "Levitsky16\n",
      "Trigger positions saved to file: C:\\Users\\nadege\\Data\\CORTIFY\\Cortify_Media\\Add_Triggers\\triggers\\Levitsky16_trigger.txt\n"
     ]
    },
    {
     "name": "stderr",
     "output_type": "stream",
     "text": [
      "Non standard genre name: Musique\n"
     ]
    },
    {
     "name": "stdout",
     "output_type": "stream",
     "text": [
      "Saving newly created stim file: C:\\Users\\nadege\\Data\\CORTIFY\\Cortify_Media\\Add_Triggers\\stimuli_with_triggers\\Levitsky16.mp3\n",
      "Lin08\n",
      "Trigger positions saved to file: C:\\Users\\nadege\\Data\\CORTIFY\\Cortify_Media\\Add_Triggers\\triggers\\Lin08_trigger.txt\n"
     ]
    },
    {
     "name": "stderr",
     "output_type": "stream",
     "text": [
      "Non standard genre name: Musique\n"
     ]
    },
    {
     "name": "stdout",
     "output_type": "stream",
     "text": [
      "Saving newly created stim file: C:\\Users\\nadege\\Data\\CORTIFY\\Cortify_Media\\Add_Triggers\\stimuli_with_triggers\\Lin08.mp3\n",
      "Lobo Guará - I. Livre No Bosque\n",
      "Trigger positions saved to file: C:\\Users\\nadege\\Data\\CORTIFY\\Cortify_Media\\Add_Triggers\\triggers\\Lobo Guará - I. Livre No Bosque_trigger.txt\n"
     ]
    },
    {
     "name": "stderr",
     "output_type": "stream",
     "text": [
      "Non standard genre name: Musique\n"
     ]
    },
    {
     "name": "stdout",
     "output_type": "stream",
     "text": [
      "Saving newly created stim file: C:\\Users\\nadege\\Data\\CORTIFY\\Cortify_Media\\Add_Triggers\\stimuli_with_triggers\\Lobo Guará - I. Livre No Bosque.mp3\n",
      "Lobo Guará - II. Existência Cósmica\n",
      "Trigger positions saved to file: C:\\Users\\nadege\\Data\\CORTIFY\\Cortify_Media\\Add_Triggers\\triggers\\Lobo Guará - II. Existência Cósmica_trigger.txt\n"
     ]
    },
    {
     "name": "stderr",
     "output_type": "stream",
     "text": [
      "Non standard genre name: Musique\n"
     ]
    },
    {
     "name": "stdout",
     "output_type": "stream",
     "text": [
      "Saving newly created stim file: C:\\Users\\nadege\\Data\\CORTIFY\\Cortify_Media\\Add_Triggers\\stimuli_with_triggers\\Lobo Guará - II. Existência Cósmica.mp3\n",
      "Lobo Guará - III. O Lobo Deve Viver\n",
      "Trigger positions saved to file: C:\\Users\\nadege\\Data\\CORTIFY\\Cortify_Media\\Add_Triggers\\triggers\\Lobo Guará - III. O Lobo Deve Viver_trigger.txt\n"
     ]
    },
    {
     "name": "stderr",
     "output_type": "stream",
     "text": [
      "Non standard genre name: Musique\n"
     ]
    },
    {
     "name": "stdout",
     "output_type": "stream",
     "text": [
      "Saving newly created stim file: C:\\Users\\nadege\\Data\\CORTIFY\\Cortify_Media\\Add_Triggers\\stimuli_with_triggers\\Lobo Guará - III. O Lobo Deve Viver.mp3\n",
      "lupingentcambrioleur_1_leblanc_64kb\n",
      "Trigger positions saved to file: C:\\Users\\nadege\\Data\\CORTIFY\\Cortify_Media\\Add_Triggers\\triggers\\lupingentcambrioleur_1_leblanc_64kb_trigger.txt\n"
     ]
    },
    {
     "name": "stderr",
     "output_type": "stream",
     "text": [
      "Non standard genre name: Audiobooks\n"
     ]
    },
    {
     "name": "stdout",
     "output_type": "stream",
     "text": [
      "Saving newly created stim file: C:\\Users\\nadege\\Data\\CORTIFY\\Cortify_Media\\Add_Triggers\\stimuli_with_triggers\\lupingentcambrioleur_1_leblanc_64kb.mp3\n",
      "lupingentcambrioleur_2_leblanc_64kb\n",
      "Trigger positions saved to file: C:\\Users\\nadege\\Data\\CORTIFY\\Cortify_Media\\Add_Triggers\\triggers\\lupingentcambrioleur_2_leblanc_64kb_trigger.txt\n"
     ]
    },
    {
     "name": "stderr",
     "output_type": "stream",
     "text": [
      "Non standard genre name: Audiobooks\n"
     ]
    },
    {
     "name": "stdout",
     "output_type": "stream",
     "text": [
      "Saving newly created stim file: C:\\Users\\nadege\\Data\\CORTIFY\\Cortify_Media\\Add_Triggers\\stimuli_with_triggers\\lupingentcambrioleur_2_leblanc_64kb.mp3\n",
      "lupingentcambrioleur_3_leblanc_64kb\n",
      "Trigger positions saved to file: C:\\Users\\nadege\\Data\\CORTIFY\\Cortify_Media\\Add_Triggers\\triggers\\lupingentcambrioleur_3_leblanc_64kb_trigger.txt\n"
     ]
    },
    {
     "name": "stderr",
     "output_type": "stream",
     "text": [
      "Non standard genre name: Audiobooks\n"
     ]
    },
    {
     "name": "stdout",
     "output_type": "stream",
     "text": [
      "Saving newly created stim file: C:\\Users\\nadege\\Data\\CORTIFY\\Cortify_Media\\Add_Triggers\\stimuli_with_triggers\\lupingentcambrioleur_3_leblanc_64kb.mp3\n",
      "lupingentcambrioleur_4_leblanc_64kb\n",
      "Trigger positions saved to file: C:\\Users\\nadege\\Data\\CORTIFY\\Cortify_Media\\Add_Triggers\\triggers\\lupingentcambrioleur_4_leblanc_64kb_trigger.txt\n"
     ]
    },
    {
     "name": "stderr",
     "output_type": "stream",
     "text": [
      "Non standard genre name: Audiobooks\n"
     ]
    },
    {
     "name": "stdout",
     "output_type": "stream",
     "text": [
      "Saving newly created stim file: C:\\Users\\nadege\\Data\\CORTIFY\\Cortify_Media\\Add_Triggers\\stimuli_with_triggers\\lupingentcambrioleur_4_leblanc_64kb.mp3\n",
      "lupingentcambrioleur_5_leblanc_64kb\n",
      "Trigger positions saved to file: C:\\Users\\nadege\\Data\\CORTIFY\\Cortify_Media\\Add_Triggers\\triggers\\lupingentcambrioleur_5_leblanc_64kb_trigger.txt\n"
     ]
    },
    {
     "name": "stderr",
     "output_type": "stream",
     "text": [
      "Non standard genre name: Audiobooks\n"
     ]
    },
    {
     "name": "stdout",
     "output_type": "stream",
     "text": [
      "Saving newly created stim file: C:\\Users\\nadege\\Data\\CORTIFY\\Cortify_Media\\Add_Triggers\\stimuli_with_triggers\\lupingentcambrioleur_5_leblanc_64kb.mp3\n",
      "lupingentcambrioleur_6_leblanc_64kb\n",
      "Trigger positions saved to file: C:\\Users\\nadege\\Data\\CORTIFY\\Cortify_Media\\Add_Triggers\\triggers\\lupingentcambrioleur_6_leblanc_64kb_trigger.txt\n"
     ]
    },
    {
     "name": "stderr",
     "output_type": "stream",
     "text": [
      "Non standard genre name: Audiobooks\n"
     ]
    },
    {
     "name": "stdout",
     "output_type": "stream",
     "text": [
      "Saving newly created stim file: C:\\Users\\nadege\\Data\\CORTIFY\\Cortify_Media\\Add_Triggers\\stimuli_with_triggers\\lupingentcambrioleur_6_leblanc_64kb.mp3\n",
      "lupingentcambrioleur_7_leblanc_64kb\n",
      "Trigger positions saved to file: C:\\Users\\nadege\\Data\\CORTIFY\\Cortify_Media\\Add_Triggers\\triggers\\lupingentcambrioleur_7_leblanc_64kb_trigger.txt\n"
     ]
    },
    {
     "name": "stderr",
     "output_type": "stream",
     "text": [
      "Non standard genre name: Audiobooks\n"
     ]
    },
    {
     "name": "stdout",
     "output_type": "stream",
     "text": [
      "Saving newly created stim file: C:\\Users\\nadege\\Data\\CORTIFY\\Cortify_Media\\Add_Triggers\\stimuli_with_triggers\\lupingentcambrioleur_7_leblanc_64kb.mp3\n",
      "lupingentcambrioleur_8_leblanc_64kb\n",
      "Trigger positions saved to file: C:\\Users\\nadege\\Data\\CORTIFY\\Cortify_Media\\Add_Triggers\\triggers\\lupingentcambrioleur_8_leblanc_64kb_trigger.txt\n"
     ]
    },
    {
     "name": "stderr",
     "output_type": "stream",
     "text": [
      "Non standard genre name: Audiobooks\n"
     ]
    },
    {
     "name": "stdout",
     "output_type": "stream",
     "text": [
      "Saving newly created stim file: C:\\Users\\nadege\\Data\\CORTIFY\\Cortify_Media\\Add_Triggers\\stimuli_with_triggers\\lupingentcambrioleur_8_leblanc_64kb.mp3\n",
      "lupingentcambrioleur_9_leblanc_64kb\n",
      "Trigger positions saved to file: C:\\Users\\nadege\\Data\\CORTIFY\\Cortify_Media\\Add_Triggers\\triggers\\lupingentcambrioleur_9_leblanc_64kb_trigger.txt\n"
     ]
    },
    {
     "name": "stderr",
     "output_type": "stream",
     "text": [
      "Non standard genre name: Audiobooks\n"
     ]
    },
    {
     "name": "stdout",
     "output_type": "stream",
     "text": [
      "Saving newly created stim file: C:\\Users\\nadege\\Data\\CORTIFY\\Cortify_Media\\Add_Triggers\\stimuli_with_triggers\\lupingentcambrioleur_9_leblanc_64kb.mp3\n",
      "L’écriture inclusive a-t-elle un intérêt Quelles preuves\n",
      "Trigger positions saved to file: C:\\Users\\nadege\\Data\\CORTIFY\\Cortify_Media\\Add_Triggers\\triggers\\L’écriture inclusive a-t-elle un intérêt Quelles preuves_trigger.txt\n",
      "Moviepy - Building video C:\\Users\\nadege\\Data\\CORTIFY\\Cortify_Media\\Add_Triggers\\stimuli_with_triggers\\L’écriture inclusive a-t-elle un intérêt Quelles preuves.mp4.\n",
      "MoviePy - Writing audio in L’écriture inclusive a-t-elle un intérêt Quelles preuves-temp-audio.m4a\n"
     ]
    },
    {
     "name": "stderr",
     "output_type": "stream",
     "text": [
      "                                                                        \r"
     ]
    },
    {
     "name": "stdout",
     "output_type": "stream",
     "text": [
      "MoviePy - Done.\n",
      "Moviepy - Writing video C:\\Users\\nadege\\Data\\CORTIFY\\Cortify_Media\\Add_Triggers\\stimuli_with_triggers\\L’écriture inclusive a-t-elle un intérêt Quelles preuves.mp4\n",
      "\n"
     ]
    },
    {
     "name": "stderr",
     "output_type": "stream",
     "text": [
      "                                                                   \r"
     ]
    },
    {
     "name": "stdout",
     "output_type": "stream",
     "text": [
      "Moviepy - Done !\n",
      "Moviepy - video ready C:\\Users\\nadege\\Data\\CORTIFY\\Cortify_Media\\Add_Triggers\\stimuli_with_triggers\\L’écriture inclusive a-t-elle un intérêt Quelles preuves.mp4\n",
      "Marengo - Unconscious smearing - 01 Low bass hard\n",
      "Trigger positions saved to file: C:\\Users\\nadege\\Data\\CORTIFY\\Cortify_Media\\Add_Triggers\\triggers\\Marengo - Unconscious smearing - 01 Low bass hard_trigger.txt\n"
     ]
    },
    {
     "name": "stderr",
     "output_type": "stream",
     "text": [
      "Non standard genre name: Musique\n"
     ]
    },
    {
     "name": "stdout",
     "output_type": "stream",
     "text": [
      "Saving newly created stim file: C:\\Users\\nadege\\Data\\CORTIFY\\Cortify_Media\\Add_Triggers\\stimuli_with_triggers\\Marengo - Unconscious smearing - 01 Low bass hard.mp3\n",
      "Marengo - Unconscious smearing - 02 Bouche d'aération\n",
      "Trigger positions saved to file: C:\\Users\\nadege\\Data\\CORTIFY\\Cortify_Media\\Add_Triggers\\triggers\\Marengo - Unconscious smearing - 02 Bouche d'aération_trigger.txt\n"
     ]
    },
    {
     "name": "stderr",
     "output_type": "stream",
     "text": [
      "Non standard genre name: Musique\n"
     ]
    },
    {
     "name": "stdout",
     "output_type": "stream",
     "text": [
      "Saving newly created stim file: C:\\Users\\nadege\\Data\\CORTIFY\\Cortify_Media\\Add_Triggers\\stimuli_with_triggers\\Marengo - Unconscious smearing - 02 Bouche d'aération.mp3\n",
      "Marengo - Unconscious smearing - 03 La colle\n",
      "Trigger positions saved to file: C:\\Users\\nadege\\Data\\CORTIFY\\Cortify_Media\\Add_Triggers\\triggers\\Marengo - Unconscious smearing - 03 La colle_trigger.txt\n"
     ]
    },
    {
     "name": "stderr",
     "output_type": "stream",
     "text": [
      "Non standard genre name: Musique\n"
     ]
    },
    {
     "name": "stdout",
     "output_type": "stream",
     "text": [
      "Saving newly created stim file: C:\\Users\\nadege\\Data\\CORTIFY\\Cortify_Media\\Add_Triggers\\stimuli_with_triggers\\Marengo - Unconscious smearing - 03 La colle.mp3\n",
      "Marengo - Unconscious smearing - 04 Paris\n",
      "Trigger positions saved to file: C:\\Users\\nadege\\Data\\CORTIFY\\Cortify_Media\\Add_Triggers\\triggers\\Marengo - Unconscious smearing - 04 Paris_trigger.txt\n"
     ]
    },
    {
     "name": "stderr",
     "output_type": "stream",
     "text": [
      "Non standard genre name: Musique\n"
     ]
    },
    {
     "name": "stdout",
     "output_type": "stream",
     "text": [
      "Saving newly created stim file: C:\\Users\\nadege\\Data\\CORTIFY\\Cortify_Media\\Add_Triggers\\stimuli_with_triggers\\Marengo - Unconscious smearing - 04 Paris.mp3\n",
      "Marengo - Unconscious smearing - 05 Medicine approach\n",
      "Trigger positions saved to file: C:\\Users\\nadege\\Data\\CORTIFY\\Cortify_Media\\Add_Triggers\\triggers\\Marengo - Unconscious smearing - 05 Medicine approach_trigger.txt\n"
     ]
    },
    {
     "name": "stderr",
     "output_type": "stream",
     "text": [
      "Non standard genre name: Musique\n"
     ]
    },
    {
     "name": "stdout",
     "output_type": "stream",
     "text": [
      "Saving newly created stim file: C:\\Users\\nadege\\Data\\CORTIFY\\Cortify_Media\\Add_Triggers\\stimuli_with_triggers\\Marengo - Unconscious smearing - 05 Medicine approach.mp3\n",
      "Marengo - Unconscious smearing - 06 Oudi\n",
      "Trigger positions saved to file: C:\\Users\\nadege\\Data\\CORTIFY\\Cortify_Media\\Add_Triggers\\triggers\\Marengo - Unconscious smearing - 06 Oudi_trigger.txt\n"
     ]
    },
    {
     "name": "stderr",
     "output_type": "stream",
     "text": [
      "Non standard genre name: Musique\n"
     ]
    },
    {
     "name": "stdout",
     "output_type": "stream",
     "text": [
      "Saving newly created stim file: C:\\Users\\nadege\\Data\\CORTIFY\\Cortify_Media\\Add_Triggers\\stimuli_with_triggers\\Marengo - Unconscious smearing - 06 Oudi.mp3\n",
      "Marengo - Unconscious smearing - 07 Turnpike\n",
      "Trigger positions saved to file: C:\\Users\\nadege\\Data\\CORTIFY\\Cortify_Media\\Add_Triggers\\triggers\\Marengo - Unconscious smearing - 07 Turnpike_trigger.txt\n"
     ]
    },
    {
     "name": "stderr",
     "output_type": "stream",
     "text": [
      "Non standard genre name: Musique\n"
     ]
    },
    {
     "name": "stdout",
     "output_type": "stream",
     "text": [
      "Saving newly created stim file: C:\\Users\\nadege\\Data\\CORTIFY\\Cortify_Media\\Add_Triggers\\stimuli_with_triggers\\Marengo - Unconscious smearing - 07 Turnpike.mp3\n",
      "Marengo - Unconscious smearing - 08 04-11\n",
      "Trigger positions saved to file: C:\\Users\\nadege\\Data\\CORTIFY\\Cortify_Media\\Add_Triggers\\triggers\\Marengo - Unconscious smearing - 08 04-11_trigger.txt\n"
     ]
    },
    {
     "name": "stderr",
     "output_type": "stream",
     "text": [
      "Non standard genre name: Musique\n"
     ]
    },
    {
     "name": "stdout",
     "output_type": "stream",
     "text": [
      "Saving newly created stim file: C:\\Users\\nadege\\Data\\CORTIFY\\Cortify_Media\\Add_Triggers\\stimuli_with_triggers\\Marengo - Unconscious smearing - 08 04-11.mp3\n",
      "Marengo - Unconscious smearing - 09 Spokedub\n",
      "Trigger positions saved to file: C:\\Users\\nadege\\Data\\CORTIFY\\Cortify_Media\\Add_Triggers\\triggers\\Marengo - Unconscious smearing - 09 Spokedub_trigger.txt\n"
     ]
    },
    {
     "name": "stderr",
     "output_type": "stream",
     "text": [
      "Non standard genre name: Musique\n"
     ]
    },
    {
     "name": "stdout",
     "output_type": "stream",
     "text": [
      "Saving newly created stim file: C:\\Users\\nadege\\Data\\CORTIFY\\Cortify_Media\\Add_Triggers\\stimuli_with_triggers\\Marengo - Unconscious smearing - 09 Spokedub.mp3\n",
      "ma_grand_mere_est_accro_aux_simshq_fr\n",
      "Trigger positions saved to file: C:\\Users\\nadege\\Data\\CORTIFY\\Cortify_Media\\Add_Triggers\\triggers\\ma_grand_mere_est_accro_aux_simshq_fr_trigger.txt\n",
      "Saving newly created stim file: C:\\Users\\nadege\\Data\\CORTIFY\\Cortify_Media\\Add_Triggers\\stimuli_with_triggers\\ma_grand_mere_est_accro_aux_simshq_fr.mp3\n",
      "Meravigliarsi\n",
      "Trigger positions saved to file: C:\\Users\\nadege\\Data\\CORTIFY\\Cortify_Media\\Add_Triggers\\triggers\\Meravigliarsi_trigger.txt\n"
     ]
    },
    {
     "name": "stderr",
     "output_type": "stream",
     "text": [
      "Non standard genre name: Musique\n"
     ]
    },
    {
     "name": "stdout",
     "output_type": "stream",
     "text": [
      "Saving newly created stim file: C:\\Users\\nadege\\Data\\CORTIFY\\Cortify_Media\\Add_Triggers\\stimuli_with_triggers\\Meravigliarsi.mp3\n",
      "Metropolis (1927)\n",
      "Failed to read metadata from C:\\Users\\nadege\\Data\\CORTIFY\\Cortify_Media\\Add_Triggers\\original_stimuli: object of type 'NoneType' has no len()\n",
      "Trigger positions saved to file: C:\\Users\\nadege\\Data\\CORTIFY\\Cortify_Media\\Add_Triggers\\triggers\\Metropolis (1927)_trigger.txt\n",
      "Moviepy - Building video C:\\Users\\nadege\\Data\\CORTIFY\\Cortify_Media\\Add_Triggers\\stimuli_with_triggers\\Metropolis (1927).mp4.\n",
      "MoviePy - Writing audio in Metropolis (1927)-temp-audio.m4a\n"
     ]
    },
    {
     "name": "stderr",
     "output_type": "stream",
     "text": [
      "                                                                          \r"
     ]
    },
    {
     "name": "stdout",
     "output_type": "stream",
     "text": [
      "MoviePy - Done.\n",
      "Moviepy - Writing video C:\\Users\\nadege\\Data\\CORTIFY\\Cortify_Media\\Add_Triggers\\stimuli_with_triggers\\Metropolis (1927).mp4\n",
      "\n"
     ]
    },
    {
     "name": "stderr",
     "output_type": "stream",
     "text": [
      "                                                                     \r"
     ]
    },
    {
     "name": "stdout",
     "output_type": "stream",
     "text": [
      "Moviepy - Done !\n",
      "Moviepy - video ready C:\\Users\\nadege\\Data\\CORTIFY\\Cortify_Media\\Add_Triggers\\stimuli_with_triggers\\Metropolis (1927).mp4\n",
      "Morning Song\n",
      "Trigger positions saved to file: C:\\Users\\nadege\\Data\\CORTIFY\\Cortify_Media\\Add_Triggers\\triggers\\Morning Song_trigger.txt\n"
     ]
    },
    {
     "name": "stderr",
     "output_type": "stream",
     "text": [
      "Non standard genre name: Musique\n"
     ]
    },
    {
     "name": "stdout",
     "output_type": "stream",
     "text": [
      "Saving newly created stim file: C:\\Users\\nadege\\Data\\CORTIFY\\Cortify_Media\\Add_Triggers\\stimuli_with_triggers\\Morning Song.mp3\n",
      "MorozovS07\n",
      "Trigger positions saved to file: C:\\Users\\nadege\\Data\\CORTIFY\\Cortify_Media\\Add_Triggers\\triggers\\MorozovS07_trigger.txt\n"
     ]
    },
    {
     "name": "stderr",
     "output_type": "stream",
     "text": [
      "Non standard genre name: Musique\n"
     ]
    },
    {
     "name": "stdout",
     "output_type": "stream",
     "text": [
      "Saving newly created stim file: C:\\Users\\nadege\\Data\\CORTIFY\\Cortify_Media\\Add_Triggers\\stimuli_with_triggers\\MorozovS07.mp3\n",
      "Mythologie Aztèque - Mythes et Légendes\n",
      "Trigger positions saved to file: C:\\Users\\nadege\\Data\\CORTIFY\\Cortify_Media\\Add_Triggers\\triggers\\Mythologie Aztèque - Mythes et Légendes_trigger.txt\n",
      "Moviepy - Building video C:\\Users\\nadege\\Data\\CORTIFY\\Cortify_Media\\Add_Triggers\\stimuli_with_triggers\\Mythologie Aztèque - Mythes et Légendes.mp4.\n",
      "MoviePy - Writing audio in Mythologie Aztèque - Mythes et Légendes-temp-audio.m4a\n"
     ]
    },
    {
     "name": "stderr",
     "output_type": "stream",
     "text": [
      "                                                                        \r"
     ]
    },
    {
     "name": "stdout",
     "output_type": "stream",
     "text": [
      "MoviePy - Done.\n",
      "Moviepy - Writing video C:\\Users\\nadege\\Data\\CORTIFY\\Cortify_Media\\Add_Triggers\\stimuli_with_triggers\\Mythologie Aztèque - Mythes et Légendes.mp4\n",
      "\n"
     ]
    },
    {
     "name": "stderr",
     "output_type": "stream",
     "text": [
      "                                                                   \r"
     ]
    },
    {
     "name": "stdout",
     "output_type": "stream",
     "text": [
      "Moviepy - Done !\n",
      "Moviepy - video ready C:\\Users\\nadege\\Data\\CORTIFY\\Cortify_Media\\Add_Triggers\\stimuli_with_triggers\\Mythologie Aztèque - Mythes et Légendes.mp4\n",
      "Namirovsky02\n",
      "Trigger positions saved to file: C:\\Users\\nadege\\Data\\CORTIFY\\Cortify_Media\\Add_Triggers\\triggers\\Namirovsky02_trigger.txt\n"
     ]
    },
    {
     "name": "stderr",
     "output_type": "stream",
     "text": [
      "Non standard genre name: Musique\n"
     ]
    },
    {
     "name": "stdout",
     "output_type": "stream",
     "text": [
      "Saving newly created stim file: C:\\Users\\nadege\\Data\\CORTIFY\\Cortify_Media\\Add_Triggers\\stimuli_with_triggers\\Namirovsky02.mp3\n",
      "Nota Bene - L'ordinateur\n",
      "Trigger positions saved to file: C:\\Users\\nadege\\Data\\CORTIFY\\Cortify_Media\\Add_Triggers\\triggers\\Nota Bene - L'ordinateur_trigger.txt\n",
      "Saving newly created stim file: C:\\Users\\nadege\\Data\\CORTIFY\\Cortify_Media\\Add_Triggers\\stimuli_with_triggers\\Nota Bene - L'ordinateur.mp3\n",
      "Nota Bene - La mort de l'empereur Commode\n",
      "Trigger positions saved to file: C:\\Users\\nadege\\Data\\CORTIFY\\Cortify_Media\\Add_Triggers\\triggers\\Nota Bene - La mort de l'empereur Commode_trigger.txt\n",
      "Saving newly created stim file: C:\\Users\\nadege\\Data\\CORTIFY\\Cortify_Media\\Add_Triggers\\stimuli_with_triggers\\Nota Bene - La mort de l'empereur Commode.mp3\n",
      "Nota Bene - Le nez du Sphinx\n",
      "Trigger positions saved to file: C:\\Users\\nadege\\Data\\CORTIFY\\Cortify_Media\\Add_Triggers\\triggers\\Nota Bene - Le nez du Sphinx_trigger.txt\n",
      "Saving newly created stim file: C:\\Users\\nadege\\Data\\CORTIFY\\Cortify_Media\\Add_Triggers\\stimuli_with_triggers\\Nota Bene - Le nez du Sphinx.mp3\n",
      "Nota Bene - Le sourire\n",
      "Trigger positions saved to file: C:\\Users\\nadege\\Data\\CORTIFY\\Cortify_Media\\Add_Triggers\\triggers\\Nota Bene - Le sourire_trigger.txt\n",
      "Saving newly created stim file: C:\\Users\\nadege\\Data\\CORTIFY\\Cortify_Media\\Add_Triggers\\stimuli_with_triggers\\Nota Bene - Le sourire.mp3\n",
      "Nota Bene - Les animaux et nous\n",
      "Trigger positions saved to file: C:\\Users\\nadege\\Data\\CORTIFY\\Cortify_Media\\Add_Triggers\\triggers\\Nota Bene - Les animaux et nous_trigger.txt\n",
      "Saving newly created stim file: C:\\Users\\nadege\\Data\\CORTIFY\\Cortify_Media\\Add_Triggers\\stimuli_with_triggers\\Nota Bene - Les animaux et nous.mp3\n",
      "Nova Viagem\n",
      "Trigger positions saved to file: C:\\Users\\nadege\\Data\\CORTIFY\\Cortify_Media\\Add_Triggers\\triggers\\Nova Viagem_trigger.txt\n"
     ]
    },
    {
     "name": "stderr",
     "output_type": "stream",
     "text": [
      "Non standard genre name: Musique\n"
     ]
    },
    {
     "name": "stdout",
     "output_type": "stream",
     "text": [
      "Saving newly created stim file: C:\\Users\\nadege\\Data\\CORTIFY\\Cortify_Media\\Add_Triggers\\stimuli_with_triggers\\Nova Viagem.mp3\n",
      "November Black\n",
      "Trigger positions saved to file: C:\\Users\\nadege\\Data\\CORTIFY\\Cortify_Media\\Add_Triggers\\triggers\\November Black_trigger.txt\n"
     ]
    },
    {
     "name": "stderr",
     "output_type": "stream",
     "text": [
      "Non standard genre name: Musique\n"
     ]
    },
    {
     "name": "stdout",
     "output_type": "stream",
     "text": [
      "Saving newly created stim file: C:\\Users\\nadege\\Data\\CORTIFY\\Cortify_Media\\Add_Triggers\\stimuli_with_triggers\\November Black.mp3\n",
      "Não Tenha Medo (feat. John Anthony Calabrese)\n",
      "Trigger positions saved to file: C:\\Users\\nadege\\Data\\CORTIFY\\Cortify_Media\\Add_Triggers\\triggers\\Não Tenha Medo (feat. John Anthony Calabrese)_trigger.txt\n"
     ]
    },
    {
     "name": "stderr",
     "output_type": "stream",
     "text": [
      "Non standard genre name: Musique\n"
     ]
    },
    {
     "name": "stdout",
     "output_type": "stream",
     "text": [
      "Saving newly created stim file: C:\\Users\\nadege\\Data\\CORTIFY\\Cortify_Media\\Add_Triggers\\stimuli_with_triggers\\Não Tenha Medo (feat. John Anthony Calabrese).mp3\n",
      "Please, Silently Walk Go!\n",
      "Trigger positions saved to file: C:\\Users\\nadege\\Data\\CORTIFY\\Cortify_Media\\Add_Triggers\\triggers\\Please, Silently Walk Go!_trigger.txt\n"
     ]
    },
    {
     "name": "stderr",
     "output_type": "stream",
     "text": [
      "Non standard genre name: Musique\n"
     ]
    },
    {
     "name": "stdout",
     "output_type": "stream",
     "text": [
      "Saving newly created stim file: C:\\Users\\nadege\\Data\\CORTIFY\\Cortify_Media\\Add_Triggers\\stimuli_with_triggers\\Please, Silently Walk Go!.mp3\n",
      "Pourquoi on a le nez qui coule en hiver\n",
      "Trigger positions saved to file: C:\\Users\\nadege\\Data\\CORTIFY\\Cortify_Media\\Add_Triggers\\triggers\\Pourquoi on a le nez qui coule en hiver_trigger.txt\n",
      "Moviepy - Building video C:\\Users\\nadege\\Data\\CORTIFY\\Cortify_Media\\Add_Triggers\\stimuli_with_triggers\\Pourquoi on a le nez qui coule en hiver.mp4.\n",
      "MoviePy - Writing audio in Pourquoi on a le nez qui coule en hiver-temp-audio.m4a\n"
     ]
    },
    {
     "name": "stderr",
     "output_type": "stream",
     "text": [
      "                                                                        \r"
     ]
    },
    {
     "name": "stdout",
     "output_type": "stream",
     "text": [
      "MoviePy - Done.\n",
      "Moviepy - Writing video C:\\Users\\nadege\\Data\\CORTIFY\\Cortify_Media\\Add_Triggers\\stimuli_with_triggers\\Pourquoi on a le nez qui coule en hiver.mp4\n",
      "\n"
     ]
    },
    {
     "name": "stderr",
     "output_type": "stream",
     "text": [
      "                                                                   \r"
     ]
    },
    {
     "name": "stdout",
     "output_type": "stream",
     "text": [
      "Moviepy - Done !\n",
      "Moviepy - video ready C:\\Users\\nadege\\Data\\CORTIFY\\Cortify_Media\\Add_Triggers\\stimuli_with_triggers\\Pourquoi on a le nez qui coule en hiver.mp4\n",
      "Pourquoi replier une notice de médicament est presque impossible\n",
      "Trigger positions saved to file: C:\\Users\\nadege\\Data\\CORTIFY\\Cortify_Media\\Add_Triggers\\triggers\\Pourquoi replier une notice de médicament est presque impossible_trigger.txt\n",
      "Moviepy - Building video C:\\Users\\nadege\\Data\\CORTIFY\\Cortify_Media\\Add_Triggers\\stimuli_with_triggers\\Pourquoi replier une notice de médicament est presque impossible.mp4.\n",
      "MoviePy - Writing audio in Pourquoi replier une notice de médicament est presque impossible-temp-audio.m4a\n"
     ]
    },
    {
     "name": "stderr",
     "output_type": "stream",
     "text": [
      "                                                                        \r"
     ]
    },
    {
     "name": "stdout",
     "output_type": "stream",
     "text": [
      "MoviePy - Done.\n",
      "Moviepy - Writing video C:\\Users\\nadege\\Data\\CORTIFY\\Cortify_Media\\Add_Triggers\\stimuli_with_triggers\\Pourquoi replier une notice de médicament est presque impossible.mp4\n",
      "\n"
     ]
    },
    {
     "name": "stderr",
     "output_type": "stream",
     "text": [
      "                                                                   \r"
     ]
    },
    {
     "name": "stdout",
     "output_type": "stream",
     "text": [
      "Moviepy - Done !\n",
      "Moviepy - video ready C:\\Users\\nadege\\Data\\CORTIFY\\Cortify_Media\\Add_Triggers\\stimuli_with_triggers\\Pourquoi replier une notice de médicament est presque impossible.mp4\n",
      "quatrefillesdrmarsch_01_alcott_64kb\n",
      "Trigger positions saved to file: C:\\Users\\nadege\\Data\\CORTIFY\\Cortify_Media\\Add_Triggers\\triggers\\quatrefillesdrmarsch_01_alcott_64kb_trigger.txt\n"
     ]
    },
    {
     "name": "stderr",
     "output_type": "stream",
     "text": [
      "Non standard genre name: Audiobooks\n"
     ]
    },
    {
     "name": "stdout",
     "output_type": "stream",
     "text": [
      "Saving newly created stim file: C:\\Users\\nadege\\Data\\CORTIFY\\Cortify_Media\\Add_Triggers\\stimuli_with_triggers\\quatrefillesdrmarsch_01_alcott_64kb.mp3\n",
      "quatrefillesdrmarsch_02_alcott_64kb\n",
      "Trigger positions saved to file: C:\\Users\\nadege\\Data\\CORTIFY\\Cortify_Media\\Add_Triggers\\triggers\\quatrefillesdrmarsch_02_alcott_64kb_trigger.txt\n"
     ]
    },
    {
     "name": "stderr",
     "output_type": "stream",
     "text": [
      "Non standard genre name: Audiobooks\n"
     ]
    },
    {
     "name": "stdout",
     "output_type": "stream",
     "text": [
      "Saving newly created stim file: C:\\Users\\nadege\\Data\\CORTIFY\\Cortify_Media\\Add_Triggers\\stimuli_with_triggers\\quatrefillesdrmarsch_02_alcott_64kb.mp3\n",
      "quatrefillesdrmarsch_03_alcott_64kb\n",
      "Trigger positions saved to file: C:\\Users\\nadege\\Data\\CORTIFY\\Cortify_Media\\Add_Triggers\\triggers\\quatrefillesdrmarsch_03_alcott_64kb_trigger.txt\n"
     ]
    },
    {
     "name": "stderr",
     "output_type": "stream",
     "text": [
      "Non standard genre name: Audiobooks\n"
     ]
    },
    {
     "name": "stdout",
     "output_type": "stream",
     "text": [
      "Saving newly created stim file: C:\\Users\\nadege\\Data\\CORTIFY\\Cortify_Media\\Add_Triggers\\stimuli_with_triggers\\quatrefillesdrmarsch_03_alcott_64kb.mp3\n",
      "quatrefillesdrmarsch_04_alcott_64kb\n",
      "Trigger positions saved to file: C:\\Users\\nadege\\Data\\CORTIFY\\Cortify_Media\\Add_Triggers\\triggers\\quatrefillesdrmarsch_04_alcott_64kb_trigger.txt\n"
     ]
    },
    {
     "name": "stderr",
     "output_type": "stream",
     "text": [
      "Non standard genre name: Audiobooks\n"
     ]
    },
    {
     "name": "stdout",
     "output_type": "stream",
     "text": [
      "Saving newly created stim file: C:\\Users\\nadege\\Data\\CORTIFY\\Cortify_Media\\Add_Triggers\\stimuli_with_triggers\\quatrefillesdrmarsch_04_alcott_64kb.mp3\n",
      "quatrefillesdrmarsch_05_alcott_64kb\n",
      "Trigger positions saved to file: C:\\Users\\nadege\\Data\\CORTIFY\\Cortify_Media\\Add_Triggers\\triggers\\quatrefillesdrmarsch_05_alcott_64kb_trigger.txt\n"
     ]
    },
    {
     "name": "stderr",
     "output_type": "stream",
     "text": [
      "Non standard genre name: Audiobooks\n"
     ]
    },
    {
     "name": "stdout",
     "output_type": "stream",
     "text": [
      "Saving newly created stim file: C:\\Users\\nadege\\Data\\CORTIFY\\Cortify_Media\\Add_Triggers\\stimuli_with_triggers\\quatrefillesdrmarsch_05_alcott_64kb.mp3\n",
      "quatrefillesdrmarsch_06_alcott_64kb\n",
      "Trigger positions saved to file: C:\\Users\\nadege\\Data\\CORTIFY\\Cortify_Media\\Add_Triggers\\triggers\\quatrefillesdrmarsch_06_alcott_64kb_trigger.txt\n"
     ]
    },
    {
     "name": "stderr",
     "output_type": "stream",
     "text": [
      "Non standard genre name: Audiobooks\n"
     ]
    },
    {
     "name": "stdout",
     "output_type": "stream",
     "text": [
      "Saving newly created stim file: C:\\Users\\nadege\\Data\\CORTIFY\\Cortify_Media\\Add_Triggers\\stimuli_with_triggers\\quatrefillesdrmarsch_06_alcott_64kb.mp3\n",
      "quatrefillesdrmarsch_07_alcott_64kb\n",
      "Trigger positions saved to file: C:\\Users\\nadege\\Data\\CORTIFY\\Cortify_Media\\Add_Triggers\\triggers\\quatrefillesdrmarsch_07_alcott_64kb_trigger.txt\n"
     ]
    },
    {
     "name": "stderr",
     "output_type": "stream",
     "text": [
      "Non standard genre name: Audiobooks\n"
     ]
    },
    {
     "name": "stdout",
     "output_type": "stream",
     "text": [
      "Saving newly created stim file: C:\\Users\\nadege\\Data\\CORTIFY\\Cortify_Media\\Add_Triggers\\stimuli_with_triggers\\quatrefillesdrmarsch_07_alcott_64kb.mp3\n",
      "quatrefillesdrmarsch_08_alcott_64kb\n",
      "Trigger positions saved to file: C:\\Users\\nadege\\Data\\CORTIFY\\Cortify_Media\\Add_Triggers\\triggers\\quatrefillesdrmarsch_08_alcott_64kb_trigger.txt\n"
     ]
    },
    {
     "name": "stderr",
     "output_type": "stream",
     "text": [
      "Non standard genre name: Audiobooks\n"
     ]
    },
    {
     "name": "stdout",
     "output_type": "stream",
     "text": [
      "Saving newly created stim file: C:\\Users\\nadege\\Data\\CORTIFY\\Cortify_Media\\Add_Triggers\\stimuli_with_triggers\\quatrefillesdrmarsch_08_alcott_64kb.mp3\n",
      "quatrefillesdrmarsch_09_alcott_64kb\n",
      "Trigger positions saved to file: C:\\Users\\nadege\\Data\\CORTIFY\\Cortify_Media\\Add_Triggers\\triggers\\quatrefillesdrmarsch_09_alcott_64kb_trigger.txt\n"
     ]
    },
    {
     "name": "stderr",
     "output_type": "stream",
     "text": [
      "Non standard genre name: Audiobooks\n"
     ]
    },
    {
     "name": "stdout",
     "output_type": "stream",
     "text": [
      "Saving newly created stim file: C:\\Users\\nadege\\Data\\CORTIFY\\Cortify_Media\\Add_Triggers\\stimuli_with_triggers\\quatrefillesdrmarsch_09_alcott_64kb.mp3\n",
      "quatrefillesdrmarsch_10_alcott_64kb\n",
      "Trigger positions saved to file: C:\\Users\\nadege\\Data\\CORTIFY\\Cortify_Media\\Add_Triggers\\triggers\\quatrefillesdrmarsch_10_alcott_64kb_trigger.txt\n"
     ]
    },
    {
     "name": "stderr",
     "output_type": "stream",
     "text": [
      "Non standard genre name: Audiobooks\n"
     ]
    },
    {
     "name": "stdout",
     "output_type": "stream",
     "text": [
      "Saving newly created stim file: C:\\Users\\nadege\\Data\\CORTIFY\\Cortify_Media\\Add_Triggers\\stimuli_with_triggers\\quatrefillesdrmarsch_10_alcott_64kb.mp3\n",
      "quatrefillesdrmarsch_11_alcott_64kb\n",
      "Trigger positions saved to file: C:\\Users\\nadege\\Data\\CORTIFY\\Cortify_Media\\Add_Triggers\\triggers\\quatrefillesdrmarsch_11_alcott_64kb_trigger.txt\n"
     ]
    },
    {
     "name": "stderr",
     "output_type": "stream",
     "text": [
      "Non standard genre name: Audiobooks\n"
     ]
    },
    {
     "name": "stdout",
     "output_type": "stream",
     "text": [
      "Saving newly created stim file: C:\\Users\\nadege\\Data\\CORTIFY\\Cortify_Media\\Add_Triggers\\stimuli_with_triggers\\quatrefillesdrmarsch_11_alcott_64kb.mp3\n",
      "quatrefillesdrmarsch_12_alcott_64kb\n",
      "Trigger positions saved to file: C:\\Users\\nadege\\Data\\CORTIFY\\Cortify_Media\\Add_Triggers\\triggers\\quatrefillesdrmarsch_12_alcott_64kb_trigger.txt\n"
     ]
    },
    {
     "name": "stderr",
     "output_type": "stream",
     "text": [
      "Non standard genre name: Audiobooks\n"
     ]
    },
    {
     "name": "stdout",
     "output_type": "stream",
     "text": [
      "Saving newly created stim file: C:\\Users\\nadege\\Data\\CORTIFY\\Cortify_Media\\Add_Triggers\\stimuli_with_triggers\\quatrefillesdrmarsch_12_alcott_64kb.mp3\n",
      "quatrefillesdrmarsch_13_alcott_64kb\n",
      "Trigger positions saved to file: C:\\Users\\nadege\\Data\\CORTIFY\\Cortify_Media\\Add_Triggers\\triggers\\quatrefillesdrmarsch_13_alcott_64kb_trigger.txt\n"
     ]
    },
    {
     "name": "stderr",
     "output_type": "stream",
     "text": [
      "Non standard genre name: Audiobooks\n"
     ]
    },
    {
     "name": "stdout",
     "output_type": "stream",
     "text": [
      "Saving newly created stim file: C:\\Users\\nadege\\Data\\CORTIFY\\Cortify_Media\\Add_Triggers\\stimuli_with_triggers\\quatrefillesdrmarsch_13_alcott_64kb.mp3\n",
      "quatrefillesdrmarsch_14_alcott_64kb\n",
      "Trigger positions saved to file: C:\\Users\\nadege\\Data\\CORTIFY\\Cortify_Media\\Add_Triggers\\triggers\\quatrefillesdrmarsch_14_alcott_64kb_trigger.txt\n"
     ]
    },
    {
     "name": "stderr",
     "output_type": "stream",
     "text": [
      "Non standard genre name: Audiobooks\n"
     ]
    },
    {
     "name": "stdout",
     "output_type": "stream",
     "text": [
      "Saving newly created stim file: C:\\Users\\nadege\\Data\\CORTIFY\\Cortify_Media\\Add_Triggers\\stimuli_with_triggers\\quatrefillesdrmarsch_14_alcott_64kb.mp3\n",
      "quatrefillesdrmarsch_15_alcott_64kb\n",
      "Trigger positions saved to file: C:\\Users\\nadege\\Data\\CORTIFY\\Cortify_Media\\Add_Triggers\\triggers\\quatrefillesdrmarsch_15_alcott_64kb_trigger.txt\n"
     ]
    },
    {
     "name": "stderr",
     "output_type": "stream",
     "text": [
      "Non standard genre name: Audiobooks\n"
     ]
    },
    {
     "name": "stdout",
     "output_type": "stream",
     "text": [
      "Saving newly created stim file: C:\\Users\\nadege\\Data\\CORTIFY\\Cortify_Media\\Add_Triggers\\stimuli_with_triggers\\quatrefillesdrmarsch_15_alcott_64kb.mp3\n",
      "quatrefillesdrmarsch_16_alcott_64kb\n",
      "Trigger positions saved to file: C:\\Users\\nadege\\Data\\CORTIFY\\Cortify_Media\\Add_Triggers\\triggers\\quatrefillesdrmarsch_16_alcott_64kb_trigger.txt\n"
     ]
    },
    {
     "name": "stderr",
     "output_type": "stream",
     "text": [
      "Non standard genre name: Audiobooks\n"
     ]
    },
    {
     "name": "stdout",
     "output_type": "stream",
     "text": [
      "Saving newly created stim file: C:\\Users\\nadege\\Data\\CORTIFY\\Cortify_Media\\Add_Triggers\\stimuli_with_triggers\\quatrefillesdrmarsch_16_alcott_64kb.mp3\n",
      "quatrefillesdrmarsch_17_alcott_64kb\n",
      "Trigger positions saved to file: C:\\Users\\nadege\\Data\\CORTIFY\\Cortify_Media\\Add_Triggers\\triggers\\quatrefillesdrmarsch_17_alcott_64kb_trigger.txt\n"
     ]
    },
    {
     "name": "stderr",
     "output_type": "stream",
     "text": [
      "Non standard genre name: Audiobooks\n"
     ]
    },
    {
     "name": "stdout",
     "output_type": "stream",
     "text": [
      "Saving newly created stim file: C:\\Users\\nadege\\Data\\CORTIFY\\Cortify_Media\\Add_Triggers\\stimuli_with_triggers\\quatrefillesdrmarsch_17_alcott_64kb.mp3\n",
      "quatrefillesdrmarsch_18_alcott_64kb\n",
      "Trigger positions saved to file: C:\\Users\\nadege\\Data\\CORTIFY\\Cortify_Media\\Add_Triggers\\triggers\\quatrefillesdrmarsch_18_alcott_64kb_trigger.txt\n"
     ]
    },
    {
     "name": "stderr",
     "output_type": "stream",
     "text": [
      "Non standard genre name: Audiobooks\n"
     ]
    },
    {
     "name": "stdout",
     "output_type": "stream",
     "text": [
      "Saving newly created stim file: C:\\Users\\nadege\\Data\\CORTIFY\\Cortify_Media\\Add_Triggers\\stimuli_with_triggers\\quatrefillesdrmarsch_18_alcott_64kb.mp3\n",
      "quatrefillesdrmarsch_19_alcott_64kb\n",
      "Trigger positions saved to file: C:\\Users\\nadege\\Data\\CORTIFY\\Cortify_Media\\Add_Triggers\\triggers\\quatrefillesdrmarsch_19_alcott_64kb_trigger.txt\n"
     ]
    },
    {
     "name": "stderr",
     "output_type": "stream",
     "text": [
      "Non standard genre name: Audiobooks\n"
     ]
    },
    {
     "name": "stdout",
     "output_type": "stream",
     "text": [
      "Saving newly created stim file: C:\\Users\\nadege\\Data\\CORTIFY\\Cortify_Media\\Add_Triggers\\stimuli_with_triggers\\quatrefillesdrmarsch_19_alcott_64kb.mp3\n",
      "quatrefillesdrmarsch_20_alcott_64kb\n",
      "Trigger positions saved to file: C:\\Users\\nadege\\Data\\CORTIFY\\Cortify_Media\\Add_Triggers\\triggers\\quatrefillesdrmarsch_20_alcott_64kb_trigger.txt\n"
     ]
    },
    {
     "name": "stderr",
     "output_type": "stream",
     "text": [
      "Non standard genre name: Audiobooks\n"
     ]
    },
    {
     "name": "stdout",
     "output_type": "stream",
     "text": [
      "Saving newly created stim file: C:\\Users\\nadege\\Data\\CORTIFY\\Cortify_Media\\Add_Triggers\\stimuli_with_triggers\\quatrefillesdrmarsch_20_alcott_64kb.mp3\n",
      "quatrefillesdrmarsch_21_alcott_64kb\n",
      "Trigger positions saved to file: C:\\Users\\nadege\\Data\\CORTIFY\\Cortify_Media\\Add_Triggers\\triggers\\quatrefillesdrmarsch_21_alcott_64kb_trigger.txt\n"
     ]
    },
    {
     "name": "stderr",
     "output_type": "stream",
     "text": [
      "Non standard genre name: Audiobooks\n"
     ]
    },
    {
     "name": "stdout",
     "output_type": "stream",
     "text": [
      "Saving newly created stim file: C:\\Users\\nadege\\Data\\CORTIFY\\Cortify_Media\\Add_Triggers\\stimuli_with_triggers\\quatrefillesdrmarsch_21_alcott_64kb.mp3\n",
      "quatrefillesdrmarsch_22_alcott_64kb\n",
      "Trigger positions saved to file: C:\\Users\\nadege\\Data\\CORTIFY\\Cortify_Media\\Add_Triggers\\triggers\\quatrefillesdrmarsch_22_alcott_64kb_trigger.txt\n"
     ]
    },
    {
     "name": "stderr",
     "output_type": "stream",
     "text": [
      "Non standard genre name: Audiobooks\n"
     ]
    },
    {
     "name": "stdout",
     "output_type": "stream",
     "text": [
      "Saving newly created stim file: C:\\Users\\nadege\\Data\\CORTIFY\\Cortify_Media\\Add_Triggers\\stimuli_with_triggers\\quatrefillesdrmarsch_22_alcott_64kb.mp3\n",
      "quatrefillesdrmarsch_23_alcott_64kb\n",
      "Trigger positions saved to file: C:\\Users\\nadege\\Data\\CORTIFY\\Cortify_Media\\Add_Triggers\\triggers\\quatrefillesdrmarsch_23_alcott_64kb_trigger.txt\n"
     ]
    },
    {
     "name": "stderr",
     "output_type": "stream",
     "text": [
      "Non standard genre name: Audiobooks\n"
     ]
    },
    {
     "name": "stdout",
     "output_type": "stream",
     "text": [
      "Saving newly created stim file: C:\\Users\\nadege\\Data\\CORTIFY\\Cortify_Media\\Add_Triggers\\stimuli_with_triggers\\quatrefillesdrmarsch_23_alcott_64kb.mp3\n",
      "Sadhana (feat. Sabrina Agosto)\n",
      "Trigger positions saved to file: C:\\Users\\nadege\\Data\\CORTIFY\\Cortify_Media\\Add_Triggers\\triggers\\Sadhana (feat. Sabrina Agosto)_trigger.txt\n"
     ]
    },
    {
     "name": "stderr",
     "output_type": "stream",
     "text": [
      "Non standard genre name: Musique\n"
     ]
    },
    {
     "name": "stdout",
     "output_type": "stream",
     "text": [
      "Saving newly created stim file: C:\\Users\\nadege\\Data\\CORTIFY\\Cortify_Media\\Add_Triggers\\stimuli_with_triggers\\Sadhana (feat. Sabrina Agosto).mp3\n",
      "sorciere\n",
      "Trigger positions saved to file: C:\\Users\\nadege\\Data\\CORTIFY\\Cortify_Media\\Add_Triggers\\triggers\\sorciere_trigger.txt\n"
     ]
    },
    {
     "name": "stderr",
     "output_type": "stream",
     "text": [
      "Non standard genre name: Audiobooks\n"
     ]
    },
    {
     "name": "stdout",
     "output_type": "stream",
     "text": [
      "Saving newly created stim file: C:\\Users\\nadege\\Data\\CORTIFY\\Cortify_Media\\Add_Triggers\\stimuli_with_triggers\\sorciere.mp3\n",
      "sorciere_test\n",
      "Trigger positions saved to file: C:\\Users\\nadege\\Data\\CORTIFY\\Cortify_Media\\Add_Triggers\\triggers\\sorciere_test_trigger.txt\n"
     ]
    },
    {
     "name": "stderr",
     "output_type": "stream",
     "text": [
      "Non standard genre name: Audiobooks\n"
     ]
    },
    {
     "name": "stdout",
     "output_type": "stream",
     "text": [
      "Saving newly created stim file: C:\\Users\\nadege\\Data\\CORTIFY\\Cortify_Media\\Add_Triggers\\stimuli_with_triggers\\sorciere_test.mp3\n",
      "Staupe01\n",
      "Trigger positions saved to file: C:\\Users\\nadege\\Data\\CORTIFY\\Cortify_Media\\Add_Triggers\\triggers\\Staupe01_trigger.txt\n"
     ]
    },
    {
     "name": "stderr",
     "output_type": "stream",
     "text": [
      "Non standard genre name: Musique\n"
     ]
    },
    {
     "name": "stdout",
     "output_type": "stream",
     "text": [
      "Saving newly created stim file: C:\\Users\\nadege\\Data\\CORTIFY\\Cortify_Media\\Add_Triggers\\stimuli_with_triggers\\Staupe01.mp3\n",
      "Swiss Sun in the 70's\n",
      "Trigger positions saved to file: C:\\Users\\nadege\\Data\\CORTIFY\\Cortify_Media\\Add_Triggers\\triggers\\Swiss Sun in the 70's_trigger.txt\n"
     ]
    },
    {
     "name": "stderr",
     "output_type": "stream",
     "text": [
      "Non standard genre name: Musique\n"
     ]
    },
    {
     "name": "stdout",
     "output_type": "stream",
     "text": [
      "Saving newly created stim file: C:\\Users\\nadege\\Data\\CORTIFY\\Cortify_Media\\Add_Triggers\\stimuli_with_triggers\\Swiss Sun in the 70's.mp3\n",
      "That's My Dad, Mowing the Lawn\n",
      "Trigger positions saved to file: C:\\Users\\nadege\\Data\\CORTIFY\\Cortify_Media\\Add_Triggers\\triggers\\That's My Dad, Mowing the Lawn_trigger.txt\n"
     ]
    },
    {
     "name": "stderr",
     "output_type": "stream",
     "text": [
      "Non standard genre name: Musique\n"
     ]
    },
    {
     "name": "stdout",
     "output_type": "stream",
     "text": [
      "Saving newly created stim file: C:\\Users\\nadege\\Data\\CORTIFY\\Cortify_Media\\Add_Triggers\\stimuli_with_triggers\\That's My Dad, Mowing the Lawn.mp3\n",
      "The Big View\n",
      "Trigger positions saved to file: C:\\Users\\nadege\\Data\\CORTIFY\\Cortify_Media\\Add_Triggers\\triggers\\The Big View_trigger.txt\n"
     ]
    },
    {
     "name": "stderr",
     "output_type": "stream",
     "text": [
      "Non standard genre name: Musique\n"
     ]
    },
    {
     "name": "stdout",
     "output_type": "stream",
     "text": [
      "Saving newly created stim file: C:\\Users\\nadege\\Data\\CORTIFY\\Cortify_Media\\Add_Triggers\\stimuli_with_triggers\\The Big View.mp3\n",
      "The End of a Perfect Day\n",
      "Trigger positions saved to file: C:\\Users\\nadege\\Data\\CORTIFY\\Cortify_Media\\Add_Triggers\\triggers\\The End of a Perfect Day_trigger.txt\n"
     ]
    },
    {
     "name": "stderr",
     "output_type": "stream",
     "text": [
      "Non standard genre name: Musique\n"
     ]
    },
    {
     "name": "stdout",
     "output_type": "stream",
     "text": [
      "Saving newly created stim file: C:\\Users\\nadege\\Data\\CORTIFY\\Cortify_Media\\Add_Triggers\\stimuli_with_triggers\\The End of a Perfect Day.mp3\n",
      "To the Last Dodo Bird\n",
      "Trigger positions saved to file: C:\\Users\\nadege\\Data\\CORTIFY\\Cortify_Media\\Add_Triggers\\triggers\\To the Last Dodo Bird_trigger.txt\n"
     ]
    },
    {
     "name": "stderr",
     "output_type": "stream",
     "text": [
      "Non standard genre name: Musique\n"
     ]
    },
    {
     "name": "stdout",
     "output_type": "stream",
     "text": [
      "Saving newly created stim file: C:\\Users\\nadege\\Data\\CORTIFY\\Cortify_Media\\Add_Triggers\\stimuli_with_triggers\\To the Last Dodo Bird.mp3\n",
      "Voyage_dans_la_lune\n",
      "Failed to read metadata from C:\\Users\\nadege\\Data\\CORTIFY\\Cortify_Media\\Add_Triggers\\original_stimuli: 'NoneType' object is not subscriptable\n",
      "Trigger positions saved to file: C:\\Users\\nadege\\Data\\CORTIFY\\Cortify_Media\\Add_Triggers\\triggers\\Voyage_dans_la_lune_trigger.txt\n",
      "Moviepy - Building video C:\\Users\\nadege\\Data\\CORTIFY\\Cortify_Media\\Add_Triggers\\stimuli_with_triggers\\Voyage_dans_la_lune.mp4.\n",
      "MoviePy - Writing audio in Voyage_dans_la_lune-temp-audio.m4a\n"
     ]
    },
    {
     "name": "stderr",
     "output_type": "stream",
     "text": [
      "                                                                        \r"
     ]
    },
    {
     "name": "stdout",
     "output_type": "stream",
     "text": [
      "MoviePy - Done.\n",
      "Moviepy - Writing video C:\\Users\\nadege\\Data\\CORTIFY\\Cortify_Media\\Add_Triggers\\stimuli_with_triggers\\Voyage_dans_la_lune.mp4\n",
      "\n"
     ]
    },
    {
     "name": "stderr",
     "output_type": "stream",
     "text": [
      "                                                                    \r"
     ]
    },
    {
     "name": "stdout",
     "output_type": "stream",
     "text": [
      "Moviepy - Done !\n",
      "Moviepy - video ready C:\\Users\\nadege\\Data\\CORTIFY\\Cortify_Media\\Add_Triggers\\stimuli_with_triggers\\Voyage_dans_la_lune.mp4\n",
      "Waving Back at Me\n",
      "Trigger positions saved to file: C:\\Users\\nadege\\Data\\CORTIFY\\Cortify_Media\\Add_Triggers\\triggers\\Waving Back at Me_trigger.txt\n"
     ]
    },
    {
     "name": "stderr",
     "output_type": "stream",
     "text": [
      "Non standard genre name: Musique\n"
     ]
    },
    {
     "name": "stdout",
     "output_type": "stream",
     "text": [
      "Saving newly created stim file: C:\\Users\\nadege\\Data\\CORTIFY\\Cortify_Media\\Add_Triggers\\stimuli_with_triggers\\Waving Back at Me.mp3\n",
      "Yanagitani02\n",
      "Trigger positions saved to file: C:\\Users\\nadege\\Data\\CORTIFY\\Cortify_Media\\Add_Triggers\\triggers\\Yanagitani02_trigger.txt\n"
     ]
    },
    {
     "name": "stderr",
     "output_type": "stream",
     "text": [
      "Non standard genre name: Musique\n"
     ]
    },
    {
     "name": "stdout",
     "output_type": "stream",
     "text": [
      "Saving newly created stim file: C:\\Users\\nadege\\Data\\CORTIFY\\Cortify_Media\\Add_Triggers\\stimuli_with_triggers\\Yanagitani02.mp3\n"
     ]
    }
   ],
   "source": [
    "find_new_stim_and_add_triggers(cortify_media_path, accepted_formats=('.wav', '.mp3', 'mp4'), plot=False, overwrite_existing_triggers=True)"
   ]
  },
  {
   "cell_type": "markdown",
   "metadata": {
    "collapsed": false
   },
   "source": [
    "## Sorting New Stimuli\n",
    "\n",
    "This section categorizes the stimuli into genre-specific subfolders (to match the format expected by the Cortify app, and also for generating the JSON playlist, executed in the next cell)."
   ]
  },
  {
   "cell_type": "code",
   "execution_count": 6,
   "metadata": {
    "collapsed": false
   },
   "outputs": [
    {
     "name": "stdout",
     "output_type": "stream",
     "text": [
      "01 Andrew Codeman - Havanna.mp3\n",
      "Copied 01 Andrew Codeman - Havanna.mp3 to C:\\Users\\nadege\\Data\\CORTIFY\\Cortify_Media\\Create_Playlists\\media\\Musique\n",
      "01 Eric Van der Westen - Water Surface.mp3\n",
      "Copied 01 Eric Van der Westen - Water Surface.mp3 to C:\\Users\\nadege\\Data\\CORTIFY\\Cortify_Media\\Create_Playlists\\media\\Musique\n",
      "01 HoliznaPATREON - 2. Voyager.mp3\n",
      "Copied 01 HoliznaPATREON - 2. Voyager.mp3 to C:\\Users\\nadege\\Data\\CORTIFY\\Cortify_Media\\Create_Playlists\\media\\Musique\n",
      "01 HoliznaPATREON - Bell Pepper and Beef (skip the beef).mp3\n",
      "Copied 01 HoliznaPATREON - Bell Pepper and Beef (skip the beef).mp3 to C:\\Users\\nadege\\Data\\CORTIFY\\Cortify_Media\\Create_Playlists\\media\\Musique\n",
      "01 Invisible Path.mp3\n",
      "Copied 01 Invisible Path.mp3 to C:\\Users\\nadege\\Data\\CORTIFY\\Cortify_Media\\Create_Playlists\\media\\Musique\n",
      "01 Ketsa - City Vibe.mp3\n",
      "Copied 01 Ketsa - City Vibe.mp3 to C:\\Users\\nadege\\Data\\CORTIFY\\Cortify_Media\\Create_Playlists\\media\\Musique\n",
      "01 The Ripplers Scrawny faces.mp3\n",
      "Copied 01 The Ripplers Scrawny faces.mp3 to C:\\Users\\nadege\\Data\\CORTIFY\\Cortify_Media\\Create_Playlists\\media\\Musique\n",
      "02 Andrew Codeman - Old Road.mp3\n",
      "Copied 02 Andrew Codeman - Old Road.mp3 to C:\\Users\\nadege\\Data\\CORTIFY\\Cortify_Media\\Create_Playlists\\media\\Musique\n",
      "02 Eric Van der Westen - Ici.mp3\n",
      "Copied 02 Eric Van der Westen - Ici.mp3 to C:\\Users\\nadege\\Data\\CORTIFY\\Cortify_Media\\Create_Playlists\\media\\Musique\n",
      "02 Grandharvas Gathering.mp3\n",
      "Copied 02 Grandharvas Gathering.mp3 to C:\\Users\\nadege\\Data\\CORTIFY\\Cortify_Media\\Create_Playlists\\media\\Musique\n",
      "02 HoliznaPATREON - 4. Don't Look Up.mp3\n",
      "Copied 02 HoliznaPATREON - 4. Don't Look Up.mp3 to C:\\Users\\nadege\\Data\\CORTIFY\\Cortify_Media\\Create_Playlists\\media\\Musique\n",
      "02 HoliznaPATREON - Swimming Bird.mp3\n",
      "Copied 02 HoliznaPATREON - Swimming Bird.mp3 to C:\\Users\\nadege\\Data\\CORTIFY\\Cortify_Media\\Create_Playlists\\media\\Musique\n",
      "02 Ketsa - Soul Feeling.mp3\n",
      "Copied 02 Ketsa - Soul Feeling.mp3 to C:\\Users\\nadege\\Data\\CORTIFY\\Cortify_Media\\Create_Playlists\\media\\Musique\n",
      "02 The Ripplers Roving.mp3\n",
      "Copied 02 The Ripplers Roving.mp3 to C:\\Users\\nadege\\Data\\CORTIFY\\Cortify_Media\\Create_Playlists\\media\\Musique\n",
      "03 ... de pronto me voy a Cuba.mp3\n",
      "Copied 03 ... de pronto me voy a Cuba.mp3 to C:\\Users\\nadege\\Data\\CORTIFY\\Cortify_Media\\Create_Playlists\\media\\Musique\n",
      "03 Andrew Codeman - Mountain Wind.mp3\n",
      "Copied 03 Andrew Codeman - Mountain Wind.mp3 to C:\\Users\\nadege\\Data\\CORTIFY\\Cortify_Media\\Create_Playlists\\media\\Musique\n",
      "03 Eric Van der Westen - Blue Is All That's Left.mp3\n",
      "Copied 03 Eric Van der Westen - Blue Is All That's Left.mp3 to C:\\Users\\nadege\\Data\\CORTIFY\\Cortify_Media\\Create_Playlists\\media\\Musique\n",
      "03 HoliznaPATREON - 1. Don't Look Down.mp3\n",
      "Copied 03 HoliznaPATREON - 1. Don't Look Down.mp3 to C:\\Users\\nadege\\Data\\CORTIFY\\Cortify_Media\\Create_Playlists\\media\\Musique\n",
      "03 HoliznaPATREON - Whatever Happens, Happens.mp3\n",
      "Copied 03 HoliznaPATREON - Whatever Happens, Happens.mp3 to C:\\Users\\nadege\\Data\\CORTIFY\\Cortify_Media\\Create_Playlists\\media\\Musique\n",
      "03 Ketsa - Calling Angels.mp3\n",
      "Copied 03 Ketsa - Calling Angels.mp3 to C:\\Users\\nadege\\Data\\CORTIFY\\Cortify_Media\\Create_Playlists\\media\\Musique\n",
      "03 The Ripplers  Child Harold.mp3\n",
      "Copied 03 The Ripplers  Child Harold.mp3 to C:\\Users\\nadege\\Data\\CORTIFY\\Cortify_Media\\Create_Playlists\\media\\Musique\n",
      "04 Eric Van der Westen - Mark.mp3\n",
      "Copied 04 Eric Van der Westen - Mark.mp3 to C:\\Users\\nadege\\Data\\CORTIFY\\Cortify_Media\\Create_Playlists\\media\\Musique\n",
      "04 HoliznaPATREON - 7. Radio Static.mp3\n",
      "Copied 04 HoliznaPATREON - 7. Radio Static.mp3 to C:\\Users\\nadege\\Data\\CORTIFY\\Cortify_Media\\Create_Playlists\\media\\Musique\n",
      "04 HoliznaPATREON - Bebop.mp3\n",
      "Copied 04 HoliznaPATREON - Bebop.mp3 to C:\\Users\\nadege\\Data\\CORTIFY\\Cortify_Media\\Create_Playlists\\media\\Musique\n",
      "04 Ketsa - Deep Wounds Need Healing.mp3\n",
      "Copied 04 Ketsa - Deep Wounds Need Healing.mp3 to C:\\Users\\nadege\\Data\\CORTIFY\\Cortify_Media\\Create_Playlists\\media\\Musique\n",
      "04 The Ripplers  Dusk.mp3\n",
      "Copied 04 The Ripplers  Dusk.mp3 to C:\\Users\\nadege\\Data\\CORTIFY\\Cortify_Media\\Create_Playlists\\media\\Musique\n",
      "04 To the Last Dodo Bird.mp3\n",
      "Copied 04 To the Last Dodo Bird.mp3 to C:\\Users\\nadege\\Data\\CORTIFY\\Cortify_Media\\Create_Playlists\\media\\Musique\n",
      "05 Eric Van der Westen - A Feather.mp3\n",
      "Copied 05 Eric Van der Westen - A Feather.mp3 to C:\\Users\\nadege\\Data\\CORTIFY\\Cortify_Media\\Create_Playlists\\media\\Musique\n",
      "05 HoliznaPATREON - 3. Happy People.mp3\n",
      "Copied 05 HoliznaPATREON - 3. Happy People.mp3 to C:\\Users\\nadege\\Data\\CORTIFY\\Cortify_Media\\Create_Playlists\\media\\Musique\n",
      "05 HoliznaPATREON - Cruising.mp3\n",
      "Copied 05 HoliznaPATREON - Cruising.mp3 to C:\\Users\\nadege\\Data\\CORTIFY\\Cortify_Media\\Create_Playlists\\media\\Musique\n",
      "05 Ketsa - Turn It On.mp3\n",
      "Copied 05 Ketsa - Turn It On.mp3 to C:\\Users\\nadege\\Data\\CORTIFY\\Cortify_Media\\Create_Playlists\\media\\Musique\n",
      "05 Meravigliarsi.mp3\n",
      "Copied 05 Meravigliarsi.mp3 to C:\\Users\\nadege\\Data\\CORTIFY\\Cortify_Media\\Create_Playlists\\media\\Musique\n",
      "05 The Ripplers  Cindy.mp3\n",
      "Copied 05 The Ripplers  Cindy.mp3 to C:\\Users\\nadege\\Data\\CORTIFY\\Cortify_Media\\Create_Playlists\\media\\Musique\n",
      "06 Eric Van der Westen - Time-Out, Space-Out.mp3\n",
      "Copied 06 Eric Van der Westen - Time-Out, Space-Out.mp3 to C:\\Users\\nadege\\Data\\CORTIFY\\Cortify_Media\\Create_Playlists\\media\\Musique\n",
      "06 HoliznaPATREON - 5. Deep Within.mp3\n",
      "Copied 06 HoliznaPATREON - 5. Deep Within.mp3 to C:\\Users\\nadege\\Data\\CORTIFY\\Cortify_Media\\Create_Playlists\\media\\Musique\n",
      "06 HoliznaPATREON - Easy Come Easy Go.mp3\n",
      "Copied 06 HoliznaPATREON - Easy Come Easy Go.mp3 to C:\\Users\\nadege\\Data\\CORTIFY\\Cortify_Media\\Create_Playlists\\media\\Musique\n",
      "06 Ketsa - Top House.mp3\n",
      "Copied 06 Ketsa - Top House.mp3 to C:\\Users\\nadege\\Data\\CORTIFY\\Cortify_Media\\Create_Playlists\\media\\Musique\n",
      "06 Não Tenha Medo.mp3\n",
      "Copied 06 Não Tenha Medo.mp3 to C:\\Users\\nadege\\Data\\CORTIFY\\Cortify_Media\\Create_Playlists\\media\\Musique\n",
      "06 The Ripplers  Tears of Blood Fade.mp3\n",
      "Copied 06 The Ripplers  Tears of Blood Fade.mp3 to C:\\Users\\nadege\\Data\\CORTIFY\\Cortify_Media\\Create_Playlists\\media\\Musique\n",
      "07 Arup & Saverio.mp3\n",
      "Copied 07 Arup & Saverio.mp3 to C:\\Users\\nadege\\Data\\CORTIFY\\Cortify_Media\\Create_Playlists\\media\\Musique\n",
      "07 Eric Van der Westen - A Left Hook.mp3\n",
      "Copied 07 Eric Van der Westen - A Left Hook.mp3 to C:\\Users\\nadege\\Data\\CORTIFY\\Cortify_Media\\Create_Playlists\\media\\Musique\n",
      "07 HoliznaPATREON - 8. Years Lost.mp3\n",
      "Copied 07 HoliznaPATREON - 8. Years Lost.mp3 to C:\\Users\\nadege\\Data\\CORTIFY\\Cortify_Media\\Create_Playlists\\media\\Musique\n",
      "07 HoliznaPATREON - Fresh Bounty.mp3\n",
      "Copied 07 HoliznaPATREON - Fresh Bounty.mp3 to C:\\Users\\nadege\\Data\\CORTIFY\\Cortify_Media\\Create_Playlists\\media\\Musique\n",
      "07 Ketsa - Mistakes Are For Learning.mp3\n",
      "Copied 07 Ketsa - Mistakes Are For Learning.mp3 to C:\\Users\\nadege\\Data\\CORTIFY\\Cortify_Media\\Create_Playlists\\media\\Musique\n",
      "07 The Ripplers  Shiny Eyes.mp3\n",
      "Copied 07 The Ripplers  Shiny Eyes.mp3 to C:\\Users\\nadege\\Data\\CORTIFY\\Cortify_Media\\Create_Playlists\\media\\Musique\n",
      "08 Eric Van der Westen - Across The Bosphorus.mp3\n",
      "Copied 08 Eric Van der Westen - Across The Bosphorus.mp3 to C:\\Users\\nadege\\Data\\CORTIFY\\Cortify_Media\\Create_Playlists\\media\\Musique\n",
      "08 HoliznaPATREON - 10. Cassette Deck.mp3\n",
      "Copied 08 HoliznaPATREON - 10. Cassette Deck.mp3 to C:\\Users\\nadege\\Data\\CORTIFY\\Cortify_Media\\Create_Playlists\\media\\Musique\n",
      "08 HoliznaPATREON - HEY AQUALUNG!.mp3\n",
      "Copied 08 HoliznaPATREON - HEY AQUALUNG!.mp3 to C:\\Users\\nadege\\Data\\CORTIFY\\Cortify_Media\\Create_Playlists\\media\\Musique\n",
      "08 Ketsa - Not Broken.mp3\n",
      "Copied 08 Ketsa - Not Broken.mp3 to C:\\Users\\nadege\\Data\\CORTIFY\\Cortify_Media\\Create_Playlists\\media\\Musique\n",
      "08 Lobo Guará- I. Livre no Bosque.mp3\n",
      "Copied 08 Lobo Guará- I. Livre no Bosque.mp3 to C:\\Users\\nadege\\Data\\CORTIFY\\Cortify_Media\\Create_Playlists\\media\\Musique\n",
      "08 The Ripplers  Lost Days.mp3\n",
      "Copied 08 The Ripplers  Lost Days.mp3 to C:\\Users\\nadege\\Data\\CORTIFY\\Cortify_Media\\Create_Playlists\\media\\Musique\n",
      "09 HoliznaPATREON - 12. Fresh Start.mp3\n",
      "Copied 09 HoliznaPATREON - 12. Fresh Start.mp3 to C:\\Users\\nadege\\Data\\CORTIFY\\Cortify_Media\\Create_Playlists\\media\\Musique\n",
      "09 HoliznaPATREON - Prairie Oyster.mp3\n",
      "Copied 09 HoliznaPATREON - Prairie Oyster.mp3 to C:\\Users\\nadege\\Data\\CORTIFY\\Cortify_Media\\Create_Playlists\\media\\Musique\n",
      "09 Ketsa - High Time.mp3\n",
      "Copied 09 Ketsa - High Time.mp3 to C:\\Users\\nadege\\Data\\CORTIFY\\Cortify_Media\\Create_Playlists\\media\\Musique\n",
      "09 Lobo Guará- II. Existência Cosmica.mp3\n",
      "Copied 09 Lobo Guará- II. Existência Cosmica.mp3 to C:\\Users\\nadege\\Data\\CORTIFY\\Cortify_Media\\Create_Playlists\\media\\Musique\n",
      "10 HoliznaPATREON - 9. Habits.mp3\n",
      "Copied 10 HoliznaPATREON - 9. Habits.mp3 to C:\\Users\\nadege\\Data\\CORTIFY\\Cortify_Media\\Create_Playlists\\media\\Musique\n",
      "10 HoliznaPATREON - Southside Sky.mp3\n",
      "Copied 10 HoliznaPATREON - Southside Sky.mp3 to C:\\Users\\nadege\\Data\\CORTIFY\\Cortify_Media\\Create_Playlists\\media\\Musique\n",
      "10 Ketsa - Heart So Torn inst.mp3\n",
      "Copied 10 Ketsa - Heart So Torn inst.mp3 to C:\\Users\\nadege\\Data\\CORTIFY\\Cortify_Media\\Create_Playlists\\media\\Musique\n",
      "10 Lobo Guará- III. O Lobo Deve Viver.mp3\n",
      "Copied 10 Lobo Guará- III. O Lobo Deve Viver.mp3 to C:\\Users\\nadege\\Data\\CORTIFY\\Cortify_Media\\Create_Playlists\\media\\Musique\n",
      "11 HoliznaPATREON - 11. Things Are Going To Change.mp3\n",
      "Copied 11 HoliznaPATREON - 11. Things Are Going To Change.mp3 to C:\\Users\\nadege\\Data\\CORTIFY\\Cortify_Media\\Create_Playlists\\media\\Musique\n",
      "11 Ketsa - Outside In.mp3\n",
      "Copied 11 Ketsa - Outside In.mp3 to C:\\Users\\nadege\\Data\\CORTIFY\\Cortify_Media\\Create_Playlists\\media\\Musique\n",
      "11 Nova Viagem.mp3\n",
      "Copied 11 Nova Viagem.mp3 to C:\\Users\\nadege\\Data\\CORTIFY\\Cortify_Media\\Create_Playlists\\media\\Musique\n",
      "12 Awakening.mp3\n",
      "Copied 12 Awakening.mp3 to C:\\Users\\nadege\\Data\\CORTIFY\\Cortify_Media\\Create_Playlists\\media\\Musique\n",
      "12 HoliznaPATREON - 6. Memories.mp3\n",
      "Copied 12 HoliznaPATREON - 6. Memories.mp3 to C:\\Users\\nadege\\Data\\CORTIFY\\Cortify_Media\\Create_Playlists\\media\\Musique\n",
      "12 Ketsa - Can't Stop We.mp3\n",
      "Copied 12 Ketsa - Can't Stop We.mp3 to C:\\Users\\nadege\\Data\\CORTIFY\\Cortify_Media\\Create_Playlists\\media\\Musique\n",
      "13 Ketsa - Endings Beginnings.mp3\n",
      "Copied 13 Ketsa - Endings Beginnings.mp3 to C:\\Users\\nadege\\Data\\CORTIFY\\Cortify_Media\\Create_Playlists\\media\\Musique\n",
      "13 Sadhana.mp3\n",
      "Copied 13 Sadhana.mp3 to C:\\Users\\nadege\\Data\\CORTIFY\\Cortify_Media\\Create_Playlists\\media\\Musique\n",
      "14 Ketsa - Rain Man.mp3\n",
      "Copied 14 Ketsa - Rain Man.mp3 to C:\\Users\\nadege\\Data\\CORTIFY\\Cortify_Media\\Create_Playlists\\media\\Musique\n",
      "15 Ketsa - Aches.mp3\n",
      "Copied 15 Ketsa - Aches.mp3 to C:\\Users\\nadege\\Data\\CORTIFY\\Cortify_Media\\Create_Playlists\\media\\Musique\n",
      "16 Ketsa - Session.mp3\n",
      "Copied 16 Ketsa - Session.mp3 to C:\\Users\\nadege\\Data\\CORTIFY\\Cortify_Media\\Create_Playlists\\media\\Musique\n",
      "17 Ketsa - All Forgiven.mp3\n",
      "Copied 17 Ketsa - All Forgiven.mp3 to C:\\Users\\nadege\\Data\\CORTIFY\\Cortify_Media\\Create_Playlists\\media\\Musique\n",
      "17youyou_hq_fr.mp3\n",
      "Copied 17youyou_hq_fr.mp3 to C:\\Users\\nadege\\Data\\CORTIFY\\Cortify_Media\\Create_Playlists\\media\\Podcasts\n",
      "1_ch1-3.mp3\n",
      "Copied 1_ch1-3.mp3 to C:\\Users\\nadege\\Data\\CORTIFY\\Cortify_Media\\Create_Playlists\\media\\Audiobooks\n",
      "24canarivoice_hq_fr.mp3\n",
      "Copied 24canarivoice_hq_fr.mp3 to C:\\Users\\nadege\\Data\\CORTIFY\\Cortify_Media\\Create_Playlists\\media\\Podcasts\n",
      "2_ch4-6.mp3\n",
      "Copied 2_ch4-6.mp3 to C:\\Users\\nadege\\Data\\CORTIFY\\Cortify_Media\\Create_Playlists\\media\\Audiobooks\n",
      "3_ch7-9.mp3\n",
      "Copied 3_ch7-9.mp3 to C:\\Users\\nadege\\Data\\CORTIFY\\Cortify_Media\\Create_Playlists\\media\\Audiobooks\n",
      "4_ch10-12.mp3\n",
      "Copied 4_ch10-12.mp3 to C:\\Users\\nadege\\Data\\CORTIFY\\Cortify_Media\\Create_Playlists\\media\\Audiobooks\n",
      "5_ch13-14.mp3\n",
      "Copied 5_ch13-14.mp3 to C:\\Users\\nadege\\Data\\CORTIFY\\Cortify_Media\\Create_Playlists\\media\\Audiobooks\n",
      "6_ch15-19.mp3\n",
      "Copied 6_ch15-19.mp3 to C:\\Users\\nadege\\Data\\CORTIFY\\Cortify_Media\\Create_Playlists\\media\\Audiobooks\n",
      "7_ch20-22.mp3\n",
      "Copied 7_ch20-22.mp3 to C:\\Users\\nadege\\Data\\CORTIFY\\Cortify_Media\\Create_Playlists\\media\\Audiobooks\n",
      "8 inventions chinoises en avance sur leur temps.mp4\n",
      "Copied 8 inventions chinoises en avance sur leur temps.mp4 to C:\\Users\\nadege\\Data\\CORTIFY\\Cortify_Media\\Create_Playlists\\media\\Vidéos\n",
      "8_ch23-25.mp3\n",
      "Copied 8_ch23-25.mp3 to C:\\Users\\nadege\\Data\\CORTIFY\\Cortify_Media\\Create_Playlists\\media\\Audiobooks\n",
      "9_ch26-27.mp3\n",
      "Copied 9_ch26-27.mp3 to C:\\Users\\nadege\\Data\\CORTIFY\\Cortify_Media\\Create_Playlists\\media\\Audiobooks\n",
      "aliceaupays_00_carroll_64kb.mp3\n",
      "Copied aliceaupays_00_carroll_64kb.mp3 to C:\\Users\\nadege\\Data\\CORTIFY\\Cortify_Media\\Create_Playlists\\media\\Audiobooks\n",
      "aliceaupays_01_carroll_64kb.mp3\n",
      "Copied aliceaupays_01_carroll_64kb.mp3 to C:\\Users\\nadege\\Data\\CORTIFY\\Cortify_Media\\Create_Playlists\\media\\Audiobooks\n",
      "aliceaupays_02_carroll_64kb.mp3\n",
      "Copied aliceaupays_02_carroll_64kb.mp3 to C:\\Users\\nadege\\Data\\CORTIFY\\Cortify_Media\\Create_Playlists\\media\\Audiobooks\n",
      "aliceaupays_03_carroll_64kb.mp3\n",
      "Copied aliceaupays_03_carroll_64kb.mp3 to C:\\Users\\nadege\\Data\\CORTIFY\\Cortify_Media\\Create_Playlists\\media\\Audiobooks\n",
      "aliceaupays_04_carroll_64kb.mp3\n",
      "Copied aliceaupays_04_carroll_64kb.mp3 to C:\\Users\\nadege\\Data\\CORTIFY\\Cortify_Media\\Create_Playlists\\media\\Audiobooks\n",
      "aliceaupays_05_carroll_64kb.mp3\n",
      "Copied aliceaupays_05_carroll_64kb.mp3 to C:\\Users\\nadege\\Data\\CORTIFY\\Cortify_Media\\Create_Playlists\\media\\Audiobooks\n",
      "aliceaupays_06_carroll_64kb.mp3\n",
      "Copied aliceaupays_06_carroll_64kb.mp3 to C:\\Users\\nadege\\Data\\CORTIFY\\Cortify_Media\\Create_Playlists\\media\\Audiobooks\n",
      "aliceaupays_07_carroll_64kb.mp3\n",
      "Copied aliceaupays_07_carroll_64kb.mp3 to C:\\Users\\nadege\\Data\\CORTIFY\\Cortify_Media\\Create_Playlists\\media\\Audiobooks\n",
      "aliceaupays_08_carroll_64kb.mp3\n",
      "Copied aliceaupays_08_carroll_64kb.mp3 to C:\\Users\\nadege\\Data\\CORTIFY\\Cortify_Media\\Create_Playlists\\media\\Audiobooks\n",
      "aliceaupays_09_carroll_64kb.mp3\n",
      "Copied aliceaupays_09_carroll_64kb.mp3 to C:\\Users\\nadege\\Data\\CORTIFY\\Cortify_Media\\Create_Playlists\\media\\Audiobooks\n",
      "aliceaupays_10_carroll_64kb.mp3\n",
      "Copied aliceaupays_10_carroll_64kb.mp3 to C:\\Users\\nadege\\Data\\CORTIFY\\Cortify_Media\\Create_Playlists\\media\\Audiobooks\n",
      "aliceaupays_11_carroll_64kb.mp3\n",
      "Copied aliceaupays_11_carroll_64kb.mp3 to C:\\Users\\nadege\\Data\\CORTIFY\\Cortify_Media\\Create_Playlists\\media\\Audiobooks\n",
      "aliceaupays_12_carroll_64kb.mp3\n",
      "Copied aliceaupays_12_carroll_64kb.mp3 to C:\\Users\\nadege\\Data\\CORTIFY\\Cortify_Media\\Create_Playlists\\media\\Audiobooks\n",
      "Arup & Saverio (feat. Arup Kanti Das).mp3\n",
      "Copied Arup & Saverio (feat. Arup Kanti Das).mp3 to C:\\Users\\nadege\\Data\\CORTIFY\\Cortify_Media\\Create_Playlists\\media\\Musique\n",
      "Awakening.mp3\n",
      "Copied Awakening.mp3 to C:\\Users\\nadege\\Data\\CORTIFY\\Cortify_Media\\Create_Playlists\\media\\Musique\n",
      "Broberg02.mp3\n",
      "Copied Broberg02.mp3 to C:\\Users\\nadege\\Data\\CORTIFY\\Cortify_Media\\Create_Playlists\\media\\Musique\n",
      "bêtises.mp3\n",
      "Copied bêtises.mp3 to C:\\Users\\nadege\\Data\\CORTIFY\\Cortify_Media\\Create_Playlists\\media\\Podcasts\n",
      "Carl.mp3\n",
      "Copied Carl.mp3 to C:\\Users\\nadege\\Data\\CORTIFY\\Cortify_Media\\Create_Playlists\\media\\Musique\n",
      "Comment naviguer DANS les vaisseaux sanguins.mp4\n",
      "Copied Comment naviguer DANS les vaisseaux sanguins.mp4 to C:\\Users\\nadege\\Data\\CORTIFY\\Cortify_Media\\Create_Playlists\\media\\Vidéos\n",
      "contes001_01_tompouce_64kb.mp3\n",
      "Copied contes001_01_tompouce_64kb.mp3 to C:\\Users\\nadege\\Data\\CORTIFY\\Cortify_Media\\Create_Playlists\\media\\Audiobooks\n",
      "contes001_02_petitchaperonrouge_64kb.mp3\n",
      "Copied contes001_02_petitchaperonrouge_64kb.mp3 to C:\\Users\\nadege\\Data\\CORTIFY\\Cortify_Media\\Create_Playlists\\media\\Audiobooks\n",
      "contes001_03_nainsmagiques_64kb.mp3\n",
      "Copied contes001_03_nainsmagiques_64kb.mp3 to C:\\Users\\nadege\\Data\\CORTIFY\\Cortify_Media\\Create_Playlists\\media\\Audiobooks\n",
      "contes001_04_princessepetitpois_64kb.mp3\n",
      "Copied contes001_04_princessepetitpois_64kb.mp3 to C:\\Users\\nadege\\Data\\CORTIFY\\Cortify_Media\\Create_Playlists\\media\\Audiobooks\n",
      "contes001_05_chatbotte_64kb.mp3\n",
      "Copied contes001_05_chatbotte_64kb.mp3 to C:\\Users\\nadege\\Data\\CORTIFY\\Cortify_Media\\Create_Playlists\\media\\Audiobooks\n",
      "contes001_06_renardetlechat_64kb.mp3\n",
      "Copied contes001_06_renardetlechat_64kb.mp3 to C:\\Users\\nadege\\Data\\CORTIFY\\Cortify_Media\\Create_Playlists\\media\\Audiobooks\n",
      "contes001_07_vilainpetitcanard_64kb.mp3\n",
      "Copied contes001_07_vilainpetitcanard_64kb.mp3 to C:\\Users\\nadege\\Data\\CORTIFY\\Cortify_Media\\Create_Playlists\\media\\Audiobooks\n",
      "contes001_08_cendrillon_64kb.mp3\n",
      "Copied contes001_08_cendrillon_64kb.mp3 to C:\\Users\\nadege\\Data\\CORTIFY\\Cortify_Media\\Create_Playlists\\media\\Audiobooks\n",
      "contes001_09_coureurs_64kb.mp3\n",
      "Copied contes001_09_coureurs_64kb.mp3 to C:\\Users\\nadege\\Data\\CORTIFY\\Cortify_Media\\Create_Playlists\\media\\Audiobooks\n",
      "contes001_10_petitpatre_64kb.mp3\n",
      "Copied contes001_10_petitpatre_64kb.mp3 to C:\\Users\\nadege\\Data\\CORTIFY\\Cortify_Media\\Create_Playlists\\media\\Audiobooks\n",
      "contes001_11_habitsneufsgrandduc_64kb.mp3\n",
      "Copied contes001_11_habitsneufsgrandduc_64kb.mp3 to C:\\Users\\nadege\\Data\\CORTIFY\\Cortify_Media\\Create_Playlists\\media\\Audiobooks\n",
      "contes001_12_doucebouillie_64kb.mp3\n",
      "Copied contes001_12_doucebouillie_64kb.mp3 to C:\\Users\\nadege\\Data\\CORTIFY\\Cortify_Media\\Create_Playlists\\media\\Audiobooks\n",
      "contes001_13_cinqdanscossepois_64kb.mp3\n",
      "Copied contes001_13_cinqdanscossepois_64kb.mp3 to C:\\Users\\nadege\\Data\\CORTIFY\\Cortify_Media\\Create_Playlists\\media\\Audiobooks\n",
      "contes001_14_fees_64kb.mp3\n",
      "Copied contes001_14_fees_64kb.mp3 to C:\\Users\\nadege\\Data\\CORTIFY\\Cortify_Media\\Create_Playlists\\media\\Audiobooks\n",
      "contes001_15_musiciensvillebreme_64kb.mp3\n",
      "Copied contes001_15_musiciensvillebreme_64kb.mp3 to C:\\Users\\nadege\\Data\\CORTIFY\\Cortify_Media\\Create_Playlists\\media\\Audiobooks\n",
      "contes001_16_stoiquesoldatplomb_64kb.mp3\n",
      "Copied contes001_16_stoiquesoldatplomb_64kb.mp3 to C:\\Users\\nadege\\Data\\CORTIFY\\Cortify_Media\\Create_Playlists\\media\\Audiobooks\n",
      "contes001_17_oiseaubleu_64kb.mp3\n",
      "Copied contes001_17_oiseaubleu_64kb.mp3 to C:\\Users\\nadege\\Data\\CORTIFY\\Cortify_Media\\Create_Playlists\\media\\Audiobooks\n",
      "contes001_18_tableanebatonmerveilleux_64kb.mp3\n",
      "Copied contes001_18_tableanebatonmerveilleux_64kb.mp3 to C:\\Users\\nadege\\Data\\CORTIFY\\Cortify_Media\\Create_Playlists\\media\\Audiobooks\n",
      "contes001_19_petitfrerepetitesoeur_64kb.mp3\n",
      "Copied contes001_19_petitfrerepetitesoeur_64kb.mp3 to C:\\Users\\nadege\\Data\\CORTIFY\\Cortify_Media\\Create_Playlists\\media\\Audiobooks\n",
      "contes001_20_dameholle_64kb.mp3\n",
      "Copied contes001_20_dameholle_64kb.mp3 to C:\\Users\\nadege\\Data\\CORTIFY\\Cortify_Media\\Create_Playlists\\media\\Audiobooks\n",
      "contes002_01_belleboisdormant_64kb.mp3\n",
      "Copied contes002_01_belleboisdormant_64kb.mp3 to C:\\Users\\nadege\\Data\\CORTIFY\\Cortify_Media\\Create_Playlists\\media\\Audiobooks\n",
      "contes002_02_jeanchanceux_64kb.mp3\n",
      "Copied contes002_02_jeanchanceux_64kb.mp3 to C:\\Users\\nadege\\Data\\CORTIFY\\Cortify_Media\\Create_Playlists\\media\\Audiobooks\n",
      "contes002_03_mallevolante_64kb.mp3\n",
      "Copied contes002_03_mallevolante_64kb.mp3 to C:\\Users\\nadege\\Data\\CORTIFY\\Cortify_Media\\Create_Playlists\\media\\Audiobooks\n",
      "contes002_04_araigneepuce_64kb.mp3\n",
      "Copied contes002_04_araigneepuce_64kb.mp3 to C:\\Users\\nadege\\Data\\CORTIFY\\Cortify_Media\\Create_Playlists\\media\\Audiobooks\n",
      "contes002_05_aiguilleareprise_64kb.mp3\n",
      "Copied contes002_05_aiguilleareprise_64kb.mp3 to C:\\Users\\nadege\\Data\\CORTIFY\\Cortify_Media\\Create_Playlists\\media\\Audiobooks\n",
      "contes002_06_reineabeilles_64kb.mp3\n",
      "Copied contes002_06_reineabeilles_64kb.mp3 to C:\\Users\\nadege\\Data\\CORTIFY\\Cortify_Media\\Create_Playlists\\media\\Audiobooks\n",
      "contes002_07_ricquethouppe_64kb.mp3\n",
      "Copied contes002_07_ricquethouppe_64kb.mp3 to C:\\Users\\nadege\\Data\\CORTIFY\\Cortify_Media\\Create_Playlists\\media\\Audiobooks\n",
      "contes002_08_presentsgnomes_64kb.mp3\n",
      "Copied contes002_08_presentsgnomes_64kb.mp3 to C:\\Users\\nadege\\Data\\CORTIFY\\Cortify_Media\\Create_Playlists\\media\\Audiobooks\n",
      "contes002_09_lievreherisson_64kb.mp3\n",
      "Copied contes002_09_lievreherisson_64kb.mp3 to C:\\Users\\nadege\\Data\\CORTIFY\\Cortify_Media\\Create_Playlists\\media\\Audiobooks\n",
      "contes002_10_petitefilleallumettes_64kb.mp3\n",
      "Copied contes002_10_petitefilleallumettes_64kb.mp3 to C:\\Users\\nadege\\Data\\CORTIFY\\Cortify_Media\\Create_Playlists\\media\\Audiobooks\n",
      "contes002_11_troisfreres_64kb.mp3\n",
      "Copied contes002_11_troisfreres_64kb.mp3 to C:\\Users\\nadege\\Data\\CORTIFY\\Cortify_Media\\Create_Playlists\\media\\Audiobooks\n",
      "contes002_12_plumeencrier_64kb.mp3\n",
      "Copied contes002_12_plumeencrier_64kb.mp3 to C:\\Users\\nadege\\Data\\CORTIFY\\Cortify_Media\\Create_Playlists\\media\\Audiobooks\n",
      "contes002_13_oursroitelet_64kb.mp3\n",
      "Copied contes002_13_oursroitelet_64kb.mp3 to C:\\Users\\nadege\\Data\\CORTIFY\\Cortify_Media\\Create_Playlists\\media\\Audiobooks\n",
      "contes002_14_grandclauspetitclaus_64kb.mp3\n",
      "Copied contes002_14_grandclauspetitclaus_64kb.mp3 to C:\\Users\\nadege\\Data\\CORTIFY\\Cortify_Media\\Create_Playlists\\media\\Audiobooks\n",
      "contes002_15_roimontagneor_64kb.mp3\n",
      "Copied contes002_15_roimontagneor_64kb.mp3 to C:\\Users\\nadege\\Data\\CORTIFY\\Cortify_Media\\Create_Playlists\\media\\Audiobooks\n",
      "contes002_16_jugehabile_64kb.mp3\n",
      "Copied contes002_16_jugehabile_64kb.mp3 to C:\\Users\\nadege\\Data\\CORTIFY\\Cortify_Media\\Create_Playlists\\media\\Audiobooks\n",
      "contes002_17_huitchevreaux_64kb.mp3\n",
      "Copied contes002_17_huitchevreaux_64kb.mp3 to C:\\Users\\nadege\\Data\\CORTIFY\\Cortify_Media\\Create_Playlists\\media\\Audiobooks\n",
      "contes002_18_histoirekoli_64kb.mp3\n",
      "Copied contes002_18_histoirekoli_64kb.mp3 to C:\\Users\\nadege\\Data\\CORTIFY\\Cortify_Media\\Create_Playlists\\media\\Audiobooks\n",
      "contes002_19_terrecomete_64kb.mp3\n",
      "Copied contes002_19_terrecomete_64kb.mp3 to C:\\Users\\nadege\\Data\\CORTIFY\\Cortify_Media\\Create_Playlists\\media\\Audiobooks\n",
      "contes002_20_ourashimatarodeesseocean_64kb.mp3\n",
      "Copied contes002_20_ourashimatarodeesseocean_64kb.mp3 to C:\\Users\\nadege\\Data\\CORTIFY\\Cortify_Media\\Create_Playlists\\media\\Audiobooks\n",
      "Cui08.mp3\n",
      "Copied Cui08.mp3 to C:\\Users\\nadege\\Data\\CORTIFY\\Cortify_Media\\Create_Playlists\\media\\Musique\n",
      "De Pronto Me Voy a Cuba (feat. Paolino Dalla Porta).mp3\n",
      "Copied De Pronto Me Voy a Cuba (feat. Paolino Dalla Porta).mp3 to C:\\Users\\nadege\\Data\\CORTIFY\\Cortify_Media\\Create_Playlists\\media\\Musique\n",
      "Denisova04.mp3\n",
      "Copied Denisova04.mp3 to C:\\Users\\nadege\\Data\\CORTIFY\\Cortify_Media\\Create_Playlists\\media\\Musique\n",
      "Denisova06.mp3\n",
      "Copied Denisova06.mp3 to C:\\Users\\nadege\\Data\\CORTIFY\\Cortify_Media\\Create_Playlists\\media\\Musique\n",
      "fables01_00_lafontaine_jl_64kb.mp3\n",
      "Copied fables01_00_lafontaine_jl_64kb.mp3 to C:\\Users\\nadege\\Data\\CORTIFY\\Cortify_Media\\Create_Playlists\\media\\Audiobooks\n",
      "fables01_01_lafontaine_jl_64kb.mp3\n",
      "Copied fables01_01_lafontaine_jl_64kb.mp3 to C:\\Users\\nadege\\Data\\CORTIFY\\Cortify_Media\\Create_Playlists\\media\\Audiobooks\n",
      "fables01_02_lafontaine_jl_64kb.mp3\n",
      "Copied fables01_02_lafontaine_jl_64kb.mp3 to C:\\Users\\nadege\\Data\\CORTIFY\\Cortify_Media\\Create_Playlists\\media\\Audiobooks\n",
      "fables01_03_lafontaine_jl_64kb.mp3\n",
      "Copied fables01_03_lafontaine_jl_64kb.mp3 to C:\\Users\\nadege\\Data\\CORTIFY\\Cortify_Media\\Create_Playlists\\media\\Audiobooks\n",
      "fables01_04_lafontaine_jl_64kb.mp3\n",
      "Copied fables01_04_lafontaine_jl_64kb.mp3 to C:\\Users\\nadege\\Data\\CORTIFY\\Cortify_Media\\Create_Playlists\\media\\Audiobooks\n",
      "fables01_05_lafontaine_jl_64kb.mp3\n",
      "Copied fables01_05_lafontaine_jl_64kb.mp3 to C:\\Users\\nadege\\Data\\CORTIFY\\Cortify_Media\\Create_Playlists\\media\\Audiobooks\n",
      "fables01_06_lafontaine_jl_64kb.mp3\n",
      "Copied fables01_06_lafontaine_jl_64kb.mp3 to C:\\Users\\nadege\\Data\\CORTIFY\\Cortify_Media\\Create_Playlists\\media\\Audiobooks\n",
      "fables01_07_lafontaine_jl_64kb.mp3\n",
      "Copied fables01_07_lafontaine_jl_64kb.mp3 to C:\\Users\\nadege\\Data\\CORTIFY\\Cortify_Media\\Create_Playlists\\media\\Audiobooks\n",
      "fables01_08_lafontaine_jl_64kb.mp3\n",
      "Copied fables01_08_lafontaine_jl_64kb.mp3 to C:\\Users\\nadege\\Data\\CORTIFY\\Cortify_Media\\Create_Playlists\\media\\Audiobooks\n",
      "fables01_09_lafontaine_jl_64kb.mp3\n",
      "Copied fables01_09_lafontaine_jl_64kb.mp3 to C:\\Users\\nadege\\Data\\CORTIFY\\Cortify_Media\\Create_Playlists\\media\\Audiobooks\n",
      "fables01_10_lafontaine_jl_64kb.mp3\n",
      "Copied fables01_10_lafontaine_jl_64kb.mp3 to C:\\Users\\nadege\\Data\\CORTIFY\\Cortify_Media\\Create_Playlists\\media\\Audiobooks\n",
      "fables01_11_lafontaine_jl_64kb.mp3\n",
      "Copied fables01_11_lafontaine_jl_64kb.mp3 to C:\\Users\\nadege\\Data\\CORTIFY\\Cortify_Media\\Create_Playlists\\media\\Audiobooks\n",
      "fables01_12_lafontaine_jl_64kb.mp3\n",
      "Copied fables01_12_lafontaine_jl_64kb.mp3 to C:\\Users\\nadege\\Data\\CORTIFY\\Cortify_Media\\Create_Playlists\\media\\Audiobooks\n",
      "fables01_13_lafontaine_jl_64kb.mp3\n",
      "Copied fables01_13_lafontaine_jl_64kb.mp3 to C:\\Users\\nadege\\Data\\CORTIFY\\Cortify_Media\\Create_Playlists\\media\\Audiobooks\n",
      "fables01_14_lafontaine_jl_64kb.mp3\n",
      "Copied fables01_14_lafontaine_jl_64kb.mp3 to C:\\Users\\nadege\\Data\\CORTIFY\\Cortify_Media\\Create_Playlists\\media\\Audiobooks\n",
      "fables01_15_lafontaine_jl_64kb.mp3\n",
      "Copied fables01_15_lafontaine_jl_64kb.mp3 to C:\\Users\\nadege\\Data\\CORTIFY\\Cortify_Media\\Create_Playlists\\media\\Audiobooks\n",
      "fables01_16_lafontaine_jl_64kb.mp3\n",
      "Copied fables01_16_lafontaine_jl_64kb.mp3 to C:\\Users\\nadege\\Data\\CORTIFY\\Cortify_Media\\Create_Playlists\\media\\Audiobooks\n",
      "fables01_17_lafontaine_jl_64kb.mp3\n",
      "Copied fables01_17_lafontaine_jl_64kb.mp3 to C:\\Users\\nadege\\Data\\CORTIFY\\Cortify_Media\\Create_Playlists\\media\\Audiobooks\n",
      "fables01_18_lafontaine_jl_64kb.mp3\n",
      "Copied fables01_18_lafontaine_jl_64kb.mp3 to C:\\Users\\nadege\\Data\\CORTIFY\\Cortify_Media\\Create_Playlists\\media\\Audiobooks\n",
      "fables01_19_lafontaine_jl_64kb.mp3\n",
      "Copied fables01_19_lafontaine_jl_64kb.mp3 to C:\\Users\\nadege\\Data\\CORTIFY\\Cortify_Media\\Create_Playlists\\media\\Audiobooks\n",
      "fables01_20_lafontaine_jl_64kb.mp3\n",
      "Copied fables01_20_lafontaine_jl_64kb.mp3 to C:\\Users\\nadege\\Data\\CORTIFY\\Cortify_Media\\Create_Playlists\\media\\Audiobooks\n",
      "fables01_21_lafontaine_jl_64kb.mp3\n",
      "Copied fables01_21_lafontaine_jl_64kb.mp3 to C:\\Users\\nadege\\Data\\CORTIFY\\Cortify_Media\\Create_Playlists\\media\\Audiobooks\n",
      "fables01_22_lafontaine_jl_64kb.mp3\n",
      "Copied fables01_22_lafontaine_jl_64kb.mp3 to C:\\Users\\nadege\\Data\\CORTIFY\\Cortify_Media\\Create_Playlists\\media\\Audiobooks\n",
      "Face of an Angel.mp3\n",
      "Copied Face of an Angel.mp3 to C:\\Users\\nadege\\Data\\CORTIFY\\Cortify_Media\\Create_Playlists\\media\\Musique\n",
      "Fung02.mp3\n",
      "Copied Fung02.mp3 to C:\\Users\\nadege\\Data\\CORTIFY\\Cortify_Media\\Create_Playlists\\media\\Musique\n",
      "Gandharvas Gathering.mp3\n",
      "Copied Gandharvas Gathering.mp3 to C:\\Users\\nadege\\Data\\CORTIFY\\Cortify_Media\\Create_Playlists\\media\\Musique\n",
      "Garritson08.mp3\n",
      "Copied Garritson08.mp3 to C:\\Users\\nadege\\Data\\CORTIFY\\Cortify_Media\\Create_Playlists\\media\\Musique\n",
      "Gokcin04.mp3\n",
      "Copied Gokcin04.mp3 to C:\\Users\\nadege\\Data\\CORTIFY\\Cortify_Media\\Create_Playlists\\media\\Musique\n",
      "Hey, Fred!.mp3\n",
      "Copied Hey, Fred!.mp3 to C:\\Users\\nadege\\Data\\CORTIFY\\Cortify_Media\\Create_Playlists\\media\\Musique\n",
      "Homesick.mp3\n",
      "Copied Homesick.mp3 to C:\\Users\\nadege\\Data\\CORTIFY\\Cortify_Media\\Create_Playlists\\media\\Musique\n",
      "Huang13.mp3\n",
      "Copied Huang13.mp3 to C:\\Users\\nadege\\Data\\CORTIFY\\Cortify_Media\\Create_Playlists\\media\\Musique\n",
      "Invisible Path.mp3\n",
      "Copied Invisible Path.mp3 to C:\\Users\\nadege\\Data\\CORTIFY\\Cortify_Media\\Create_Playlists\\media\\Musique\n",
      "J'ai testé la glissitude des bananes - Réponse à @Squeezie.mp4\n",
      "Copied J'ai testé la glissitude des bananes - Réponse à @Squeezie.mp4 to C:\\Users\\nadege\\Data\\CORTIFY\\Cortify_Media\\Create_Playlists\\media\\Vidéos\n",
      "Jia01.mp3\n",
      "Copied Jia01.mp3 to C:\\Users\\nadege\\Data\\CORTIFY\\Cortify_Media\\Create_Playlists\\media\\Musique\n",
      "Jussow03.mp3\n",
      "Copied Jussow03.mp3 to C:\\Users\\nadege\\Data\\CORTIFY\\Cortify_Media\\Create_Playlists\\media\\Musique\n",
      "Jussow08.mp3\n",
      "Copied Jussow08.mp3 to C:\\Users\\nadege\\Data\\CORTIFY\\Cortify_Media\\Create_Playlists\\media\\Musique\n",
      "KimG01.mp3\n",
      "Copied KimG01.mp3 to C:\\Users\\nadege\\Data\\CORTIFY\\Cortify_Media\\Create_Playlists\\media\\Musique\n",
      "Ko09.mp3\n",
      "Copied Ko09.mp3 to C:\\Users\\nadege\\Data\\CORTIFY\\Cortify_Media\\Create_Playlists\\media\\Musique\n",
      "KRASNI05.mp3\n",
      "Copied KRASNI05.mp3 to C:\\Users\\nadege\\Data\\CORTIFY\\Cortify_Media\\Create_Playlists\\media\\Musique\n",
      "Kunz04.mp3\n",
      "Copied Kunz04.mp3 to C:\\Users\\nadege\\Data\\CORTIFY\\Cortify_Media\\Create_Playlists\\media\\Musique\n",
      "L etonnante histoire de la medecine du cerveau.mp4\n",
      "Copied L etonnante histoire de la medecine du cerveau.mp4 to C:\\Users\\nadege\\Data\\CORTIFY\\Cortify_Media\\Create_Playlists\\media\\Vidéos\n",
      "La vision surhumaine est là (mieux que l'IA).mp4\n",
      "Copied La vision surhumaine est là (mieux que l'IA).mp4 to C:\\Users\\nadege\\Data\\CORTIFY\\Cortify_Media\\Create_Playlists\\media\\Vidéos\n",
      "Le côté obscur de la patate.mp4\n",
      "Copied Le côté obscur de la patate.mp4 to C:\\Users\\nadege\\Data\\CORTIFY\\Cortify_Media\\Create_Playlists\\media\\Vidéos\n",
      "Le Mythe des Ninjas.mp4\n",
      "Copied Le Mythe des Ninjas.mp4 to C:\\Users\\nadege\\Data\\CORTIFY\\Cortify_Media\\Create_Playlists\\media\\Vidéos\n",
      "Le réflexe du cintre est... surprenant !.mp4\n",
      "Copied Le réflexe du cintre est... surprenant !.mp4 to C:\\Users\\nadege\\Data\\CORTIFY\\Cortify_Media\\Create_Playlists\\media\\Vidéos\n",
      "LEE_H02.mp3\n",
      "Copied LEE_H02.mp3 to C:\\Users\\nadege\\Data\\CORTIFY\\Cortify_Media\\Create_Playlists\\media\\Musique\n",
      "lehorla_01_maupassant_64kb.mp3\n",
      "Copied lehorla_01_maupassant_64kb.mp3 to C:\\Users\\nadege\\Data\\CORTIFY\\Cortify_Media\\Create_Playlists\\media\\Audiobooks\n",
      "lehorla_02_maupassant_64kb.mp3\n",
      "Copied lehorla_02_maupassant_64kb.mp3 to C:\\Users\\nadege\\Data\\CORTIFY\\Cortify_Media\\Create_Playlists\\media\\Audiobooks\n",
      "lehorla_03_maupassant_64kb.mp3\n",
      "Copied lehorla_03_maupassant_64kb.mp3 to C:\\Users\\nadege\\Data\\CORTIFY\\Cortify_Media\\Create_Playlists\\media\\Audiobooks\n",
      "lehorla_04_maupassant_64kb.mp3\n",
      "Copied lehorla_04_maupassant_64kb.mp3 to C:\\Users\\nadege\\Data\\CORTIFY\\Cortify_Media\\Create_Playlists\\media\\Audiobooks\n",
      "lehorla_05_maupassant_64kb.mp3\n",
      "Copied lehorla_05_maupassant_64kb.mp3 to C:\\Users\\nadege\\Data\\CORTIFY\\Cortify_Media\\Create_Playlists\\media\\Audiobooks\n",
      "lehorla_06_maupassant_64kb.mp3\n",
      "Copied lehorla_06_maupassant_64kb.mp3 to C:\\Users\\nadege\\Data\\CORTIFY\\Cortify_Media\\Create_Playlists\\media\\Audiobooks\n",
      "lehorla_07_maupassant_64kb.mp3\n",
      "Copied lehorla_07_maupassant_64kb.mp3 to C:\\Users\\nadege\\Data\\CORTIFY\\Cortify_Media\\Create_Playlists\\media\\Audiobooks\n",
      "lehorla_08_maupassant_64kb.mp3\n",
      "Copied lehorla_08_maupassant_64kb.mp3 to C:\\Users\\nadege\\Data\\CORTIFY\\Cortify_Media\\Create_Playlists\\media\\Audiobooks\n",
      "lehorla_09_maupassant_64kb.mp3\n",
      "Copied lehorla_09_maupassant_64kb.mp3 to C:\\Users\\nadege\\Data\\CORTIFY\\Cortify_Media\\Create_Playlists\\media\\Audiobooks\n",
      "lehorla_10_maupassant_64kb.mp3\n",
      "Copied lehorla_10_maupassant_64kb.mp3 to C:\\Users\\nadege\\Data\\CORTIFY\\Cortify_Media\\Create_Playlists\\media\\Audiobooks\n",
      "lehorla_11_maupassant_64kb.mp3\n",
      "Copied lehorla_11_maupassant_64kb.mp3 to C:\\Users\\nadege\\Data\\CORTIFY\\Cortify_Media\\Create_Playlists\\media\\Audiobooks\n",
      "lehorla_12_maupassant_64kb.mp3\n",
      "Copied lehorla_12_maupassant_64kb.mp3 to C:\\Users\\nadege\\Data\\CORTIFY\\Cortify_Media\\Create_Playlists\\media\\Audiobooks\n",
      "lehorla_13_maupassant_64kb.mp3\n",
      "Copied lehorla_13_maupassant_64kb.mp3 to C:\\Users\\nadege\\Data\\CORTIFY\\Cortify_Media\\Create_Playlists\\media\\Audiobooks\n",
      "lehorla_14_maupassant_64kb.mp3\n",
      "Copied lehorla_14_maupassant_64kb.mp3 to C:\\Users\\nadege\\Data\\CORTIFY\\Cortify_Media\\Create_Playlists\\media\\Audiobooks\n",
      "Les animaux sont-ils droitiers des pattes.mp4\n",
      "Copied Les animaux sont-ils droitiers des pattes.mp4 to C:\\Users\\nadege\\Data\\CORTIFY\\Cortify_Media\\Create_Playlists\\media\\Vidéos\n",
      "Les Inconnus - Hôpital (des Inconnus).mp4\n",
      "Copied Les Inconnus - Hôpital (des Inconnus).mp4 to C:\\Users\\nadege\\Data\\CORTIFY\\Cortify_Media\\Create_Playlists\\media\\Vidéos\n",
      "Les Inconnus - La Révolution _ Au secours ! Tout va mieux ... au Théâtre de Paris.mp4\n",
      "Copied Les Inconnus - La Révolution _ Au secours ! Tout va mieux ... au Théâtre de Paris.mp4 to C:\\Users\\nadege\\Data\\CORTIFY\\Cortify_Media\\Create_Playlists\\media\\Vidéos\n",
      "Les Inconnus - Les journaux régionaux.mp4\n",
      "Copied Les Inconnus - Les journaux régionaux.mp4 to C:\\Users\\nadege\\Data\\CORTIFY\\Cortify_Media\\Create_Playlists\\media\\Vidéos\n",
      "Les Inconnus - Les Pétasses _ Au secours ! Tout va mieux ... au Théâtre de Paris.mp4\n",
      "Copied Les Inconnus - Les Pétasses _ Au secours ! Tout va mieux ... au Théâtre de Paris.mp4 to C:\\Users\\nadege\\Data\\CORTIFY\\Cortify_Media\\Create_Playlists\\media\\Vidéos\n",
      "Les Inconnus - Télémagouilles _ Le Nouveau Spectacle au Casino de Paris.mp4\n",
      "Copied Les Inconnus - Télémagouilles _ Le Nouveau Spectacle au Casino de Paris.mp4 to C:\\Users\\nadege\\Data\\CORTIFY\\Cortify_Media\\Create_Playlists\\media\\Vidéos\n",
      "Les inspirations d'Harry Potter - Motion VS History.mp4\n",
      "Les kinés  un réel pouvoir dans les mains ou du mentalisme.mp4\n",
      "Copied Les kinés  un réel pouvoir dans les mains ou du mentalisme.mp4 to C:\\Users\\nadege\\Data\\CORTIFY\\Cortify_Media\\Create_Playlists\\media\\Vidéos\n",
      "Levitsky07.mp3\n",
      "Copied Levitsky07.mp3 to C:\\Users\\nadege\\Data\\CORTIFY\\Cortify_Media\\Create_Playlists\\media\\Musique\n",
      "Levitsky16.mp3\n",
      "Copied Levitsky16.mp3 to C:\\Users\\nadege\\Data\\CORTIFY\\Cortify_Media\\Create_Playlists\\media\\Musique\n",
      "Lin08.mp3\n",
      "Copied Lin08.mp3 to C:\\Users\\nadege\\Data\\CORTIFY\\Cortify_Media\\Create_Playlists\\media\\Musique\n",
      "Lobo Guará - I. Livre No Bosque.mp3\n",
      "Copied Lobo Guará - I. Livre No Bosque.mp3 to C:\\Users\\nadege\\Data\\CORTIFY\\Cortify_Media\\Create_Playlists\\media\\Musique\n",
      "Lobo Guará - II. Existência Cósmica.mp3\n",
      "Copied Lobo Guará - II. Existência Cósmica.mp3 to C:\\Users\\nadege\\Data\\CORTIFY\\Cortify_Media\\Create_Playlists\\media\\Musique\n",
      "Lobo Guará - III. O Lobo Deve Viver.mp3\n",
      "Copied Lobo Guará - III. O Lobo Deve Viver.mp3 to C:\\Users\\nadege\\Data\\CORTIFY\\Cortify_Media\\Create_Playlists\\media\\Musique\n",
      "lupingentcambrioleur_1_leblanc_64kb.mp3\n",
      "Copied lupingentcambrioleur_1_leblanc_64kb.mp3 to C:\\Users\\nadege\\Data\\CORTIFY\\Cortify_Media\\Create_Playlists\\media\\Audiobooks\n",
      "lupingentcambrioleur_2_leblanc_64kb.mp3\n",
      "Copied lupingentcambrioleur_2_leblanc_64kb.mp3 to C:\\Users\\nadege\\Data\\CORTIFY\\Cortify_Media\\Create_Playlists\\media\\Audiobooks\n",
      "lupingentcambrioleur_3_leblanc_64kb.mp3\n",
      "Copied lupingentcambrioleur_3_leblanc_64kb.mp3 to C:\\Users\\nadege\\Data\\CORTIFY\\Cortify_Media\\Create_Playlists\\media\\Audiobooks\n",
      "lupingentcambrioleur_4_leblanc_64kb.mp3\n",
      "Copied lupingentcambrioleur_4_leblanc_64kb.mp3 to C:\\Users\\nadege\\Data\\CORTIFY\\Cortify_Media\\Create_Playlists\\media\\Audiobooks\n",
      "lupingentcambrioleur_5_leblanc_64kb.mp3\n",
      "Copied lupingentcambrioleur_5_leblanc_64kb.mp3 to C:\\Users\\nadege\\Data\\CORTIFY\\Cortify_Media\\Create_Playlists\\media\\Audiobooks\n",
      "lupingentcambrioleur_6_leblanc_64kb.mp3\n",
      "Copied lupingentcambrioleur_6_leblanc_64kb.mp3 to C:\\Users\\nadege\\Data\\CORTIFY\\Cortify_Media\\Create_Playlists\\media\\Audiobooks\n",
      "lupingentcambrioleur_7_leblanc_64kb.mp3\n",
      "Copied lupingentcambrioleur_7_leblanc_64kb.mp3 to C:\\Users\\nadege\\Data\\CORTIFY\\Cortify_Media\\Create_Playlists\\media\\Audiobooks\n",
      "lupingentcambrioleur_8_leblanc_64kb.mp3\n",
      "Copied lupingentcambrioleur_8_leblanc_64kb.mp3 to C:\\Users\\nadege\\Data\\CORTIFY\\Cortify_Media\\Create_Playlists\\media\\Audiobooks\n",
      "lupingentcambrioleur_9_leblanc_64kb.mp3\n",
      "Copied lupingentcambrioleur_9_leblanc_64kb.mp3 to C:\\Users\\nadege\\Data\\CORTIFY\\Cortify_Media\\Create_Playlists\\media\\Audiobooks\n",
      "L’écriture inclusive a-t-elle un intérêt Quelles preuves.mp4\n",
      "Copied L’écriture inclusive a-t-elle un intérêt Quelles preuves.mp4 to C:\\Users\\nadege\\Data\\CORTIFY\\Cortify_Media\\Create_Playlists\\media\\Vidéos\n",
      "Marengo - Unconscious smearing - 01 Low bass hard.mp3\n",
      "Copied Marengo - Unconscious smearing - 01 Low bass hard.mp3 to C:\\Users\\nadege\\Data\\CORTIFY\\Cortify_Media\\Create_Playlists\\media\\Musique\n",
      "Marengo - Unconscious smearing - 02 Bouche d'aération.mp3\n",
      "Copied Marengo - Unconscious smearing - 02 Bouche d'aération.mp3 to C:\\Users\\nadege\\Data\\CORTIFY\\Cortify_Media\\Create_Playlists\\media\\Musique\n",
      "Marengo - Unconscious smearing - 03 La colle.mp3\n",
      "Copied Marengo - Unconscious smearing - 03 La colle.mp3 to C:\\Users\\nadege\\Data\\CORTIFY\\Cortify_Media\\Create_Playlists\\media\\Musique\n",
      "Marengo - Unconscious smearing - 04 Paris.mp3\n",
      "Copied Marengo - Unconscious smearing - 04 Paris.mp3 to C:\\Users\\nadege\\Data\\CORTIFY\\Cortify_Media\\Create_Playlists\\media\\Musique\n",
      "Marengo - Unconscious smearing - 05 Medicine approach.mp3\n",
      "Copied Marengo - Unconscious smearing - 05 Medicine approach.mp3 to C:\\Users\\nadege\\Data\\CORTIFY\\Cortify_Media\\Create_Playlists\\media\\Musique\n",
      "Marengo - Unconscious smearing - 06 Oudi.mp3\n",
      "Copied Marengo - Unconscious smearing - 06 Oudi.mp3 to C:\\Users\\nadege\\Data\\CORTIFY\\Cortify_Media\\Create_Playlists\\media\\Musique\n",
      "Marengo - Unconscious smearing - 07 Turnpike.mp3\n",
      "Copied Marengo - Unconscious smearing - 07 Turnpike.mp3 to C:\\Users\\nadege\\Data\\CORTIFY\\Cortify_Media\\Create_Playlists\\media\\Musique\n",
      "Marengo - Unconscious smearing - 08 04-11.mp3\n",
      "Copied Marengo - Unconscious smearing - 08 04-11.mp3 to C:\\Users\\nadege\\Data\\CORTIFY\\Cortify_Media\\Create_Playlists\\media\\Musique\n",
      "Marengo - Unconscious smearing - 09 Spokedub.mp3\n",
      "Copied Marengo - Unconscious smearing - 09 Spokedub.mp3 to C:\\Users\\nadege\\Data\\CORTIFY\\Cortify_Media\\Create_Playlists\\media\\Musique\n",
      "ma_grand_mere_est_accro_aux_simshq_fr.mp3\n",
      "Copied ma_grand_mere_est_accro_aux_simshq_fr.mp3 to C:\\Users\\nadege\\Data\\CORTIFY\\Cortify_Media\\Create_Playlists\\media\\Podcasts\n",
      "Meravigliarsi.mp3\n",
      "Copied Meravigliarsi.mp3 to C:\\Users\\nadege\\Data\\CORTIFY\\Cortify_Media\\Create_Playlists\\media\\Musique\n",
      "Metropolis (1927).mp4\n",
      "Morning Song.mp3\n",
      "Copied Morning Song.mp3 to C:\\Users\\nadege\\Data\\CORTIFY\\Cortify_Media\\Create_Playlists\\media\\Musique\n",
      "MorozovS07.mp3\n",
      "Copied MorozovS07.mp3 to C:\\Users\\nadege\\Data\\CORTIFY\\Cortify_Media\\Create_Playlists\\media\\Musique\n",
      "Mythologie Aztèque - Mythes et Légendes.mp4\n",
      "Copied Mythologie Aztèque - Mythes et Légendes.mp4 to C:\\Users\\nadege\\Data\\CORTIFY\\Cortify_Media\\Create_Playlists\\media\\Vidéos\n",
      "Namirovsky02.mp3\n",
      "Copied Namirovsky02.mp3 to C:\\Users\\nadege\\Data\\CORTIFY\\Cortify_Media\\Create_Playlists\\media\\Musique\n",
      "Nota Bene - L'ordinateur.mp3\n",
      "Copied Nota Bene - L'ordinateur.mp3 to C:\\Users\\nadege\\Data\\CORTIFY\\Cortify_Media\\Create_Playlists\\media\\Podcasts\n",
      "Nota Bene - La mort de l'empereur Commode.mp3\n",
      "Copied Nota Bene - La mort de l'empereur Commode.mp3 to C:\\Users\\nadege\\Data\\CORTIFY\\Cortify_Media\\Create_Playlists\\media\\Podcasts\n",
      "Nota Bene - Le nez du Sphinx.mp3\n",
      "Copied Nota Bene - Le nez du Sphinx.mp3 to C:\\Users\\nadege\\Data\\CORTIFY\\Cortify_Media\\Create_Playlists\\media\\Podcasts\n",
      "Nota Bene - Le sourire.mp3\n",
      "Copied Nota Bene - Le sourire.mp3 to C:\\Users\\nadege\\Data\\CORTIFY\\Cortify_Media\\Create_Playlists\\media\\Podcasts\n",
      "Nota Bene - Les animaux et nous.mp3\n",
      "Copied Nota Bene - Les animaux et nous.mp3 to C:\\Users\\nadege\\Data\\CORTIFY\\Cortify_Media\\Create_Playlists\\media\\Podcasts\n",
      "Nova Viagem.mp3\n",
      "Copied Nova Viagem.mp3 to C:\\Users\\nadege\\Data\\CORTIFY\\Cortify_Media\\Create_Playlists\\media\\Musique\n",
      "November Black.mp3\n",
      "Copied November Black.mp3 to C:\\Users\\nadege\\Data\\CORTIFY\\Cortify_Media\\Create_Playlists\\media\\Musique\n",
      "Não Tenha Medo (feat. John Anthony Calabrese).mp3\n",
      "Copied Não Tenha Medo (feat. John Anthony Calabrese).mp3 to C:\\Users\\nadege\\Data\\CORTIFY\\Cortify_Media\\Create_Playlists\\media\\Musique\n",
      "Please, Silently Walk Go!.mp3\n",
      "Copied Please, Silently Walk Go!.mp3 to C:\\Users\\nadege\\Data\\CORTIFY\\Cortify_Media\\Create_Playlists\\media\\Musique\n",
      "Pourquoi on a le nez qui coule en hiver.mp4\n",
      "Copied Pourquoi on a le nez qui coule en hiver.mp4 to C:\\Users\\nadege\\Data\\CORTIFY\\Cortify_Media\\Create_Playlists\\media\\Vidéos\n",
      "Pourquoi replier une notice de médicament est presque impossible.mp4\n",
      "Copied Pourquoi replier une notice de médicament est presque impossible.mp4 to C:\\Users\\nadege\\Data\\CORTIFY\\Cortify_Media\\Create_Playlists\\media\\Vidéos\n",
      "quatrefillesdrmarsch_01_alcott_64kb.mp3\n",
      "Copied quatrefillesdrmarsch_01_alcott_64kb.mp3 to C:\\Users\\nadege\\Data\\CORTIFY\\Cortify_Media\\Create_Playlists\\media\\Audiobooks\n",
      "quatrefillesdrmarsch_02_alcott_64kb.mp3\n",
      "Copied quatrefillesdrmarsch_02_alcott_64kb.mp3 to C:\\Users\\nadege\\Data\\CORTIFY\\Cortify_Media\\Create_Playlists\\media\\Audiobooks\n",
      "quatrefillesdrmarsch_03_alcott_64kb.mp3\n",
      "Copied quatrefillesdrmarsch_03_alcott_64kb.mp3 to C:\\Users\\nadege\\Data\\CORTIFY\\Cortify_Media\\Create_Playlists\\media\\Audiobooks\n",
      "quatrefillesdrmarsch_04_alcott_64kb.mp3\n",
      "Copied quatrefillesdrmarsch_04_alcott_64kb.mp3 to C:\\Users\\nadege\\Data\\CORTIFY\\Cortify_Media\\Create_Playlists\\media\\Audiobooks\n",
      "quatrefillesdrmarsch_05_alcott_64kb.mp3\n",
      "Copied quatrefillesdrmarsch_05_alcott_64kb.mp3 to C:\\Users\\nadege\\Data\\CORTIFY\\Cortify_Media\\Create_Playlists\\media\\Audiobooks\n",
      "quatrefillesdrmarsch_06_alcott_64kb.mp3\n",
      "Copied quatrefillesdrmarsch_06_alcott_64kb.mp3 to C:\\Users\\nadege\\Data\\CORTIFY\\Cortify_Media\\Create_Playlists\\media\\Audiobooks\n",
      "quatrefillesdrmarsch_07_alcott_64kb.mp3\n",
      "Copied quatrefillesdrmarsch_07_alcott_64kb.mp3 to C:\\Users\\nadege\\Data\\CORTIFY\\Cortify_Media\\Create_Playlists\\media\\Audiobooks\n",
      "quatrefillesdrmarsch_08_alcott_64kb.mp3\n",
      "Copied quatrefillesdrmarsch_08_alcott_64kb.mp3 to C:\\Users\\nadege\\Data\\CORTIFY\\Cortify_Media\\Create_Playlists\\media\\Audiobooks\n",
      "quatrefillesdrmarsch_09_alcott_64kb.mp3\n",
      "Copied quatrefillesdrmarsch_09_alcott_64kb.mp3 to C:\\Users\\nadege\\Data\\CORTIFY\\Cortify_Media\\Create_Playlists\\media\\Audiobooks\n",
      "quatrefillesdrmarsch_10_alcott_64kb.mp3\n",
      "Copied quatrefillesdrmarsch_10_alcott_64kb.mp3 to C:\\Users\\nadege\\Data\\CORTIFY\\Cortify_Media\\Create_Playlists\\media\\Audiobooks\n",
      "quatrefillesdrmarsch_11_alcott_64kb.mp3\n",
      "Copied quatrefillesdrmarsch_11_alcott_64kb.mp3 to C:\\Users\\nadege\\Data\\CORTIFY\\Cortify_Media\\Create_Playlists\\media\\Audiobooks\n",
      "quatrefillesdrmarsch_12_alcott_64kb.mp3\n",
      "Copied quatrefillesdrmarsch_12_alcott_64kb.mp3 to C:\\Users\\nadege\\Data\\CORTIFY\\Cortify_Media\\Create_Playlists\\media\\Audiobooks\n",
      "quatrefillesdrmarsch_13_alcott_64kb.mp3\n",
      "Copied quatrefillesdrmarsch_13_alcott_64kb.mp3 to C:\\Users\\nadege\\Data\\CORTIFY\\Cortify_Media\\Create_Playlists\\media\\Audiobooks\n",
      "quatrefillesdrmarsch_14_alcott_64kb.mp3\n",
      "Copied quatrefillesdrmarsch_14_alcott_64kb.mp3 to C:\\Users\\nadege\\Data\\CORTIFY\\Cortify_Media\\Create_Playlists\\media\\Audiobooks\n",
      "quatrefillesdrmarsch_15_alcott_64kb.mp3\n",
      "Copied quatrefillesdrmarsch_15_alcott_64kb.mp3 to C:\\Users\\nadege\\Data\\CORTIFY\\Cortify_Media\\Create_Playlists\\media\\Audiobooks\n",
      "quatrefillesdrmarsch_16_alcott_64kb.mp3\n",
      "Copied quatrefillesdrmarsch_16_alcott_64kb.mp3 to C:\\Users\\nadege\\Data\\CORTIFY\\Cortify_Media\\Create_Playlists\\media\\Audiobooks\n",
      "quatrefillesdrmarsch_17_alcott_64kb.mp3\n",
      "Copied quatrefillesdrmarsch_17_alcott_64kb.mp3 to C:\\Users\\nadege\\Data\\CORTIFY\\Cortify_Media\\Create_Playlists\\media\\Audiobooks\n",
      "quatrefillesdrmarsch_18_alcott_64kb.mp3\n",
      "Copied quatrefillesdrmarsch_18_alcott_64kb.mp3 to C:\\Users\\nadege\\Data\\CORTIFY\\Cortify_Media\\Create_Playlists\\media\\Audiobooks\n",
      "quatrefillesdrmarsch_19_alcott_64kb.mp3\n",
      "Copied quatrefillesdrmarsch_19_alcott_64kb.mp3 to C:\\Users\\nadege\\Data\\CORTIFY\\Cortify_Media\\Create_Playlists\\media\\Audiobooks\n",
      "quatrefillesdrmarsch_20_alcott_64kb.mp3\n",
      "Copied quatrefillesdrmarsch_20_alcott_64kb.mp3 to C:\\Users\\nadege\\Data\\CORTIFY\\Cortify_Media\\Create_Playlists\\media\\Audiobooks\n",
      "quatrefillesdrmarsch_21_alcott_64kb.mp3\n",
      "Copied quatrefillesdrmarsch_21_alcott_64kb.mp3 to C:\\Users\\nadege\\Data\\CORTIFY\\Cortify_Media\\Create_Playlists\\media\\Audiobooks\n",
      "quatrefillesdrmarsch_22_alcott_64kb.mp3\n",
      "Copied quatrefillesdrmarsch_22_alcott_64kb.mp3 to C:\\Users\\nadege\\Data\\CORTIFY\\Cortify_Media\\Create_Playlists\\media\\Audiobooks\n",
      "quatrefillesdrmarsch_23_alcott_64kb.mp3\n",
      "Copied quatrefillesdrmarsch_23_alcott_64kb.mp3 to C:\\Users\\nadege\\Data\\CORTIFY\\Cortify_Media\\Create_Playlists\\media\\Audiobooks\n",
      "Sadhana (feat. Sabrina Agosto).mp3\n",
      "Copied Sadhana (feat. Sabrina Agosto).mp3 to C:\\Users\\nadege\\Data\\CORTIFY\\Cortify_Media\\Create_Playlists\\media\\Musique\n",
      "sorciere.mp3\n",
      "Copied sorciere.mp3 to C:\\Users\\nadege\\Data\\CORTIFY\\Cortify_Media\\Create_Playlists\\media\\Audiobooks\n",
      "sorciere_test.mp3\n",
      "Copied sorciere_test.mp3 to C:\\Users\\nadege\\Data\\CORTIFY\\Cortify_Media\\Create_Playlists\\media\\Audiobooks\n",
      "Staupe01.mp3\n",
      "Copied Staupe01.mp3 to C:\\Users\\nadege\\Data\\CORTIFY\\Cortify_Media\\Create_Playlists\\media\\Musique\n",
      "Swiss Sun in the 70's.mp3\n",
      "Copied Swiss Sun in the 70's.mp3 to C:\\Users\\nadege\\Data\\CORTIFY\\Cortify_Media\\Create_Playlists\\media\\Musique\n",
      "That's My Dad, Mowing the Lawn.mp3\n",
      "Copied That's My Dad, Mowing the Lawn.mp3 to C:\\Users\\nadege\\Data\\CORTIFY\\Cortify_Media\\Create_Playlists\\media\\Musique\n",
      "The Big View.mp3\n",
      "Copied The Big View.mp3 to C:\\Users\\nadege\\Data\\CORTIFY\\Cortify_Media\\Create_Playlists\\media\\Musique\n",
      "The End of a Perfect Day.mp3\n",
      "Copied The End of a Perfect Day.mp3 to C:\\Users\\nadege\\Data\\CORTIFY\\Cortify_Media\\Create_Playlists\\media\\Musique\n",
      "To the Last Dodo Bird.mp3\n",
      "Copied To the Last Dodo Bird.mp3 to C:\\Users\\nadege\\Data\\CORTIFY\\Cortify_Media\\Create_Playlists\\media\\Musique\n",
      "Voyage_dans_la_lune.mp4\n",
      "Copied Voyage_dans_la_lune.mp4 to C:\\Users\\nadege\\Data\\CORTIFY\\Cortify_Media\\Create_Playlists\\media\\Vidéos\n",
      "Waving Back at Me.mp3\n",
      "Copied Waving Back at Me.mp3 to C:\\Users\\nadege\\Data\\CORTIFY\\Cortify_Media\\Create_Playlists\\media\\Musique\n",
      "Yanagitani02.mp3\n",
      "Copied Yanagitani02.mp3 to C:\\Users\\nadege\\Data\\CORTIFY\\Cortify_Media\\Create_Playlists\\media\\Musique\n"
     ]
    }
   ],
   "source": [
    "sort_stim_with_triggers_to_genre_subfolders(cortify_media_path, overwrite=True)"
   ]
  },
  {
   "cell_type": "markdown",
   "metadata": {
    "collapsed": false
   },
   "source": [
    "## Generating the JSON Playlist\n",
    "\n",
    "Once the stimuli are processed and sorted, we need to generate a JSON playlist, which can be used for playback and presentation purposes in Cortify."
   ]
  },
  {
   "cell_type": "code",
   "execution_count": 7,
   "metadata": {
    "collapsed": false
   },
   "outputs": [
    {
     "name": "stdout",
     "output_type": "stream",
     "text": [
      "Parsing directory: C:\\Users\\nadege\\Data\\CORTIFY\\Cortify_Media\\Create_Playlists\\media\n",
      "Audiobooks\n",
      "  - 1_ch1-3.mp3\n",
      "  - 2_ch4-6.mp3\n",
      "  - 3_ch7-9.mp3\n",
      "  - 4_ch10-12.mp3\n",
      "  - 5_ch13-14.mp3\n",
      "  - 6_ch15-19.mp3\n",
      "  - 7_ch20-22.mp3\n",
      "  - 8_ch23-25.mp3\n",
      "  - 9_ch26-27.mp3\n",
      "  - aliceaupays_00_carroll_64kb.mp3\n",
      "  - aliceaupays_01_carroll_64kb.mp3\n",
      "  - aliceaupays_02_carroll_64kb.mp3\n",
      "  - aliceaupays_03_carroll_64kb.mp3\n",
      "  - aliceaupays_04_carroll_64kb.mp3\n",
      "  - aliceaupays_05_carroll_64kb.mp3\n",
      "  - aliceaupays_06_carroll_64kb.mp3\n",
      "  - aliceaupays_07_carroll_64kb.mp3\n",
      "  - aliceaupays_08_carroll_64kb.mp3\n",
      "  - aliceaupays_09_carroll_64kb.mp3\n",
      "  - aliceaupays_10_carroll_64kb.mp3\n",
      "  - aliceaupays_11_carroll_64kb.mp3\n",
      "  - aliceaupays_12_carroll_64kb.mp3\n",
      "  - contes001_01_tompouce_64kb.mp3\n",
      "  - contes001_02_petitchaperonrouge_64kb.mp3\n",
      "  - contes001_03_nainsmagiques_64kb.mp3\n",
      "  - contes001_04_princessepetitpois_64kb.mp3\n",
      "  - contes001_05_chatbotte_64kb.mp3\n",
      "  - contes001_06_renardetlechat_64kb.mp3\n",
      "  - contes001_07_vilainpetitcanard_64kb.mp3\n",
      "  - contes001_08_cendrillon_64kb.mp3\n",
      "  - contes001_09_coureurs_64kb.mp3\n",
      "  - contes001_10_petitpatre_64kb.mp3\n",
      "  - contes001_11_habitsneufsgrandduc_64kb.mp3\n",
      "  - contes001_12_doucebouillie_64kb.mp3\n",
      "  - contes001_13_cinqdanscossepois_64kb.mp3\n",
      "  - contes001_14_fees_64kb.mp3\n",
      "  - contes001_15_musiciensvillebreme_64kb.mp3\n",
      "  - contes001_16_stoiquesoldatplomb_64kb.mp3\n",
      "  - contes001_17_oiseaubleu_64kb.mp3\n",
      "  - contes001_18_tableanebatonmerveilleux_64kb.mp3\n",
      "  - contes001_19_petitfrerepetitesoeur_64kb.mp3\n",
      "  - contes001_20_dameholle_64kb.mp3\n",
      "  - contes002_01_belleboisdormant_64kb.mp3\n",
      "  - contes002_02_jeanchanceux_64kb.mp3\n",
      "  - contes002_03_mallevolante_64kb.mp3\n",
      "  - contes002_04_araigneepuce_64kb.mp3\n",
      "  - contes002_05_aiguilleareprise_64kb.mp3\n",
      "  - contes002_06_reineabeilles_64kb.mp3\n",
      "  - contes002_07_ricquethouppe_64kb.mp3\n",
      "  - contes002_08_presentsgnomes_64kb.mp3\n",
      "  - contes002_09_lievreherisson_64kb.mp3\n",
      "  - contes002_10_petitefilleallumettes_64kb.mp3\n",
      "  - contes002_11_troisfreres_64kb.mp3\n",
      "  - contes002_12_plumeencrier_64kb.mp3\n",
      "  - contes002_13_oursroitelet_64kb.mp3\n",
      "  - contes002_14_grandclauspetitclaus_64kb.mp3\n",
      "  - contes002_15_roimontagneor_64kb.mp3\n",
      "  - contes002_16_jugehabile_64kb.mp3\n",
      "  - contes002_17_huitchevreaux_64kb.mp3\n",
      "  - contes002_18_histoirekoli_64kb.mp3\n",
      "  - contes002_19_terrecomete_64kb.mp3\n",
      "  - contes002_20_ourashimatarodeesseocean_64kb.mp3\n",
      "  - fables01_00_lafontaine_jl_64kb.mp3\n",
      "  - fables01_01_lafontaine_jl_64kb.mp3\n",
      "  - fables01_02_lafontaine_jl_64kb.mp3\n",
      "  - fables01_03_lafontaine_jl_64kb.mp3\n",
      "  - fables01_04_lafontaine_jl_64kb.mp3\n",
      "  - fables01_05_lafontaine_jl_64kb.mp3\n",
      "  - fables01_06_lafontaine_jl_64kb.mp3\n",
      "  - fables01_07_lafontaine_jl_64kb.mp3\n",
      "  - fables01_08_lafontaine_jl_64kb.mp3\n",
      "  - fables01_09_lafontaine_jl_64kb.mp3\n",
      "  - fables01_10_lafontaine_jl_64kb.mp3\n",
      "  - fables01_11_lafontaine_jl_64kb.mp3\n",
      "  - fables01_12_lafontaine_jl_64kb.mp3\n",
      "  - fables01_13_lafontaine_jl_64kb.mp3\n",
      "  - fables01_14_lafontaine_jl_64kb.mp3\n",
      "  - fables01_15_lafontaine_jl_64kb.mp3\n",
      "  - fables01_16_lafontaine_jl_64kb.mp3\n",
      "  - fables01_17_lafontaine_jl_64kb.mp3\n",
      "  - fables01_18_lafontaine_jl_64kb.mp3\n",
      "  - fables01_19_lafontaine_jl_64kb.mp3\n",
      "  - fables01_20_lafontaine_jl_64kb.mp3\n",
      "  - fables01_21_lafontaine_jl_64kb.mp3\n",
      "  - fables01_22_lafontaine_jl_64kb.mp3\n",
      "  - lehorla_01_maupassant_64kb.mp3\n",
      "  - lehorla_02_maupassant_64kb.mp3\n",
      "  - lehorla_03_maupassant_64kb.mp3\n",
      "  - lehorla_04_maupassant_64kb.mp3\n",
      "  - lehorla_05_maupassant_64kb.mp3\n",
      "  - lehorla_06_maupassant_64kb.mp3\n",
      "  - lehorla_07_maupassant_64kb.mp3\n",
      "  - lehorla_08_maupassant_64kb.mp3\n",
      "  - lehorla_09_maupassant_64kb.mp3\n",
      "  - lehorla_10_maupassant_64kb.mp3\n",
      "  - lehorla_11_maupassant_64kb.mp3\n",
      "  - lehorla_12_maupassant_64kb.mp3\n",
      "  - lehorla_13_maupassant_64kb.mp3\n",
      "  - lehorla_14_maupassant_64kb.mp3\n",
      "  - lupingentcambrioleur_1_leblanc_64kb.mp3\n",
      "  - lupingentcambrioleur_2_leblanc_64kb.mp3\n",
      "  - lupingentcambrioleur_3_leblanc_64kb.mp3\n",
      "  - lupingentcambrioleur_4_leblanc_64kb.mp3\n",
      "  - lupingentcambrioleur_5_leblanc_64kb.mp3\n",
      "  - lupingentcambrioleur_6_leblanc_64kb.mp3\n",
      "  - lupingentcambrioleur_7_leblanc_64kb.mp3\n",
      "  - lupingentcambrioleur_8_leblanc_64kb.mp3\n",
      "  - lupingentcambrioleur_9_leblanc_64kb.mp3\n",
      "  - quatrefillesdrmarsch_01_alcott_64kb.mp3\n",
      "  - quatrefillesdrmarsch_02_alcott_64kb.mp3\n",
      "  - quatrefillesdrmarsch_03_alcott_64kb.mp3\n",
      "  - quatrefillesdrmarsch_04_alcott_64kb.mp3\n",
      "  - quatrefillesdrmarsch_05_alcott_64kb.mp3\n",
      "  - quatrefillesdrmarsch_06_alcott_64kb.mp3\n",
      "  - quatrefillesdrmarsch_07_alcott_64kb.mp3\n",
      "  - quatrefillesdrmarsch_08_alcott_64kb.mp3\n",
      "  - quatrefillesdrmarsch_09_alcott_64kb.mp3\n",
      "  - quatrefillesdrmarsch_10_alcott_64kb.mp3\n",
      "  - quatrefillesdrmarsch_11_alcott_64kb.mp3\n",
      "  - quatrefillesdrmarsch_12_alcott_64kb.mp3\n",
      "  - quatrefillesdrmarsch_13_alcott_64kb.mp3\n",
      "  - quatrefillesdrmarsch_14_alcott_64kb.mp3\n",
      "  - quatrefillesdrmarsch_15_alcott_64kb.mp3\n",
      "  - quatrefillesdrmarsch_16_alcott_64kb.mp3\n",
      "  - quatrefillesdrmarsch_17_alcott_64kb.mp3\n",
      "  - quatrefillesdrmarsch_18_alcott_64kb.mp3\n",
      "  - quatrefillesdrmarsch_19_alcott_64kb.mp3\n",
      "  - quatrefillesdrmarsch_20_alcott_64kb.mp3\n",
      "  - quatrefillesdrmarsch_21_alcott_64kb.mp3\n",
      "  - quatrefillesdrmarsch_22_alcott_64kb.mp3\n",
      "  - quatrefillesdrmarsch_23_alcott_64kb.mp3\n",
      "  - sorciere.mp3\n",
      "  - sorciere_test.mp3\n",
      "Musique\n",
      "  - 01 Andrew Codeman - Havanna.mp3\n",
      "  - 01 Eric Van der Westen - Water Surface.mp3\n",
      "  - 01 HoliznaPATREON - 2. Voyager.mp3\n",
      "  - 01 HoliznaPATREON - Bell Pepper and Beef (skip the beef).mp3\n",
      "  - 01 Invisible Path.mp3\n",
      "  - 01 Ketsa - City Vibe.mp3\n",
      "  - 01 The Ripplers Scrawny faces.mp3\n",
      "  - 02 Andrew Codeman - Old Road.mp3\n",
      "  - 02 Eric Van der Westen - Ici.mp3\n",
      "  - 02 Grandharvas Gathering.mp3\n",
      "  - 02 HoliznaPATREON - 4. Don't Look Up.mp3\n",
      "  - 02 HoliznaPATREON - Swimming Bird.mp3\n",
      "  - 02 Ketsa - Soul Feeling.mp3\n",
      "  - 02 The Ripplers Roving.mp3\n",
      "  - 03 ... de pronto me voy a Cuba.mp3\n",
      "  - 03 Andrew Codeman - Mountain Wind.mp3\n",
      "  - 03 Eric Van der Westen - Blue Is All That's Left.mp3\n",
      "  - 03 HoliznaPATREON - 1. Don't Look Down.mp3\n",
      "  - 03 HoliznaPATREON - Whatever Happens, Happens.mp3\n",
      "  - 03 Ketsa - Calling Angels.mp3\n",
      "  - 03 The Ripplers  Child Harold.mp3\n",
      "  - 04 Eric Van der Westen - Mark.mp3\n",
      "  - 04 HoliznaPATREON - 7. Radio Static.mp3\n",
      "  - 04 HoliznaPATREON - Bebop.mp3\n",
      "  - 04 Ketsa - Deep Wounds Need Healing.mp3\n",
      "  - 04 The Ripplers  Dusk.mp3\n",
      "  - 04 To the Last Dodo Bird.mp3\n",
      "  - 05 Eric Van der Westen - A Feather.mp3\n",
      "  - 05 HoliznaPATREON - 3. Happy People.mp3\n",
      "  - 05 HoliznaPATREON - Cruising.mp3\n",
      "  - 05 Ketsa - Turn It On.mp3\n",
      "  - 05 Meravigliarsi.mp3\n",
      "  - 05 The Ripplers  Cindy.mp3\n",
      "  - 06 Eric Van der Westen - Time-Out, Space-Out.mp3\n",
      "  - 06 HoliznaPATREON - 5. Deep Within.mp3\n",
      "  - 06 HoliznaPATREON - Easy Come Easy Go.mp3\n",
      "  - 06 Ketsa - Top House.mp3\n",
      "  - 06 Não Tenha Medo.mp3\n",
      "  - 06 The Ripplers  Tears of Blood Fade.mp3\n",
      "  - 07 Arup & Saverio.mp3\n",
      "  - 07 Eric Van der Westen - A Left Hook.mp3\n",
      "  - 07 HoliznaPATREON - 8. Years Lost.mp3\n",
      "  - 07 HoliznaPATREON - Fresh Bounty.mp3\n",
      "  - 07 Ketsa - Mistakes Are For Learning.mp3\n",
      "  - 07 The Ripplers  Shiny Eyes.mp3\n",
      "  - 08 Eric Van der Westen - Across The Bosphorus.mp3\n",
      "  - 08 HoliznaPATREON - 10. Cassette Deck.mp3\n",
      "  - 08 HoliznaPATREON - HEY AQUALUNG!.mp3\n",
      "  - 08 Ketsa - Not Broken.mp3\n",
      "  - 08 Lobo Guará- I. Livre no Bosque.mp3\n",
      "  - 08 The Ripplers  Lost Days.mp3\n",
      "  - 09 HoliznaPATREON - 12. Fresh Start.mp3\n",
      "  - 09 HoliznaPATREON - Prairie Oyster.mp3\n",
      "  - 09 Ketsa - High Time.mp3\n",
      "  - 09 Lobo Guará- II. Existência Cosmica.mp3\n",
      "  - 10 HoliznaPATREON - 9. Habits.mp3\n",
      "  - 10 HoliznaPATREON - Southside Sky.mp3\n",
      "  - 10 Ketsa - Heart So Torn inst.mp3\n",
      "  - 10 Lobo Guará- III. O Lobo Deve Viver.mp3\n",
      "  - 11 HoliznaPATREON - 11. Things Are Going To Change.mp3\n",
      "  - 11 Ketsa - Outside In.mp3\n",
      "  - 11 Nova Viagem.mp3\n",
      "  - 12 Awakening.mp3\n",
      "  - 12 HoliznaPATREON - 6. Memories.mp3\n",
      "  - 12 Ketsa - Can't Stop We.mp3\n",
      "  - 13 Ketsa - Endings Beginnings.mp3\n",
      "  - 13 Sadhana.mp3\n",
      "  - 14 Ketsa - Rain Man.mp3\n",
      "  - 15 Ketsa - Aches.mp3\n",
      "  - 16 Ketsa - Session.mp3\n",
      "  - 17 Ketsa - All Forgiven.mp3\n",
      "  - Arup & Saverio (feat. Arup Kanti Das).mp3\n",
      "  - Awakening.mp3\n",
      "  - Broberg02.mp3\n",
      "  - Carl.mp3\n",
      "  - Cui08.mp3\n",
      "  - De Pronto Me Voy a Cuba (feat. Paolino Dalla Porta).mp3\n",
      "  - Denisova04.mp3\n",
      "  - Denisova06.mp3\n",
      "  - Face of an Angel.mp3\n",
      "  - Fung02.mp3\n",
      "  - Gandharvas Gathering.mp3\n",
      "  - Garritson08.mp3\n",
      "  - Gokcin04.mp3\n",
      "  - Hey, Fred!.mp3\n",
      "  - Homesick.mp3\n",
      "  - Huang13.mp3\n",
      "  - Invisible Path.mp3\n",
      "  - Jia01.mp3\n",
      "  - Jussow03.mp3\n",
      "  - Jussow08.mp3\n",
      "  - KimG01.mp3\n",
      "  - Ko09.mp3\n",
      "  - KRASNI05.mp3\n",
      "  - Kunz04.mp3\n",
      "  - LEE_H02.mp3\n",
      "  - Levitsky07.mp3\n",
      "  - Levitsky16.mp3\n",
      "  - Lin08.mp3\n",
      "  - Lobo Guará - I. Livre No Bosque.mp3\n",
      "  - Lobo Guará - II. Existência Cósmica.mp3\n",
      "  - Lobo Guará - III. O Lobo Deve Viver.mp3\n",
      "  - Marengo - Unconscious smearing - 01 Low bass hard.mp3\n",
      "  - Marengo - Unconscious smearing - 02 Bouche d'aération.mp3\n",
      "  - Marengo - Unconscious smearing - 03 La colle.mp3\n",
      "  - Marengo - Unconscious smearing - 04 Paris.mp3\n",
      "  - Marengo - Unconscious smearing - 05 Medicine approach.mp3\n",
      "  - Marengo - Unconscious smearing - 06 Oudi.mp3\n",
      "  - Marengo - Unconscious smearing - 07 Turnpike.mp3\n",
      "  - Marengo - Unconscious smearing - 08 04-11.mp3\n",
      "  - Marengo - Unconscious smearing - 09 Spokedub.mp3\n",
      "  - Meravigliarsi.mp3\n",
      "  - Morning Song.mp3\n",
      "  - MorozovS07.mp3\n",
      "  - Namirovsky02.mp3\n",
      "  - Nova Viagem.mp3\n",
      "  - November Black.mp3\n",
      "  - Não Tenha Medo (feat. John Anthony Calabrese).mp3\n",
      "  - Please, Silently Walk Go!.mp3\n",
      "  - Sadhana (feat. Sabrina Agosto).mp3\n",
      "  - Staupe01.mp3\n",
      "  - Swiss Sun in the 70's.mp3\n",
      "  - That's My Dad, Mowing the Lawn.mp3\n",
      "  - The Big View.mp3\n",
      "  - The End of a Perfect Day.mp3\n",
      "  - To the Last Dodo Bird.mp3\n",
      "  - Waving Back at Me.mp3\n",
      "  - Yanagitani02.mp3\n",
      "Podcasts\n",
      "  - 17youyou_hq_fr.mp3\n",
      "  - 24canarivoice_hq_fr.mp3\n",
      "  - bêtises.mp3\n",
      "  - ma_grand_mere_est_accro_aux_simshq_fr.mp3\n",
      "  - Nota Bene - L'ordinateur.mp3\n",
      "  - Nota Bene - La mort de l'empereur Commode.mp3\n",
      "  - Nota Bene - Le nez du Sphinx.mp3\n",
      "  - Nota Bene - Le sourire.mp3\n",
      "  - Nota Bene - Les animaux et nous.mp3\n",
      "Vidéos\n",
      "  - 8 inventions chinoises en avance sur leur temps.mp4\n",
      "  - Comment naviguer DANS les vaisseaux sanguins.mp4\n",
      "  - J'ai testé la glissitude des bananes - Réponse à @Squeezie.mp4\n",
      "  - L etonnante histoire de la medecine du cerveau.mp4\n",
      "  - La vision surhumaine est là (mieux que l'IA).mp4\n",
      "  - Le côté obscur de la patate.mp4\n",
      "  - Le Mythe des Ninjas.mp4\n",
      "  - Le réflexe du cintre est... surprenant !.mp4\n",
      "  - Les animaux sont-ils droitiers des pattes.mp4\n",
      "  - Les Inconnus - Hôpital (des Inconnus).mp4\n",
      "  - Les Inconnus - La Révolution _ Au secours ! Tout va mieux ... au Théâtre de Paris.mp4\n",
      "  - Les Inconnus - Les journaux régionaux.mp4\n",
      "  - Les Inconnus - Les Pétasses _ Au secours ! Tout va mieux ... au Théâtre de Paris.mp4\n",
      "  - Les Inconnus - Télémagouilles _ Le Nouveau Spectacle au Casino de Paris.mp4\n",
      "  - Les inspirations d'Harry Potter - Motion VS History #8.mp4\n",
      "  - Les kinés  un réel pouvoir dans les mains ou du mentalisme.mp4\n",
      "  - L’écriture inclusive a-t-elle un intérêt Quelles preuves.mp4\n",
      "  - Mythologie Aztèque - Mythes et Légendes #4.mp4\n",
      "  - Mythologie Aztèque - Mythes et Légendes.mp4\n",
      "  - Pourquoi on a le nez qui coule en hiver.mp4\n",
      "  - Pourquoi replier une notice de médicament est presque impossible.mp4\n",
      "  - Voyage_dans_la_lune.mp4\n",
      "Saved playlist as C:\\Users\\nadege\\Data\\CORTIFY\\Cortify_Media\\Create_Playlists\\metadata\\metadata.json\n"
     ]
    }
   ],
   "source": [
    "create_json_playlist(cortify_media_path)"
   ]
  },
  {
   "cell_type": "markdown",
   "metadata": {
    "collapsed": false
   },
   "source": [
    "## Final Steps\n",
    "\n",
    "All done! Now copy the contents of `/Data/CORTIFY/Cortify_Media/Create_Playlists` to the `Cortify` folder on the tablet's internal storage.\n",
    "\n",
    "(If adding one or two files only, it might be more efficient to copy the files directly from `Create_Playlists` > `media` to the correct location on the `Cortify` > `media` folder on the tablet, but don't forget to also update the JSON file or the newly-added stimuli won't be displayed/available on the Cortify app.)"
   ]
  },
  {
   "cell_type": "code",
   "execution_count": null,
   "metadata": {
    "collapsed": false
   },
   "outputs": [],
   "source": []
  }
 ],
 "metadata": {
  "kernelspec": {
   "display_name": "Python 3",
   "language": "python",
   "name": "python3"
  },
  "language_info": {
   "codemirror_mode": {
    "name": "ipython",
    "version": 3
   },
   "file_extension": ".py",
   "mimetype": "text/x-python",
   "name": "python",
   "nbconvert_exporter": "python",
   "pygments_lexer": "ipython3",
   "version": "3.10.10"
  }
 },
 "nbformat": 4,
 "nbformat_minor": 0
}
